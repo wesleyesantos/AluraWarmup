{
  "nbformat": 4,
  "nbformat_minor": 0,
  "metadata": {
    "colab": {
      "provenance": [],
      "authorship_tag": "ABX9TyPQRO/sTRZM1WUpagvGu4Nk",
      "include_colab_link": true
    },
    "kernelspec": {
      "name": "python3",
      "display_name": "Python 3"
    },
    "language_info": {
      "name": "python"
    }
  },
  "cells": [
    {
      "cell_type": "markdown",
      "metadata": {
        "id": "view-in-github",
        "colab_type": "text"
      },
      "source": [
        "<a href=\"https://colab.research.google.com/github/wesleyesantos/AluraWarmup/blob/main/4_Opera%C3%A7%C3%B5es_b%C3%A1sicas_com_dicion%C3%A1rios.ipynb\" target=\"_parent\"><img src=\"https://colab.research.google.com/assets/colab-badge.svg\" alt=\"Open In Colab\"/></a>"
      ]
    },
    {
      "cell_type": "markdown",
      "source": [
        "#**Operações básicas com dicionários**"
      ],
      "metadata": {
        "id": "GiijzzaiymBh"
      }
    },
    {
      "cell_type": "code",
      "execution_count": null,
      "metadata": {
        "id": "YdZsYh4ti0_3"
      },
      "outputs": [],
      "source": [
        "dados = {\n",
        "    'Passat': {\n",
        "        'ano': 2012,\n",
        "        'km': 50000,\n",
        "        'valor': 75000,\n",
        "        'acessorios': ['Airbag', 'ABS']\n",
        "    },\n",
        "    'Crossfox': {\n",
        "        'ano': 2015,\n",
        "        'km': 35000,\n",
        "        'valor': 25000\n",
        "    }\n",
        "}"
      ]
    },
    {
      "cell_type": "code",
      "source": [
        "'acessorios' in dados ['Crossfox']"
      ],
      "metadata": {
        "colab": {
          "base_uri": "https://localhost:8080/"
        },
        "id": "XwxOxBbjy8pe",
        "outputId": "539fad98-dc00-4c63-9027-1bca12775c5b"
      },
      "execution_count": null,
      "outputs": [
        {
          "output_type": "execute_result",
          "data": {
            "text/plain": [
              "False"
            ]
          },
          "metadata": {},
          "execution_count": 10
        }
      ]
    },
    {
      "cell_type": "code",
      "source": [
        "'acessorios' in dados ['Passat']"
      ],
      "metadata": {
        "colab": {
          "base_uri": "https://localhost:8080/"
        },
        "id": "-ufkfK6fzQ6E",
        "outputId": "6015434e-48cc-457f-e96f-e621403e162f"
      },
      "execution_count": null,
      "outputs": [
        {
          "output_type": "execute_result",
          "data": {
            "text/plain": [
              "True"
            ]
          },
          "metadata": {},
          "execution_count": 11
        }
      ]
    },
    {
      "cell_type": "code",
      "source": [
        "dados['Crossfox']['valor' ]"
      ],
      "metadata": {
        "colab": {
          "base_uri": "https://localhost:8080/"
        },
        "id": "tt62Ar_Iz67E",
        "outputId": "3db6e06a-8da2-4c2f-a2c0-b50712bcf63d"
      },
      "execution_count": null,
      "outputs": [
        {
          "output_type": "execute_result",
          "data": {
            "text/plain": [
              "25000"
            ]
          },
          "metadata": {},
          "execution_count": 14
        }
      ]
    },
    {
      "cell_type": "code",
      "source": [
        "dados['Passat']['acessorios'][-1]"
      ],
      "metadata": {
        "colab": {
          "base_uri": "https://localhost:8080/",
          "height": 34
        },
        "id": "3oLw32p30A2K",
        "outputId": "093341bf-053d-4711-9a40-bf4a12ca4b81"
      },
      "execution_count": null,
      "outputs": [
        {
          "output_type": "execute_result",
          "data": {
            "text/plain": [
              "'ABS'"
            ],
            "application/vnd.google.colaboratory.intrinsic+json": {
              "type": "string"
            }
          },
          "metadata": {},
          "execution_count": 16
        }
      ]
    },
    {
      "cell_type": "code",
      "source": [],
      "metadata": {
        "id": "LtzOMKYE0mbL"
      },
      "execution_count": null,
      "outputs": []
    }
  ]
}