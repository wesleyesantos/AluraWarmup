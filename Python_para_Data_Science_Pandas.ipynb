{
  "nbformat": 4,
  "nbformat_minor": 0,
  "metadata": {
    "kernelspec": {
      "display_name": "Python 3",
      "language": "python",
      "name": "python3"
    },
    "language_info": {
      "codemirror_mode": {
        "name": "ipython",
        "version": 3
      },
      "file_extension": ".py",
      "mimetype": "text/x-python",
      "name": "python",
      "nbconvert_exporter": "python",
      "pygments_lexer": "ipython3",
      "version": "3.7.3"
    },
    "colab": {
      "provenance": [],
      "toc_visible": true,
      "include_colab_link": true
    }
  },
  "cells": [
    {
      "cell_type": "markdown",
      "metadata": {
        "id": "view-in-github",
        "colab_type": "text"
      },
      "source": [
        "<a href=\"https://colab.research.google.com/github/wesleyesantos/AluraWarmup/blob/main/Python_para_Data_Science_Pandas.ipynb\" target=\"_parent\"><img src=\"https://colab.research.google.com/assets/colab-badge.svg\" alt=\"Open In Colab\"/></a>"
      ]
    },
    {
      "cell_type": "markdown",
      "metadata": {
        "id": "W4bTJkJED0-t"
      },
      "source": [
        "# <font color=green> PYTHON PARA DATA SCIENCE - PANDAS\n",
        "---"
      ]
    },
    {
      "cell_type": "markdown",
      "metadata": {
        "id": "GOEcCc62D0-x"
      },
      "source": [
        "# <font color=green> 1. INTRODUÇÃO AO PYTHON\n",
        "---"
      ]
    },
    {
      "cell_type": "markdown",
      "metadata": {
        "id": "oGvoOJ-XD0-y"
      },
      "source": [
        "# 1.1 Introdução"
      ]
    },
    {
      "cell_type": "markdown",
      "metadata": {
        "id": "fam3BM0aD0-z"
      },
      "source": [
        "> Python é uma linguagem de programação de alto nível com suporte a múltiplos paradigmas de programação. É um projeto *open source* e desde seu surgimento, em 1991, vem se tornando uma das linguagens de programação interpretadas mais populares.\n",
        ">\n",
        "> Nos últimos anos Python desenvolveu uma comunidade ativa de processamento científico e análise de dados e vem se destacando como uma das linguagens mais relevantes quando o assundo é ciência de dados e machine learning, tanto no ambiente acadêmico como também no mercado."
      ]
    },
    {
      "cell_type": "markdown",
      "metadata": {
        "id": "6kH5DY-vD0-1"
      },
      "source": [
        "# 1.2 Instalação e ambiente de desenvolvimento"
      ]
    },
    {
      "cell_type": "markdown",
      "metadata": {
        "id": "BTpm79I2D0-2"
      },
      "source": [
        "### Instalação Local\n",
        "\n",
        "### https://www.python.org/downloads/\n",
        "### ou\n",
        "### https://www.anaconda.com/distribution/"
      ]
    },
    {
      "cell_type": "markdown",
      "metadata": {
        "id": "AuPS_XwRD0-3"
      },
      "source": [
        "### Google Colaboratory\n",
        "\n",
        "### https://colab.research.google.com"
      ]
    },
    {
      "cell_type": "markdown",
      "metadata": {
        "id": "4rUYsPrXD0-4"
      },
      "source": [
        "### Verificando versão"
      ]
    },
    {
      "cell_type": "code",
      "metadata": {
        "id": "PgTCVRB2D0-5",
        "colab": {
          "base_uri": "https://localhost:8080/"
        },
        "outputId": "3255267c-61e4-40a9-812c-d5e5b9d1d472"
      },
      "source": [
        "!python -V"
      ],
      "execution_count": null,
      "outputs": [
        {
          "output_type": "stream",
          "name": "stdout",
          "text": [
            "Python 3.10.12\n"
          ]
        }
      ]
    },
    {
      "cell_type": "markdown",
      "metadata": {
        "id": "lTtI6so4D0-9"
      },
      "source": [
        "# 1.3 Trabalhando com dados\n",
        "\n",
        "https://pandas.pydata.org/pandas-docs/stable/reference/api/pandas.set_option.html"
      ]
    },
    {
      "cell_type": "code",
      "metadata": {
        "id": "E_n4FUUWD0-9"
      },
      "source": [
        "import pandas as pd\n",
        "pd.set_option('display.max_rows', 1000)\n",
        "pd.set_option('display.max_columns', 1000)"
      ],
      "execution_count": null,
      "outputs": []
    },
    {
      "cell_type": "code",
      "metadata": {
        "id": "Kq-JdRHFD0-_"
      },
      "source": [
        "dataset = pd.read_csv('db.csv', sep = ';')"
      ],
      "execution_count": null,
      "outputs": []
    },
    {
      "cell_type": "code",
      "metadata": {
        "scrolled": true,
        "id": "mOV1rCA6D0_A",
        "colab": {
          "base_uri": "https://localhost:8080/",
          "height": 1000
        },
        "outputId": "b6899103-ae20-4944-b078-ce1f7014cfdf"
      },
      "source": [
        "dataset"
      ],
      "execution_count": null,
      "outputs": [
        {
          "output_type": "execute_result",
          "data": {
            "text/plain": [
              "                                       Nome                  Motor   Ano  \\\n",
              "0                             Jetta Variant        Motor 4.0 Turbo  2003   \n",
              "1                                    Passat           Motor Diesel  1991   \n",
              "2                                  Crossfox        Motor Diesel V8  1990   \n",
              "3                                       DS5        Motor 2.4 Turbo  2019   \n",
              "4                          Aston Martin DB4        Motor 2.4 Turbo  2006   \n",
              "5                             Palio Weekend          Motor 1.8 16v  2012   \n",
              "6                                        A5        Motor 4.0 Turbo  2019   \n",
              "7                            Série 3 Cabrio           Motor 1.0 8v  2009   \n",
              "8                              Dodge Jorney          Motor 3.0 32v  2010   \n",
              "9                                    Carens  Motor 5.0 V8 Bi-Turbo  2011   \n",
              "10                                Ford Edge        Motor Diesel V6  2002   \n",
              "11                                  Courier        Motor Diesel V8  2007   \n",
              "12                                     S-18               Motor V6  2001   \n",
              "13                                       J5               Motor V6  2019   \n",
              "14                             F-Type Coupé  Motor 5.0 V8 Bi-Turbo  2009   \n",
              "15                                      RAM        Motor Diesel V8  2016   \n",
              "16                                  Série 1          Motor 3.0 32v  2012   \n",
              "17                                       A3           Motor 1.0 8v  2019   \n",
              "18                                     XC90           Motor 1.0 8v  2016   \n",
              "19                           RS 3 Sportback          Motor 3.0 32v  2017   \n",
              "20                             Pajero Sport           Motor 1.0 8v  2002   \n",
              "21                                Série 1 M               Motor V8  2019   \n",
              "22                      Lamborghini Obvious        Motor Diesel V6  1994   \n",
              "23                    Effa Hafei Picape Baú           Motor Diesel  1991   \n",
              "24                   Lamborghini Murciélago  Motor 5.0 V8 Bi-Turbo  2019   \n",
              "25                                      Up!        Motor Diesel V6  2019   \n",
              "26                       Fiesta Rocam Sedan        Motor 4.0 Turbo  2016   \n",
              "27                          Sandero Stepway          Motor 3.0 32v  2019   \n",
              "28                                 Cayman S          Motor 3.0 32v  2002   \n",
              "29                                      V40        Motor 4.0 Turbo  1991   \n",
              "30                           Classe SLS AMG           Motor 1.0 8v  1997   \n",
              "31                                   Gol G4          Motor 2.0 16v  1995   \n",
              "32                                    Linea           Motor 1.0 8v  2018   \n",
              "33                                Ford F100          Motor 2.0 16v  1991   \n",
              "34                                       J2               Motor V8  2014   \n",
              "35                         Aston Martin DBS               Motor V8  1995   \n",
              "36                               Pajero TR4        Motor 2.4 Turbo  2019   \n",
              "37                               Polo Sedan               Motor V6  2019   \n",
              "38                               California           Motor 1.0 8v  2009   \n",
              "39                                      S60        Motor 2.4 Turbo  2019   \n",
              "40                                   Tucson          Motor 2.0 16v  2013   \n",
              "41                                     HB20               Motor V6  2003   \n",
              "42                                   Optima          Motor 1.8 16v  2019   \n",
              "43                                    Logan        Motor 4.0 Turbo  2002   \n",
              "44                        Range Rover Vogue           Motor 1.0 8v  2019   \n",
              "45                                   Sonata  Motor 5.0 V8 Bi-Turbo  2002   \n",
              "46                    Ford New Fiesta Sedan          Motor 3.0 32v  2004   \n",
              "47                     Série 5 Gran Turismo        Motor 4.0 Turbo  2001   \n",
              "48                                     CR-V        Motor Diesel V8  2019   \n",
              "49                            Ford EcoSport           Motor 1.0 8v  2003   \n",
              "50                                    Versa          Motor 3.0 32v  2009   \n",
              "51                                 Classe E           Motor 1.0 8v  2006   \n",
              "52                                 Carnival               Motor V8  2000   \n",
              "53         Aston Martin V8 Vantage Roadster        Motor 2.4 Turbo  2006   \n",
              "54                                   Hoggar  Motor 5.0 V8 Bi-Turbo  2010   \n",
              "55                                       A1  Motor 5.0 V8 Bi-Turbo  1994   \n",
              "56                 Aston Martin DB7 Vantage               Motor V6  2007   \n",
              "57                                      CLA           Motor 1.0 8v  2019   \n",
              "58                                   Accord               Motor V8  2019   \n",
              "59                              EXTRA 103EX          Motor 2.0 16v  2019   \n",
              "60                                  Sorento           Motor Diesel  2019   \n",
              "61                                    Tiggo          Motor 3.0 32v  2019   \n",
              "62                         New Fiesta Hatch           Motor Diesel  2017   \n",
              "63                            Jeep Renegade  Motor 5.0 V8 Bi-Turbo  2011   \n",
              "64                     Lamborghini Ankonian          Motor 2.0 16v  2001   \n",
              "65                              Space Cross  Motor 5.0 V8 Bi-Turbo  1996   \n",
              "66                                  Touareg               Motor V8  2019   \n",
              "67                                 Classe M           Motor 1.0 8v  1994   \n",
              "68                       Lancer Evolution X        Motor Diesel V6  2019   \n",
              "69                           Kangoo Express           Motor Diesel  2007   \n",
              "70                                      SW4        Motor Diesel V6  1994   \n",
              "71                             Cadillac ELR           Motor 1.0 8v  2007   \n",
              "72                                    Doblò          Motor 1.8 16v  1997   \n",
              "73                      Lamborghini Egoista          Motor 3.0 32v  2006   \n",
              "74                                      Fit           Motor Diesel  2013   \n",
              "75                                       C5          Motor 2.0 16v  1994   \n",
              "76                              Celer Hatch               Motor V8  2008   \n",
              "77                                    HB20S               Motor V8  2008   \n",
              "78                              Cielo Hatch           Motor Diesel  2019   \n",
              "79                                   Livina          Motor 2.0 16v  2019   \n",
              "80                                   Ducato  Motor 5.0 V8 Bi-Turbo  1999   \n",
              "81                                    March               Motor V6  2007   \n",
              "82                       Cadillac XTS sedan        Motor Diesel V6  1993   \n",
              "83                   Lamborghini Centenario               Motor V6  1995   \n",
              "84                                    Hilux  Motor 5.0 V8 Bi-Turbo  2019   \n",
              "85                              Grand Siena        Motor Diesel V8  2019   \n",
              "86                                   Symbol           Motor Diesel  2016   \n",
              "87               Aston Martin V12 GT Zagato        Motor 4.0 Turbo  2011   \n",
              "88                                   Fusion          Motor 1.8 16v  2019   \n",
              "89                                 A4 Sedan           Motor Diesel  2002   \n",
              "90                            Xsara Picasso          Motor 2.0 16v  2013   \n",
              "91                                   207 SW          Motor 3.0 32v  2017   \n",
              "92                                     Star               Motor V6  2016   \n",
              "93                              Doblò Cargo          Motor 3.0 32v  2008   \n",
              "94                             Cadillac CTS          Motor 1.8 16v  2018   \n",
              "95                                  Cayenne           Motor 1.0 8v  2003   \n",
              "96                                      Fox        Motor 4.0 Turbo  2003   \n",
              "97                              Tiida Hatch        Motor Diesel V6  2004   \n",
              "98                            Dodge Charger        Motor 2.4 Turbo  2010   \n",
              "99                                     Face               Motor V8  2019   \n",
              "100                                   Prius          Motor 3.0 32v  2006   \n",
              "101                                    Idea               Motor V6  2001   \n",
              "102                                      A8          Motor 2.0 16v  2019   \n",
              "103                          Série 1 Cabrio          Motor 3.0 32v  2015   \n",
              "104                                    Edge               Motor V6  2018   \n",
              "105                      Cadillac ATS sedan          Motor 1.8 16v  2017   \n",
              "106          Lamborghini Asterion LPI 910-4  Motor 5.0 V8 Bi-Turbo  1992   \n",
              "107                                Frontier               Motor V8  2001   \n",
              "108                            Série 3 Sedã          Motor 3.0 32v  1993   \n",
              "109                       Lamborghini LM002          Motor 1.8 16v  1995   \n",
              "110                            Cadillac XLR        Motor Diesel V8  2003   \n",
              "111                                A4 Avant           Motor Diesel  2014   \n",
              "112                                EcoSport        Motor 4.0 Turbo  2008   \n",
              "113                                      J3          Motor 1.8 16v  2013   \n",
              "114                                      Q3          Motor 3.0 32v  2019   \n",
              "115                 Aston Martin V8 Vantage               Motor V8  2017   \n",
              "116                             Z4 Roadster          Motor 3.0 32v  2019   \n",
              "117                   Lamborghini Ferruccio          Motor 3.0 32v  2019   \n",
              "118                                Ford Ka+          Motor 1.8 16v  2006   \n",
              "119                           Silver Shadow           Motor Diesel  2015   \n",
              "120                 Classe C 63 AMG Touring        Motor Diesel V8  2007   \n",
              "121                             Discovery 4        Motor 4.0 Turbo  2005   \n",
              "122                                Veloster        Motor Diesel V8  2017   \n",
              "123                                Classe C        Motor Diesel V6  1998   \n",
              "124                                   Camry           Motor Diesel  2019   \n",
              "125                               C5 Tourer        Motor Diesel V6  1999   \n",
              "126                                   R8 GT        Motor 4.0 Turbo  2019   \n",
              "127                                   Bongo        Motor Diesel V8  2009   \n",
              "128                                     ASX        Motor Diesel V8  2003   \n",
              "129                            Cadillac SRX  Motor 5.0 V8 Bi-Turbo  1994   \n",
              "130                               Classe CL               Motor V8  2019   \n",
              "131                              500 Abarth               Motor V6  1994   \n",
              "132                     Aston Martin Cygnet  Motor 5.0 V8 Bi-Turbo  2019   \n",
              "133                            Cadillac STS        Motor 4.0 Turbo  2015   \n",
              "134                        Aston Martin DB9          Motor 1.8 16v  1996   \n",
              "135                                 NX 200t        Motor 2.4 Turbo  1997   \n",
              "136                     Aston Martin One-77               Motor V6  1993   \n",
              "137                      Lamborghini Veneno          Motor 3.0 32v  2019   \n",
              "138                                  Sentra          Motor 2.0 16v  1992   \n",
              "139                                  Jumper        Motor 2.4 Turbo  1995   \n",
              "140                                     i30          Motor 1.8 16v  2019   \n",
              "141                                      X6        Motor Diesel V6  1990   \n",
              "142                                  Voyage  Motor 5.0 V8 Bi-Turbo  2019   \n",
              "143                    Phantom I Phantom II          Motor 1.8 16v  2019   \n",
              "144                          Passat Variant           Motor 1.0 8v  1991   \n",
              "145                                    Clio           Motor Diesel  1990   \n",
              "146                                Classe G        Motor Diesel V6  2012   \n",
              "147                            Silver Ghost          Motor 1.8 16v  2007   \n",
              "148                        Série 3 M3 Coupé           Motor Diesel  2013   \n",
              "149                     Gallardo LP 560 – 4           Motor Diesel  2000   \n",
              "150                            Freelander 2        Motor Diesel V6  2002   \n",
              "151                          Grand Cherokee  Motor 5.0 V8 Bi-Turbo  1996   \n",
              "152                       Aston Martin DBR9        Motor 4.0 Turbo  1996   \n",
              "153                                    Soul  Motor 5.0 V8 Bi-Turbo  2015   \n",
              "154                            Cadillac BLS               Motor V8  1993   \n",
              "155                                  RX 350               Motor V6  2013   \n",
              "156                                  Cayman          Motor 3.0 32v  2013   \n",
              "157                           Chana Utility           Motor Diesel  2009   \n",
              "158                                  308 CC        Motor 4.0 Turbo  2019   \n",
              "159                             L200 Triton        Motor Diesel V8  2019   \n",
              "160                                   Jetta  Motor 5.0 V8 Bi-Turbo  2002   \n",
              "161                               C4 Lounge               Motor V8  1997   \n",
              "162                               C4 Pallas           Motor 1.0 8v  1998   \n",
              "163                                   Equus          Motor 3.0 32v  2004   \n",
              "164                               Classe GL          Motor 3.0 32v  1996   \n",
              "165                      Range Rover Evoque          Motor 2.0 16v  2015   \n",
              "166                                Cherokee        Motor 4.0 Turbo  2016   \n",
              "167                                   Punto        Motor 4.0 Turbo  2005   \n",
              "168                              Grand Tour          Motor 3.0 32v  1999   \n",
              "169                                 Fluence        Motor Diesel V6  1995   \n",
              "170        Effa Hafei Picape Cabine Simples           Motor 1.0 8v  1993   \n",
              "171                                 Durango          Motor 2.0 16v  2004   \n",
              "172                                 Boxster        Motor Diesel V8  2013   \n",
              "173                             TT Roadster           Motor Diesel  1998   \n",
              "174                       Lamborghini Jalpa          Motor 1.8 16v  2018   \n",
              "175                              Classe SLK        Motor 4.0 Turbo  2019   \n",
              "176                                    Golf           Motor 1.0 8v  2018   \n",
              "177                              C3 Picasso          Motor 3.0 32v  2019   \n",
              "178                                     V50          Motor 2.0 16v  1990   \n",
              "179                                 Picanto        Motor 4.0 Turbo  2009   \n",
              "180                                 Cadenza        Motor Diesel V6  1990   \n",
              "181                              Etios Sedã  Motor 5.0 V8 Bi-Turbo  2006   \n",
              "182                                  Alsvin        Motor Diesel V8  2002   \n",
              "183                            Cadillac ATS        Motor Diesel V6  1991   \n",
              "184                         Série 3 M3 Sedã        Motor Diesel V6  1992   \n",
              "185                                Classe S          Motor 3.0 32v  2019   \n",
              "186                                      T6          Motor 3.0 32v  2019   \n",
              "187                        Aston Martin DB7        Motor Diesel V8  2005   \n",
              "188                               207 Sedan        Motor 4.0 Turbo  2010   \n",
              "189                     Aston Martin Virage           Motor Diesel  2019   \n",
              "190                                   Azera          Motor 1.8 16v  2016   \n",
              "191                         Vantage Volante        Motor Diesel V8  2019   \n",
              "192                                Siena EL               Motor V8  2010   \n",
              "193                         Palio Adventure        Motor Diesel V8  1994   \n",
              "194                                   HB20X               Motor V8  2001   \n",
              "195                                      HR  Motor 5.0 V8 Bi-Turbo  2014   \n",
              "196                   Cadillac STS V-Series          Motor 2.0 16v  1996   \n",
              "197                           Série 1 Coupé           Motor 1.0 8v  1993   \n",
              "198                                SpaceFox               Motor V8  1993   \n",
              "199                                     C30           Motor 1.0 8v  2001   \n",
              "200                                J3 Turin               Motor V6  2019   \n",
              "201                                Classe B        Motor Diesel V8  2019   \n",
              "202                                  Parati        Motor Diesel V8  2019   \n",
              "203                   Cadillac CTS V-Series        Motor 4.0 Turbo  2007   \n",
              "204                                   Sedan               Motor V8  2019   \n",
              "205                       Classe CLS 63 AMG        Motor Diesel V6  2016   \n",
              "206                                Aircross           Motor 1.0 8v  2014   \n",
              "207                Aston Martin V12 Vantage               Motor V8  2019   \n",
              "208                                 Sandero           Motor Diesel  2015   \n",
              "209                              New Fiesta  Motor 5.0 V8 Bi-Turbo  2015   \n",
              "210                                     XKR           Motor Diesel  1996   \n",
              "211                                      X5           Motor Diesel  2002   \n",
              "212                            Cadillac DTS          Motor 1.8 16v  2005   \n",
              "213                            Pajero Dakar        Motor 4.0 Turbo  1995   \n",
              "214                                Classe A           Motor 1.0 8v  1999   \n",
              "215                     Ford Focus Fastback        Motor 4.0 Turbo  2005   \n",
              "216                                 Partner        Motor 2.4 Turbo  2019   \n",
              "217                                      R8               Motor V6  1997   \n",
              "218                Aston Martin DBS Volante        Motor 4.0 Turbo  1990   \n",
              "219                                  Mohave        Motor Diesel V6  2001   \n",
              "220                                   Fusca          Motor 3.0 32v  2013   \n",
              "221                            Chana Family               Motor V8  2019   \n",
              "222                                    XC40        Motor 2.4 Turbo  2017   \n",
              "223  Phantom I Jonckheere Aerodynamic Coupe          Motor 1.8 16v  2011   \n",
              "224                                   Boxer               Motor V6  2005   \n",
              "225                             Chana Cargo          Motor 2.0 16v  2007   \n",
              "226                            Dodge Dakota           Motor Diesel  1993   \n",
              "227                                      X1        Motor Diesel V8  1991   \n",
              "228                                     GLA           Motor 1.0 8v  1991   \n",
              "229                       Range Rover Sport           Motor 1.0 8v  1997   \n",
              "230                                     DS3          Motor 1.8 16v  2000   \n",
              "231                                Veracruz        Motor Diesel V8  2007   \n",
              "232    Cadillac CTS coupe, sedan, and wagon               Motor V8  2006   \n",
              "233                                  i30 CW           Motor Diesel  2015   \n",
              "234                             Phantom III        Motor Diesel V6  2008   \n",
              "235                                A3 Sedan               Motor V6  2019   \n",
              "236                Aston Martin DB9 Volante          Motor 2.0 16v  1996   \n",
              "237                            Série 7 Sedã           Motor Diesel  2019   \n",
              "238                    Lamborghini Reventón        Motor 4.0 Turbo  2019   \n",
              "239                            Grand Livina          Motor 2.0 16v  2014   \n",
              "240                                     V60           Motor Diesel  2004   \n",
              "241          Effa Hafei Picape Cabine Dupla               Motor V6  2008   \n",
              "242                              Benni Mini               Motor V8  2019   \n",
              "243                                     Uno        Motor Diesel V6  2019   \n",
              "244                             L200 Savana          Motor 2.0 16v  2012   \n",
              "245                                Santa Fe          Motor 3.0 32v  2019   \n",
              "246                                     RS5               Motor V6  1996   \n",
              "247                                  Cerato               Motor V6  2011   \n",
              "248                                    XC60        Motor 4.0 Turbo  2019   \n",
              "249                                 LS 460L        Motor Diesel V8  2010   \n",
              "250              Lamborghini Sesto Elemento               Motor V8  2007   \n",
              "251                     Lamborghini Huracán               Motor V8  1994   \n",
              "252                                      A7           Motor 1.0 8v  2007   \n",
              "253                            Phantom 2013               Motor V8  2014   \n",
              "254                   Cadillac Ciel concept               Motor V8  1991   \n",
              "255                              Classe GLK  Motor 5.0 V8 Bi-Turbo  2002   \n",
              "256                        Aston Martin DB5           Motor Diesel  1996   \n",
              "257                                   Macan        Motor Diesel V6  1992   \n",
              "\n",
              "     Quilometragem  Zero_km  \\\n",
              "0          44410.0    False   \n",
              "1           5712.0    False   \n",
              "2          37123.0    False   \n",
              "3              NaN     True   \n",
              "4          25757.0    False   \n",
              "5          10728.0    False   \n",
              "6              NaN     True   \n",
              "7          77599.0    False   \n",
              "8          99197.0    False   \n",
              "9          37978.0    False   \n",
              "10         12859.0    False   \n",
              "11          8052.0    False   \n",
              "12         89773.0    False   \n",
              "13             NaN     True   \n",
              "14         41457.0    False   \n",
              "15        115607.0    False   \n",
              "16         46449.0    False   \n",
              "17             NaN     True   \n",
              "18         37086.0    False   \n",
              "19         15173.0    False   \n",
              "20        101193.0    False   \n",
              "21             NaN     True   \n",
              "22         98079.0    False   \n",
              "23        102959.0    False   \n",
              "24             NaN     True   \n",
              "25             NaN     True   \n",
              "26          5795.0    False   \n",
              "27             NaN     True   \n",
              "28         58848.0    False   \n",
              "29         94381.0    False   \n",
              "30         30163.0    False   \n",
              "31         53332.0    False   \n",
              "32         17720.0    False   \n",
              "33         33808.0    False   \n",
              "34         90684.0    False   \n",
              "35         43975.0    False   \n",
              "36             NaN     True   \n",
              "37             NaN     True   \n",
              "38          5526.0    False   \n",
              "39             NaN     True   \n",
              "40         93415.0    False   \n",
              "41         40762.0    False   \n",
              "42             NaN     True   \n",
              "43         86302.0    False   \n",
              "44             NaN     True   \n",
              "45          9755.0    False   \n",
              "46         69945.0    False   \n",
              "47          2395.0    False   \n",
              "48             NaN     True   \n",
              "49         80349.0    False   \n",
              "50         85554.0    False   \n",
              "51         50496.0    False   \n",
              "52         67716.0    False   \n",
              "53         93947.0    False   \n",
              "54         35345.0    False   \n",
              "55         81007.0    False   \n",
              "56        119513.0    False   \n",
              "57             NaN     True   \n",
              "58             NaN     True   \n",
              "59             NaN     True   \n",
              "60             NaN     True   \n",
              "61             NaN     True   \n",
              "62        118895.0    False   \n",
              "63         48509.0    False   \n",
              "64        100912.0    False   \n",
              "65         95649.0    False   \n",
              "66             NaN     True   \n",
              "67         90495.0    False   \n",
              "68             NaN     True   \n",
              "69         29132.0    False   \n",
              "70         23802.0    False   \n",
              "71         84992.0    False   \n",
              "72         54395.0    False   \n",
              "73         26731.0    False   \n",
              "74         44329.0    False   \n",
              "75        118236.0    False   \n",
              "76        113808.0    False   \n",
              "77           610.0    False   \n",
              "78             NaN     True   \n",
              "79             NaN     True   \n",
              "80         12887.0    False   \n",
              "81         79607.0    False   \n",
              "82         90924.0    False   \n",
              "83         42733.0    False   \n",
              "84             NaN     True   \n",
              "85             NaN     True   \n",
              "86        117714.0    False   \n",
              "87        113885.0    False   \n",
              "88             NaN     True   \n",
              "89         30511.0    False   \n",
              "90         74867.0    False   \n",
              "91        119760.0    False   \n",
              "92          8356.0    False   \n",
              "93         64247.0    False   \n",
              "94         88661.0    False   \n",
              "95          4539.0    False   \n",
              "96        110116.0    False   \n",
              "97         33215.0    False   \n",
              "98         92001.0    False   \n",
              "99             NaN     True   \n",
              "100        81708.0    False   \n",
              "101        70641.0    False   \n",
              "102            NaN     True   \n",
              "103        91277.0    False   \n",
              "104        26544.0    False   \n",
              "105        52596.0    False   \n",
              "106        47503.0    False   \n",
              "107        89056.0    False   \n",
              "108        28834.0    False   \n",
              "109       110564.0    False   \n",
              "110        56638.0    False   \n",
              "111        17357.0    False   \n",
              "112        74015.0    False   \n",
              "113        15196.0    False   \n",
              "114            NaN     True   \n",
              "115        10821.0    False   \n",
              "116            NaN     True   \n",
              "117            NaN     True   \n",
              "118         9595.0    False   \n",
              "119        99052.0    False   \n",
              "120        52389.0    False   \n",
              "121       119945.0    False   \n",
              "122        96005.0    False   \n",
              "123        31639.0    False   \n",
              "124            NaN     True   \n",
              "125        80187.0    False   \n",
              "126            NaN     True   \n",
              "127        58212.0    False   \n",
              "128        61672.0    False   \n",
              "129        32017.0    False   \n",
              "130            NaN     True   \n",
              "131        56944.0    False   \n",
              "132            NaN     True   \n",
              "133        86519.0    False   \n",
              "134         4821.0    False   \n",
              "135       101025.0    False   \n",
              "136        30705.0    False   \n",
              "137            NaN     True   \n",
              "138        32555.0    False   \n",
              "139       103389.0    False   \n",
              "140            NaN     True   \n",
              "141        55289.0    False   \n",
              "142            NaN     True   \n",
              "143            NaN     True   \n",
              "144       115930.0    False   \n",
              "145        66437.0    False   \n",
              "146        96800.0    False   \n",
              "147        14237.0    False   \n",
              "148        19896.0    False   \n",
              "149       113045.0    False   \n",
              "150       114942.0    False   \n",
              "151         3173.0    False   \n",
              "152        83611.0    False   \n",
              "153        25356.0    False   \n",
              "154        88634.0    False   \n",
              "155         2314.0    False   \n",
              "156         2627.0    False   \n",
              "157        52034.0    False   \n",
              "158            NaN     True   \n",
              "159            NaN     True   \n",
              "160        79577.0    False   \n",
              "161       108201.0    False   \n",
              "162        76453.0    False   \n",
              "163        57683.0    False   \n",
              "164        96610.0    False   \n",
              "165       109001.0    False   \n",
              "166        26212.0    False   \n",
              "167        45971.0    False   \n",
              "168        49182.0    False   \n",
              "169        49907.0    False   \n",
              "170        38620.0    False   \n",
              "171        60996.0    False   \n",
              "172        73914.0    False   \n",
              "173       107392.0    False   \n",
              "174         9146.0    False   \n",
              "175            NaN     True   \n",
              "176        17924.0    False   \n",
              "177            NaN     True   \n",
              "178       116949.0    False   \n",
              "179        20476.0    False   \n",
              "180        52804.0    False   \n",
              "181         8849.0    False   \n",
              "182        91724.0    False   \n",
              "183        32056.0    False   \n",
              "184        74886.0    False   \n",
              "185            NaN     True   \n",
              "186            NaN     True   \n",
              "187        52189.0    False   \n",
              "188        83559.0    False   \n",
              "189            NaN     True   \n",
              "190        20328.0    False   \n",
              "191            NaN     True   \n",
              "192        75577.0    False   \n",
              "193        33659.0    False   \n",
              "194       104341.0    False   \n",
              "195        25510.0    False   \n",
              "196        18965.0    False   \n",
              "197        87161.0    False   \n",
              "198         6652.0    False   \n",
              "199        55738.0    False   \n",
              "200            NaN     True   \n",
              "201            NaN     True   \n",
              "202            NaN     True   \n",
              "203        64320.0    False   \n",
              "204            NaN     True   \n",
              "205        68678.0    False   \n",
              "206        71697.0    False   \n",
              "207            NaN     True   \n",
              "208        34783.0    False   \n",
              "209        33772.0    False   \n",
              "210        85127.0    False   \n",
              "211        13606.0    False   \n",
              "212        35647.0    False   \n",
              "213        95128.0    False   \n",
              "214        14046.0    False   \n",
              "215        41194.0    False   \n",
              "216            NaN     True   \n",
              "217        96100.0    False   \n",
              "218       103900.0    False   \n",
              "219        43814.0    False   \n",
              "220        24638.0    False   \n",
              "221            NaN     True   \n",
              "222       110966.0    False   \n",
              "223        15987.0    False   \n",
              "224        53369.0    False   \n",
              "225        10077.0    False   \n",
              "226        71544.0    False   \n",
              "227          107.0    False   \n",
              "228         8394.0    False   \n",
              "229        41498.0    False   \n",
              "230       116002.0    False   \n",
              "231       100858.0    False   \n",
              "232        67475.0    False   \n",
              "233         8497.0    False   \n",
              "234         4420.0    False   \n",
              "235            NaN     True   \n",
              "236        58537.0    False   \n",
              "237            NaN     True   \n",
              "238            NaN     True   \n",
              "239       112016.0    False   \n",
              "240        91840.0    False   \n",
              "241       112787.0    False   \n",
              "242            NaN     True   \n",
              "243            NaN     True   \n",
              "244         9293.0    False   \n",
              "245            NaN     True   \n",
              "246        55083.0    False   \n",
              "247        48796.0    False   \n",
              "248            NaN     True   \n",
              "249        89685.0    False   \n",
              "250        85384.0    False   \n",
              "251        98108.0    False   \n",
              "252        71280.0    False   \n",
              "253        27505.0    False   \n",
              "254        29981.0    False   \n",
              "255        52637.0    False   \n",
              "256         7685.0    False   \n",
              "257        50188.0    False   \n",
              "\n",
              "                                            Acessórios      Valor  \n",
              "0    ['Rodas de liga', 'Travas elétricas', 'Piloto ...   88078.64  \n",
              "1    ['Central multimídia', 'Teto panorâmico', 'Fre...  106161.94  \n",
              "2    ['Piloto automático', 'Controle de estabilidad...   72832.16  \n",
              "3    ['Travas elétricas', '4 X 4', 'Vidros elétrico...  124549.07  \n",
              "4    ['Rodas de liga', '4 X 4', 'Central multimídia...   92612.10  \n",
              "5    ['Sensor de estacionamento', 'Teto panorâmico'...   97497.73  \n",
              "6    ['Câmbio automático', 'Câmera de estacionament...   56445.20  \n",
              "7    ['Controle de estabilidade', 'Sensor crepuscul...  112310.44  \n",
              "8    ['Vidros elétricos', 'Piloto automático', 'Tet...  120716.27  \n",
              "9    ['Ar condicionado', 'Painel digital', 'Central...   76566.49  \n",
              "10   ['Sensor crepuscular', 'Rodas de liga', 'Teto ...   71647.59  \n",
              "11   ['Central multimídia', '4 X 4', 'Piloto automá...   73919.53  \n",
              "12   ['Bancos de couro', 'Sensor de chuva', 'Rodas ...  112732.99  \n",
              "13   ['Sensor crepuscular', 'Painel digital', 'Roda...   53183.38  \n",
              "14   ['Piloto automático', 'Sensor crepuscular', 'S...  127488.42  \n",
              "15   ['Sensor crepuscular', 'Câmbio automático', 'S...   59910.40  \n",
              "16   ['Teto panorâmico', 'Câmera de estacionamento'...   61118.59  \n",
              "17   ['4 X 4', 'Piloto automático', 'Central multim...   88552.39  \n",
              "18   ['Travas elétricas', 'Vidros elétricos', 'Teto...   62696.69  \n",
              "19   ['4 X 4', 'Piloto automático', 'Central multim...  101726.30  \n",
              "20   ['Sensor de estacionamento', 'Piloto automátic...  106147.38  \n",
              "21   ['Controle de estabilidade', 'Central multimíd...   94564.40  \n",
              "22   ['Rodas de liga', 'Câmbio automático', 'Travas...  133529.84  \n",
              "23   ['Controle de estabilidade', 'Painel digital',...  125684.65  \n",
              "24   ['Freios ABS', 'Câmbio automático', 'Ar condic...  121596.21  \n",
              "25   ['Sensor de estacionamento', 'Vidros elétricos...   71367.10  \n",
              "26   ['Ar condicionado', 'Bancos de couro', 'Câmbio...   95347.75  \n",
              "27   ['Freios ABS', 'Ar condicionado', 'Teto panorâ...  105432.84  \n",
              "28   ['Câmbio automático', 'Sensor de estacionament...   57045.27  \n",
              "29   ['Câmera de estacionamento', 'Sensor de estaci...  120432.70  \n",
              "30   ['Sensor de estacionamento', 'Controle de esta...   70707.20  \n",
              "31   ['Sensor crepuscular', '4 X 4', 'Vidros elétri...   69105.18  \n",
              "32   ['Piloto automático', 'Painel digital', 'Vidro...   59358.69  \n",
              "33   ['Controle de tração', 'Sensor crepuscular', '...   65955.40  \n",
              "34   ['Teto panorâmico', 'Sensor de estacionamento'...   60017.03  \n",
              "35   ['Teto panorâmico', 'Piloto automático', 'Ar c...  118909.52  \n",
              "36   ['Controle de tração', 'Bancos de couro', 'Câm...   51606.59  \n",
              "37   ['Sensor de chuva', 'Sensor crepuscular', 'Ar ...  123281.87  \n",
              "38   ['Rodas de liga', 'Ar condicionado', 'Câmera d...   69770.18  \n",
              "39   ['Teto panorâmico', 'Freios ABS', '4 X 4', 'Ar...  102609.54  \n",
              "40   ['Vidros elétricos', 'Sensor crepuscular', 'Fr...   67997.19  \n",
              "41   ['Sensor de chuva', 'Travas elétricas', 'Contr...  135235.29  \n",
              "42   ['Central multimídia', 'Ar condicionado', 'Tet...   86641.34  \n",
              "43   ['Câmera de estacionamento', 'Vidros elétricos...  136818.39  \n",
              "44   ['4 X 4', 'Vidros elétricos', 'Rodas de liga',...  117626.73  \n",
              "45   ['Piloto automático', 'Ar condicionado', 'Vidr...   56208.70  \n",
              "46   ['Teto panorâmico', 'Painel digital', 'Ar cond...   84222.65  \n",
              "47   ['Controle de tração', 'Piloto automático', 'A...   90781.65  \n",
              "48   ['Câmbio automático', 'Central multimídia', 'V...   64701.10  \n",
              "49   ['Vidros elétricos', 'Piloto automático', 'Pai...  126350.49  \n",
              "50   ['Bancos de couro', 'Ar condicionado', 'Rodas ...  148152.89  \n",
              "51   ['Freios ABS', 'Sensor de estacionamento', 'Ce...  132298.83  \n",
              "52   ['Travas elétricas', 'Câmbio automático', 'Câm...  137627.63  \n",
              "53   ['Câmbio automático', 'Câmera de estacionament...   80422.71  \n",
              "54   ['Controle de estabilidade', 'Bancos de couro'...   56373.99  \n",
              "55   ['Painel digital', 'Câmbio automático', 'Câmer...   70846.03  \n",
              "56   ['Sensor crepuscular', 'Piloto automático', 'T...  128694.23  \n",
              "57   ['Central multimídia', 'Sensor de chuva', 'Con...  133329.19  \n",
              "58   ['Sensor de estacionamento', 'Ar condicionado'...  131961.43  \n",
              "59   ['Sensor de estacionamento', 'Central multimíd...  112033.27  \n",
              "60   ['Sensor de chuva', 'Câmera de estacionamento'...   81399.35  \n",
              "61   ['Câmera de estacionamento', 'Freios ABS', 'Pi...   97163.10  \n",
              "62   ['Sensor de estacionamento', 'Travas elétricas...   66007.16  \n",
              "63   ['Vidros elétricos', 'Teto panorâmico', 'Banco...  128776.22  \n",
              "64   ['Bancos de couro', 'Câmera de estacionamento'...  142623.02  \n",
              "65   ['Teto panorâmico', 'Vidros elétricos', 'Senso...  136930.13  \n",
              "66   ['Controle de estabilidade', 'Piloto automátic...   66526.61  \n",
              "67   ['Central multimídia', 'Bancos de couro', 'Rod...  114154.87  \n",
              "68   ['Vidros elétricos', 'Câmbio automático', 'Con...  142392.75  \n",
              "69   ['Bancos de couro', 'Câmbio automático', 'Pilo...  146716.91  \n",
              "70   ['Sensor de chuva', 'Bancos de couro', 'Contro...  122485.68  \n",
              "71   ['Sensor crepuscular', 'Travas elétricas', 'Te...   97951.03  \n",
              "72   ['Câmera de estacionamento', 'Teto panorâmico'...   78283.49  \n",
              "73   ['Rodas de liga', 'Controle de tração', 'Centr...   83434.04  \n",
              "74   ['Freios ABS', 'Câmera de estacionamento', 'Câ...   77836.23  \n",
              "75   ['Painel digital', 'Teto panorâmico', 'Piloto ...   60813.92  \n",
              "76   ['Controle de estabilidade', 'Câmbio automátic...   91353.86  \n",
              "77   ['Teto panorâmico', 'Rodas de liga', 'Travas e...  116281.21  \n",
              "78   ['Painel digital', 'Central multimídia', 'Câme...  145197.70  \n",
              "79   ['Sensor crepuscular', 'Câmera de estacionamen...   50742.10  \n",
              "80   ['Sensor de chuva', 'Painel digital', 'Sensor ...   73033.53  \n",
              "81   ['Bancos de couro', 'Piloto automático', 'Sens...   54332.87  \n",
              "82   ['Ar condicionado', 'Câmbio automático', 'Sens...   52207.45  \n",
              "83   ['Central multimídia', 'Vidros elétricos', 'Se...   63578.50  \n",
              "84   ['4 X 4', 'Piloto automático', 'Teto panorâmic...   64507.72  \n",
              "85   ['Bancos de couro', 'Painel digital', 'Sensor ...  115075.59  \n",
              "86   ['4 X 4', 'Piloto automático', 'Sensor crepusc...  133030.60  \n",
              "87   ['Central multimídia', 'Piloto automático', 'S...  141591.86  \n",
              "88   ['Controle de tração', 'Câmbio automático', 'F...  100380.28  \n",
              "89   ['Câmera de estacionamento', '4 X 4', 'Travas ...   96369.04  \n",
              "90   ['Sensor de chuva', 'Teto panorâmico', 'Centra...  142603.84  \n",
              "91   ['Controle de estabilidade', 'Travas elétricas...  117709.67  \n",
              "92   ['Câmera de estacionamento', '4 X 4', 'Central...  102241.54  \n",
              "93   ['Freios ABS', 'Teto panorâmico', 'Vidros elét...   96065.38  \n",
              "94   ['Travas elétricas', 'Sensor de chuva', 'Freio...   53894.61  \n",
              "95   ['Controle de tração', 'Piloto automático', 'T...  123911.78  \n",
              "96   ['Piloto automático', 'Câmbio automático', 'Tr...  101996.35  \n",
              "97   ['Teto panorâmico', 'Travas elétricas', 'Senso...   83431.66  \n",
              "98   ['Vidros elétricos', 'Sensor crepuscular', 'Co...  122975.63  \n",
              "99   ['Controle de estabilidade', 'Vidros elétricos...   93227.73  \n",
              "100  ['Rodas de liga', 'Bancos de couro', 'Painel d...   58762.65  \n",
              "101  ['Central multimídia', 'Piloto automático', 'T...  139549.67  \n",
              "102  ['Painel digital', 'Teto panorâmico', 'Piloto ...  122016.42  \n",
              "103  ['Vidros elétricos', 'Travas elétricas', 'Cont...   72731.98  \n",
              "104  ['Freios ABS', 'Controle de tração', 'Sensor c...   88416.54  \n",
              "105  ['Painel digital', 'Vidros elétricos', 'Teto p...   73873.42  \n",
              "106  ['Ar condicionado', 'Painel digital', 'Control...   70709.34  \n",
              "107  ['Câmbio automático', 'Rodas de liga', 'Sensor...  115306.50  \n",
              "108  ['Controle de tração', 'Controle de estabilida...   55924.63  \n",
              "109  ['Bancos de couro', 'Freios ABS', 'Central mul...   85052.26  \n",
              "110  ['Sensor crepuscular', 'Teto panorâmico', 'Sen...   56646.34  \n",
              "111  ['Teto panorâmico', '4 X 4', 'Bancos de couro'...  138946.88  \n",
              "112  ['Piloto automático', 'Sensor de estacionament...  108256.72  \n",
              "113  ['Controle de estabilidade', '4 X 4', 'Câmera ...   58979.30  \n",
              "114  ['Controle de estabilidade', 'Bancos de couro'...  114727.68  \n",
              "115  ['Teto panorâmico', 'Controle de tração', 'Pai...  139661.48  \n",
              "116  ['Central multimídia', 'Câmbio automático', 'T...   80382.24  \n",
              "117  ['Vidros elétricos', 'Piloto automático', 'Tet...  149157.17  \n",
              "118  ['Sensor crepuscular', 'Piloto automático', 'C...   87830.41  \n",
              "119  ['4 X 4', 'Central multimídia', 'Ar condiciona...  143568.22  \n",
              "120  ['Central multimídia', 'Piloto automático', 'F...  138171.85  \n",
              "121  ['Freios ABS', 'Rodas de liga', 'Sensor de chu...  115784.95  \n",
              "122  ['Ar condicionado', 'Central multimídia', 'Ban...  146508.99  \n",
              "123  ['Freios ABS', 'Sensor de chuva', 'Central mul...  137670.23  \n",
              "124  ['Travas elétricas', 'Rodas de liga', 'Sensor ...  138597.27  \n",
              "125  ['Rodas de liga', 'Sensor de chuva', 'Painel d...  147627.81  \n",
              "126  ['Rodas de liga', 'Câmbio automático', 'Sensor...   62999.02  \n",
              "127  ['Vidros elétricos', 'Teto panorâmico', 'Paine...   91242.44  \n",
              "128  ['Ar condicionado', 'Sensor crepuscular', 'Rod...  149489.92  \n",
              "129  ['Painel digital', 'Piloto automático', 'Contr...   63529.95  \n",
              "130  ['Central multimídia', 'Câmbio automático', '4...   58525.41  \n",
              "131  ['4 X 4', 'Teto panorâmico', 'Controle de traç...   90345.05  \n",
              "132  ['Painel digital', 'Ar condicionado', 'Sensor ...  147770.87  \n",
              "133  ['Painel digital', 'Bancos de couro', 'Sensor ...  106617.71  \n",
              "134  ['Ar condicionado', 'Vidros elétricos', '4 X 4...  104929.88  \n",
              "135  ['Controle de estabilidade', 'Painel digital',...  100712.45  \n",
              "136  ['Sensor de estacionamento', 'Rodas de liga', ...  141982.93  \n",
              "137  ['4 X 4', 'Sensor de estacionamento', 'Câmbio ...  104038.79  \n",
              "138  ['Piloto automático', 'Sensor crepuscular', 'T...   88501.54  \n",
              "139  ['Ar condicionado', 'Rodas de liga', 'Câmbio a...   79782.02  \n",
              "140  ['Câmbio automático', 'Controle de estabilidad...   86224.10  \n",
              "141  ['Câmera de estacionamento', 'Travas elétricas...  103596.18  \n",
              "142  ['Ar condicionado', 'Sensor de estacionamento'...  148996.47  \n",
              "143  ['Piloto automático', 'Freios ABS', 'Painel di...   60948.01  \n",
              "144  ['Freios ABS', 'Rodas de liga', 'Piloto automá...   69535.44  \n",
              "145  ['4 X 4', 'Câmbio automático', 'Freios ABS', '...  111130.33  \n",
              "146  ['Controle de estabilidade', 'Central multimíd...   65847.69  \n",
              "147  ['Travas elétricas', 'Painel digital', 'Câmera...   78096.06  \n",
              "148  ['Bancos de couro', 'Sensor de chuva', 'Ar con...   69219.89  \n",
              "149  ['Freios ABS', 'Teto panorâmico', 'Central mul...  144118.91  \n",
              "150  ['4 X 4', 'Câmera de estacionamento', 'Sensor ...   77397.05  \n",
              "151  ['Câmbio automático', 'Travas elétricas', 'Sen...   68974.25  \n",
              "152  ['Controle de estabilidade', 'Sensor de estaci...  125231.30  \n",
              "153  ['Sensor crepuscular', 'Piloto automático', 'S...   85501.12  \n",
              "154  ['Teto panorâmico', 'Controle de estabilidade'...  137116.21  \n",
              "155  ['Piloto automático', 'Sensor crepuscular', 'A...  138823.81  \n",
              "156  ['Central multimídia', 'Painel digital', 'Sens...  117961.95  \n",
              "157  ['Ar condicionado', 'Sensor de estacionamento'...  132662.32  \n",
              "158  ['Câmera de estacionamento', 'Bancos de couro'...  146405.79  \n",
              "159  ['Vidros elétricos', 'Ar condicionado', 'Paine...   81999.21  \n",
              "160  ['Central multimídia', 'Vidros elétricos', 'Câ...  140934.60  \n",
              "161  ['Central multimídia', 'Controle de tração', '...   82366.81  \n",
              "162  ['4 X 4', 'Freios ABS', 'Sensor de chuva', 'Ro...   70424.11  \n",
              "163  ['Travas elétricas', 'Rodas de liga', '4 X 4',...   53620.31  \n",
              "164  ['Freios ABS', 'Câmera de estacionamento', 'Tr...   73389.18  \n",
              "165  ['Rodas de liga', 'Teto panorâmico', 'Sensor d...  111618.12  \n",
              "166  ['Painel digital', 'Travas elétricas', 'Rodas ...  112187.37  \n",
              "167  ['Central multimídia', 'Câmbio automático', 'P...  120812.57  \n",
              "168  ['Rodas de liga', 'Travas elétricas', 'Bancos ...  116031.04  \n",
              "169  ['Sensor crepuscular', 'Teto panorâmico', 'Câm...  125398.11  \n",
              "170  ['Piloto automático', 'Ar condicionado', 'Cent...   76101.47  \n",
              "171  ['Bancos de couro', 'Painel digital', 'Câmbio ...   75263.24  \n",
              "172  ['Teto panorâmico', 'Sensor crepuscular', 'Ban...  147387.76  \n",
              "173  ['Ar condicionado', 'Sensor de estacionamento'...   85311.40  \n",
              "174  ['Piloto automático', 'Freios ABS', 'Sensor de...   54388.11  \n",
              "175  ['4 X 4', 'Sensor de estacionamento', 'Control...  124156.65  \n",
              "176  ['Rodas de liga', 'Controle de tração', 'Senso...  146203.34  \n",
              "177  ['Teto panorâmico', 'Sensor crepuscular', 'Sen...   56453.94  \n",
              "178  ['Teto panorâmico', 'Câmera de estacionamento'...   68873.79  \n",
              "179  ['Painel digital', 'Controle de estabilidade',...   91667.61  \n",
              "180  ['Sensor crepuscular', 'Controle de estabilida...   93776.52  \n",
              "181  ['Ar condicionado', 'Vidros elétricos', 'Senso...   66433.82  \n",
              "182  ['Central multimídia', 'Controle de estabilida...  109059.27  \n",
              "183  ['Piloto automático', 'Rodas de liga', '4 X 4'...  122069.97  \n",
              "184  ['Painel digital', 'Freios ABS', 'Ar condicion...  113090.32  \n",
              "185  ['Controle de tração', 'Teto panorâmico', 'Câm...   89401.10  \n",
              "186  ['Sensor de chuva', 'Câmera de estacionamento'...   56842.79  \n",
              "187  ['Travas elétricas', 'Painel digital', 'Sensor...  146676.71  \n",
              "188  ['Controle de tração', 'Central multimídia', '...   89511.96  \n",
              "189  ['Travas elétricas', 'Controle de tração', 'Câ...   97290.18  \n",
              "190  ['Bancos de couro', 'Controle de tração', 'Ar ...  120673.56  \n",
              "191  ['Freios ABS', 'Controle de tração', 'Central ...  114434.94  \n",
              "192  ['Freios ABS', 'Sensor crepuscular', 'Controle...  139546.69  \n",
              "193  ['Teto panorâmico', 'Central multimídia', 'Pil...   95078.16  \n",
              "194  ['Sensor crepuscular', 'Teto panorâmico', 'Pai...   68091.77  \n",
              "195  ['Controle de tração', 'Câmbio automático', '4...   61496.97  \n",
              "196  ['Vidros elétricos', 'Piloto automático', 'Câm...  139669.30  \n",
              "197  ['Controle de estabilidade', 'Teto panorâmico'...   80661.39  \n",
              "198  ['Sensor crepuscular', '4 X 4', 'Painel digita...   61783.65  \n",
              "199  ['Teto panorâmico', 'Freios ABS', 'Sensor crep...   52805.91  \n",
              "200  ['Sensor crepuscular', 'Câmera de estacionamen...  127024.75  \n",
              "201  ['4 X 4', 'Bancos de couro', 'Sensor crepuscul...  135543.00  \n",
              "202  ['Sensor de estacionamento', 'Piloto automátic...  121708.73  \n",
              "203  ['Piloto automático', 'Ar condicionado', 'Cent...  107342.68  \n",
              "204  ['Bancos de couro', 'Central multimídia', 'Fre...   57888.10  \n",
              "205  ['Freios ABS', 'Vidros elétricos', 'Câmbio aut...  118161.48  \n",
              "206  ['Controle de tração', 'Piloto automático', 'C...  142499.06  \n",
              "207  ['Bancos de couro', 'Central multimídia', 'Con...  128396.11  \n",
              "208  ['Piloto automático', 'Teto panorâmico', 'Câmb...  112350.61  \n",
              "209  ['Controle de tração', 'Travas elétricas', '4 ...  124661.38  \n",
              "210  ['Controle de tração', 'Ar condicionado', 'Tra...   54263.16  \n",
              "211  ['Controle de tração', 'Piloto automático', 'T...   62041.32  \n",
              "212  ['Central multimídia', 'Rodas de liga', 'Câmbi...  129296.11  \n",
              "213  ['Piloto automático', 'Sensor de chuva', 'Cont...   60998.33  \n",
              "214  ['Controle de tração', 'Central multimídia', '...   58008.50  \n",
              "215  ['Bancos de couro', 'Câmera de estacionamento'...   82304.19  \n",
              "216  ['Central multimídia', 'Controle de tração', '...  114531.74  \n",
              "217  ['4 X 4', 'Controle de estabilidade', 'Câmera ...  128565.61  \n",
              "218  ['Central multimídia', 'Controle de estabilida...  126488.26  \n",
              "219  ['Travas elétricas', 'Central multimídia', 'Pa...  119074.55  \n",
              "220  ['Câmbio automático', 'Teto panorâmico', 'Sens...  130238.04  \n",
              "221  ['Piloto automático', 'Teto panorâmico', 'Sens...  115760.17  \n",
              "222  ['Sensor de chuva', 'Central multimídia', 'Vid...  121248.00  \n",
              "223  ['Sensor crepuscular', 'Travas elétricas', 'Pi...   98156.35  \n",
              "224  ['Travas elétricas', 'Piloto automático', 'Vid...  112146.80  \n",
              "225  ['Teto panorâmico', '4 X 4', 'Central multimíd...  102729.63  \n",
              "226  ['Controle de tração', 'Sensor de estacionamen...  141083.35  \n",
              "227  ['4 X 4', 'Teto panorâmico', 'Ar condicionado'...  102968.76  \n",
              "228  ['Sensor de chuva', 'Câmera de estacionamento'...   76310.01  \n",
              "229  ['Sensor de estacionamento', 'Câmera de estaci...  120481.74  \n",
              "230  ['Controle de estabilidade', 'Ar condicionado'...   54559.18  \n",
              "231  ['Controle de estabilidade', 'Câmera de estaci...   92957.64  \n",
              "232  ['Sensor de chuva', 'Sensor de estacionamento'...  127810.06  \n",
              "233  ['Sensor de chuva', 'Vidros elétricos', 'Contr...   73311.75  \n",
              "234  ['Vidros elétricos', 'Bancos de couro', 'Pilot...   65138.03  \n",
              "235  ['Ar condicionado', 'Sensor de chuva', 'Travas...   90141.47  \n",
              "236  ['Central multimídia', 'Bancos de couro', 'Câm...   71160.36  \n",
              "237  ['Vidros elétricos', 'Travas elétricas', 'Roda...   67539.79  \n",
              "238  ['Controle de tração', 'Ar condicionado', 'Cen...   67664.86  \n",
              "239  ['Controle de tração', 'Teto panorâmico', 'Vid...   68652.16  \n",
              "240  ['Rodas de liga', 'Sensor crepuscular', 'Ar co...  114728.74  \n",
              "241  ['Sensor crepuscular', 'Controle de tração', '...  141645.08  \n",
              "242  ['Sensor crepuscular', 'Câmbio automático', 'C...  126247.84  \n",
              "243  ['Central multimídia', 'Sensor crepuscular', '...  128852.21  \n",
              "244  ['Sensor de chuva', 'Vidros elétricos', 'Paine...  132384.76  \n",
              "245  ['Travas elétricas', 'Ar condicionado', '4 X 4...  129415.33  \n",
              "246  ['Painel digital', 'Câmbio automático', 'Vidro...   89536.82  \n",
              "247  ['Sensor de estacionamento', 'Câmera de estaci...   87975.30  \n",
              "248  ['Painel digital', 'Piloto automático', 'Centr...   77675.79  \n",
              "249  ['Rodas de liga', 'Freios ABS', 'Controle de t...   58881.67  \n",
              "250  ['Sensor crepuscular', 'Freios ABS', 'Ar condi...   55081.99  \n",
              "251  ['Sensor de chuva', 'Sensor de estacionamento'...  118826.44  \n",
              "252  ['Sensor de chuva', 'Vidros elétricos', 'Senso...  137627.62  \n",
              "253  ['Controle de estabilidade', 'Piloto automátic...   51759.58  \n",
              "254  ['Bancos de couro', 'Painel digital', 'Sensor ...   51667.06  \n",
              "255  ['Rodas de liga', 'Controle de tração', 'Câmbi...   68934.03  \n",
              "256  ['Ar condicionado', '4 X 4', 'Câmbio automátic...  122110.90  \n",
              "257  ['Central multimídia', 'Teto panorâmico', 'Vid...   90381.47  "
            ],
            "text/html": [
              "\n",
              "  <div id=\"df-881c3487-92b1-4e22-9510-42e92d8b0b1a\" class=\"colab-df-container\">\n",
              "    <div>\n",
              "<style scoped>\n",
              "    .dataframe tbody tr th:only-of-type {\n",
              "        vertical-align: middle;\n",
              "    }\n",
              "\n",
              "    .dataframe tbody tr th {\n",
              "        vertical-align: top;\n",
              "    }\n",
              "\n",
              "    .dataframe thead th {\n",
              "        text-align: right;\n",
              "    }\n",
              "</style>\n",
              "<table border=\"1\" class=\"dataframe\">\n",
              "  <thead>\n",
              "    <tr style=\"text-align: right;\">\n",
              "      <th></th>\n",
              "      <th>Nome</th>\n",
              "      <th>Motor</th>\n",
              "      <th>Ano</th>\n",
              "      <th>Quilometragem</th>\n",
              "      <th>Zero_km</th>\n",
              "      <th>Acessórios</th>\n",
              "      <th>Valor</th>\n",
              "    </tr>\n",
              "  </thead>\n",
              "  <tbody>\n",
              "    <tr>\n",
              "      <th>0</th>\n",
              "      <td>Jetta Variant</td>\n",
              "      <td>Motor 4.0 Turbo</td>\n",
              "      <td>2003</td>\n",
              "      <td>44410.0</td>\n",
              "      <td>False</td>\n",
              "      <td>['Rodas de liga', 'Travas elétricas', 'Piloto ...</td>\n",
              "      <td>88078.64</td>\n",
              "    </tr>\n",
              "    <tr>\n",
              "      <th>1</th>\n",
              "      <td>Passat</td>\n",
              "      <td>Motor Diesel</td>\n",
              "      <td>1991</td>\n",
              "      <td>5712.0</td>\n",
              "      <td>False</td>\n",
              "      <td>['Central multimídia', 'Teto panorâmico', 'Fre...</td>\n",
              "      <td>106161.94</td>\n",
              "    </tr>\n",
              "    <tr>\n",
              "      <th>2</th>\n",
              "      <td>Crossfox</td>\n",
              "      <td>Motor Diesel V8</td>\n",
              "      <td>1990</td>\n",
              "      <td>37123.0</td>\n",
              "      <td>False</td>\n",
              "      <td>['Piloto automático', 'Controle de estabilidad...</td>\n",
              "      <td>72832.16</td>\n",
              "    </tr>\n",
              "    <tr>\n",
              "      <th>3</th>\n",
              "      <td>DS5</td>\n",
              "      <td>Motor 2.4 Turbo</td>\n",
              "      <td>2019</td>\n",
              "      <td>NaN</td>\n",
              "      <td>True</td>\n",
              "      <td>['Travas elétricas', '4 X 4', 'Vidros elétrico...</td>\n",
              "      <td>124549.07</td>\n",
              "    </tr>\n",
              "    <tr>\n",
              "      <th>4</th>\n",
              "      <td>Aston Martin DB4</td>\n",
              "      <td>Motor 2.4 Turbo</td>\n",
              "      <td>2006</td>\n",
              "      <td>25757.0</td>\n",
              "      <td>False</td>\n",
              "      <td>['Rodas de liga', '4 X 4', 'Central multimídia...</td>\n",
              "      <td>92612.10</td>\n",
              "    </tr>\n",
              "    <tr>\n",
              "      <th>5</th>\n",
              "      <td>Palio Weekend</td>\n",
              "      <td>Motor 1.8 16v</td>\n",
              "      <td>2012</td>\n",
              "      <td>10728.0</td>\n",
              "      <td>False</td>\n",
              "      <td>['Sensor de estacionamento', 'Teto panorâmico'...</td>\n",
              "      <td>97497.73</td>\n",
              "    </tr>\n",
              "    <tr>\n",
              "      <th>6</th>\n",
              "      <td>A5</td>\n",
              "      <td>Motor 4.0 Turbo</td>\n",
              "      <td>2019</td>\n",
              "      <td>NaN</td>\n",
              "      <td>True</td>\n",
              "      <td>['Câmbio automático', 'Câmera de estacionament...</td>\n",
              "      <td>56445.20</td>\n",
              "    </tr>\n",
              "    <tr>\n",
              "      <th>7</th>\n",
              "      <td>Série 3 Cabrio</td>\n",
              "      <td>Motor 1.0 8v</td>\n",
              "      <td>2009</td>\n",
              "      <td>77599.0</td>\n",
              "      <td>False</td>\n",
              "      <td>['Controle de estabilidade', 'Sensor crepuscul...</td>\n",
              "      <td>112310.44</td>\n",
              "    </tr>\n",
              "    <tr>\n",
              "      <th>8</th>\n",
              "      <td>Dodge Jorney</td>\n",
              "      <td>Motor 3.0 32v</td>\n",
              "      <td>2010</td>\n",
              "      <td>99197.0</td>\n",
              "      <td>False</td>\n",
              "      <td>['Vidros elétricos', 'Piloto automático', 'Tet...</td>\n",
              "      <td>120716.27</td>\n",
              "    </tr>\n",
              "    <tr>\n",
              "      <th>9</th>\n",
              "      <td>Carens</td>\n",
              "      <td>Motor 5.0 V8 Bi-Turbo</td>\n",
              "      <td>2011</td>\n",
              "      <td>37978.0</td>\n",
              "      <td>False</td>\n",
              "      <td>['Ar condicionado', 'Painel digital', 'Central...</td>\n",
              "      <td>76566.49</td>\n",
              "    </tr>\n",
              "    <tr>\n",
              "      <th>10</th>\n",
              "      <td>Ford Edge</td>\n",
              "      <td>Motor Diesel V6</td>\n",
              "      <td>2002</td>\n",
              "      <td>12859.0</td>\n",
              "      <td>False</td>\n",
              "      <td>['Sensor crepuscular', 'Rodas de liga', 'Teto ...</td>\n",
              "      <td>71647.59</td>\n",
              "    </tr>\n",
              "    <tr>\n",
              "      <th>11</th>\n",
              "      <td>Courier</td>\n",
              "      <td>Motor Diesel V8</td>\n",
              "      <td>2007</td>\n",
              "      <td>8052.0</td>\n",
              "      <td>False</td>\n",
              "      <td>['Central multimídia', '4 X 4', 'Piloto automá...</td>\n",
              "      <td>73919.53</td>\n",
              "    </tr>\n",
              "    <tr>\n",
              "      <th>12</th>\n",
              "      <td>S-18</td>\n",
              "      <td>Motor V6</td>\n",
              "      <td>2001</td>\n",
              "      <td>89773.0</td>\n",
              "      <td>False</td>\n",
              "      <td>['Bancos de couro', 'Sensor de chuva', 'Rodas ...</td>\n",
              "      <td>112732.99</td>\n",
              "    </tr>\n",
              "    <tr>\n",
              "      <th>13</th>\n",
              "      <td>J5</td>\n",
              "      <td>Motor V6</td>\n",
              "      <td>2019</td>\n",
              "      <td>NaN</td>\n",
              "      <td>True</td>\n",
              "      <td>['Sensor crepuscular', 'Painel digital', 'Roda...</td>\n",
              "      <td>53183.38</td>\n",
              "    </tr>\n",
              "    <tr>\n",
              "      <th>14</th>\n",
              "      <td>F-Type Coupé</td>\n",
              "      <td>Motor 5.0 V8 Bi-Turbo</td>\n",
              "      <td>2009</td>\n",
              "      <td>41457.0</td>\n",
              "      <td>False</td>\n",
              "      <td>['Piloto automático', 'Sensor crepuscular', 'S...</td>\n",
              "      <td>127488.42</td>\n",
              "    </tr>\n",
              "    <tr>\n",
              "      <th>15</th>\n",
              "      <td>RAM</td>\n",
              "      <td>Motor Diesel V8</td>\n",
              "      <td>2016</td>\n",
              "      <td>115607.0</td>\n",
              "      <td>False</td>\n",
              "      <td>['Sensor crepuscular', 'Câmbio automático', 'S...</td>\n",
              "      <td>59910.40</td>\n",
              "    </tr>\n",
              "    <tr>\n",
              "      <th>16</th>\n",
              "      <td>Série 1</td>\n",
              "      <td>Motor 3.0 32v</td>\n",
              "      <td>2012</td>\n",
              "      <td>46449.0</td>\n",
              "      <td>False</td>\n",
              "      <td>['Teto panorâmico', 'Câmera de estacionamento'...</td>\n",
              "      <td>61118.59</td>\n",
              "    </tr>\n",
              "    <tr>\n",
              "      <th>17</th>\n",
              "      <td>A3</td>\n",
              "      <td>Motor 1.0 8v</td>\n",
              "      <td>2019</td>\n",
              "      <td>NaN</td>\n",
              "      <td>True</td>\n",
              "      <td>['4 X 4', 'Piloto automático', 'Central multim...</td>\n",
              "      <td>88552.39</td>\n",
              "    </tr>\n",
              "    <tr>\n",
              "      <th>18</th>\n",
              "      <td>XC90</td>\n",
              "      <td>Motor 1.0 8v</td>\n",
              "      <td>2016</td>\n",
              "      <td>37086.0</td>\n",
              "      <td>False</td>\n",
              "      <td>['Travas elétricas', 'Vidros elétricos', 'Teto...</td>\n",
              "      <td>62696.69</td>\n",
              "    </tr>\n",
              "    <tr>\n",
              "      <th>19</th>\n",
              "      <td>RS 3 Sportback</td>\n",
              "      <td>Motor 3.0 32v</td>\n",
              "      <td>2017</td>\n",
              "      <td>15173.0</td>\n",
              "      <td>False</td>\n",
              "      <td>['4 X 4', 'Piloto automático', 'Central multim...</td>\n",
              "      <td>101726.30</td>\n",
              "    </tr>\n",
              "    <tr>\n",
              "      <th>20</th>\n",
              "      <td>Pajero Sport</td>\n",
              "      <td>Motor 1.0 8v</td>\n",
              "      <td>2002</td>\n",
              "      <td>101193.0</td>\n",
              "      <td>False</td>\n",
              "      <td>['Sensor de estacionamento', 'Piloto automátic...</td>\n",
              "      <td>106147.38</td>\n",
              "    </tr>\n",
              "    <tr>\n",
              "      <th>21</th>\n",
              "      <td>Série 1 M</td>\n",
              "      <td>Motor V8</td>\n",
              "      <td>2019</td>\n",
              "      <td>NaN</td>\n",
              "      <td>True</td>\n",
              "      <td>['Controle de estabilidade', 'Central multimíd...</td>\n",
              "      <td>94564.40</td>\n",
              "    </tr>\n",
              "    <tr>\n",
              "      <th>22</th>\n",
              "      <td>Lamborghini Obvious</td>\n",
              "      <td>Motor Diesel V6</td>\n",
              "      <td>1994</td>\n",
              "      <td>98079.0</td>\n",
              "      <td>False</td>\n",
              "      <td>['Rodas de liga', 'Câmbio automático', 'Travas...</td>\n",
              "      <td>133529.84</td>\n",
              "    </tr>\n",
              "    <tr>\n",
              "      <th>23</th>\n",
              "      <td>Effa Hafei Picape Baú</td>\n",
              "      <td>Motor Diesel</td>\n",
              "      <td>1991</td>\n",
              "      <td>102959.0</td>\n",
              "      <td>False</td>\n",
              "      <td>['Controle de estabilidade', 'Painel digital',...</td>\n",
              "      <td>125684.65</td>\n",
              "    </tr>\n",
              "    <tr>\n",
              "      <th>24</th>\n",
              "      <td>Lamborghini Murciélago</td>\n",
              "      <td>Motor 5.0 V8 Bi-Turbo</td>\n",
              "      <td>2019</td>\n",
              "      <td>NaN</td>\n",
              "      <td>True</td>\n",
              "      <td>['Freios ABS', 'Câmbio automático', 'Ar condic...</td>\n",
              "      <td>121596.21</td>\n",
              "    </tr>\n",
              "    <tr>\n",
              "      <th>25</th>\n",
              "      <td>Up!</td>\n",
              "      <td>Motor Diesel V6</td>\n",
              "      <td>2019</td>\n",
              "      <td>NaN</td>\n",
              "      <td>True</td>\n",
              "      <td>['Sensor de estacionamento', 'Vidros elétricos...</td>\n",
              "      <td>71367.10</td>\n",
              "    </tr>\n",
              "    <tr>\n",
              "      <th>26</th>\n",
              "      <td>Fiesta Rocam Sedan</td>\n",
              "      <td>Motor 4.0 Turbo</td>\n",
              "      <td>2016</td>\n",
              "      <td>5795.0</td>\n",
              "      <td>False</td>\n",
              "      <td>['Ar condicionado', 'Bancos de couro', 'Câmbio...</td>\n",
              "      <td>95347.75</td>\n",
              "    </tr>\n",
              "    <tr>\n",
              "      <th>27</th>\n",
              "      <td>Sandero Stepway</td>\n",
              "      <td>Motor 3.0 32v</td>\n",
              "      <td>2019</td>\n",
              "      <td>NaN</td>\n",
              "      <td>True</td>\n",
              "      <td>['Freios ABS', 'Ar condicionado', 'Teto panorâ...</td>\n",
              "      <td>105432.84</td>\n",
              "    </tr>\n",
              "    <tr>\n",
              "      <th>28</th>\n",
              "      <td>Cayman S</td>\n",
              "      <td>Motor 3.0 32v</td>\n",
              "      <td>2002</td>\n",
              "      <td>58848.0</td>\n",
              "      <td>False</td>\n",
              "      <td>['Câmbio automático', 'Sensor de estacionament...</td>\n",
              "      <td>57045.27</td>\n",
              "    </tr>\n",
              "    <tr>\n",
              "      <th>29</th>\n",
              "      <td>V40</td>\n",
              "      <td>Motor 4.0 Turbo</td>\n",
              "      <td>1991</td>\n",
              "      <td>94381.0</td>\n",
              "      <td>False</td>\n",
              "      <td>['Câmera de estacionamento', 'Sensor de estaci...</td>\n",
              "      <td>120432.70</td>\n",
              "    </tr>\n",
              "    <tr>\n",
              "      <th>30</th>\n",
              "      <td>Classe SLS AMG</td>\n",
              "      <td>Motor 1.0 8v</td>\n",
              "      <td>1997</td>\n",
              "      <td>30163.0</td>\n",
              "      <td>False</td>\n",
              "      <td>['Sensor de estacionamento', 'Controle de esta...</td>\n",
              "      <td>70707.20</td>\n",
              "    </tr>\n",
              "    <tr>\n",
              "      <th>31</th>\n",
              "      <td>Gol G4</td>\n",
              "      <td>Motor 2.0 16v</td>\n",
              "      <td>1995</td>\n",
              "      <td>53332.0</td>\n",
              "      <td>False</td>\n",
              "      <td>['Sensor crepuscular', '4 X 4', 'Vidros elétri...</td>\n",
              "      <td>69105.18</td>\n",
              "    </tr>\n",
              "    <tr>\n",
              "      <th>32</th>\n",
              "      <td>Linea</td>\n",
              "      <td>Motor 1.0 8v</td>\n",
              "      <td>2018</td>\n",
              "      <td>17720.0</td>\n",
              "      <td>False</td>\n",
              "      <td>['Piloto automático', 'Painel digital', 'Vidro...</td>\n",
              "      <td>59358.69</td>\n",
              "    </tr>\n",
              "    <tr>\n",
              "      <th>33</th>\n",
              "      <td>Ford F100</td>\n",
              "      <td>Motor 2.0 16v</td>\n",
              "      <td>1991</td>\n",
              "      <td>33808.0</td>\n",
              "      <td>False</td>\n",
              "      <td>['Controle de tração', 'Sensor crepuscular', '...</td>\n",
              "      <td>65955.40</td>\n",
              "    </tr>\n",
              "    <tr>\n",
              "      <th>34</th>\n",
              "      <td>J2</td>\n",
              "      <td>Motor V8</td>\n",
              "      <td>2014</td>\n",
              "      <td>90684.0</td>\n",
              "      <td>False</td>\n",
              "      <td>['Teto panorâmico', 'Sensor de estacionamento'...</td>\n",
              "      <td>60017.03</td>\n",
              "    </tr>\n",
              "    <tr>\n",
              "      <th>35</th>\n",
              "      <td>Aston Martin DBS</td>\n",
              "      <td>Motor V8</td>\n",
              "      <td>1995</td>\n",
              "      <td>43975.0</td>\n",
              "      <td>False</td>\n",
              "      <td>['Teto panorâmico', 'Piloto automático', 'Ar c...</td>\n",
              "      <td>118909.52</td>\n",
              "    </tr>\n",
              "    <tr>\n",
              "      <th>36</th>\n",
              "      <td>Pajero TR4</td>\n",
              "      <td>Motor 2.4 Turbo</td>\n",
              "      <td>2019</td>\n",
              "      <td>NaN</td>\n",
              "      <td>True</td>\n",
              "      <td>['Controle de tração', 'Bancos de couro', 'Câm...</td>\n",
              "      <td>51606.59</td>\n",
              "    </tr>\n",
              "    <tr>\n",
              "      <th>37</th>\n",
              "      <td>Polo Sedan</td>\n",
              "      <td>Motor V6</td>\n",
              "      <td>2019</td>\n",
              "      <td>NaN</td>\n",
              "      <td>True</td>\n",
              "      <td>['Sensor de chuva', 'Sensor crepuscular', 'Ar ...</td>\n",
              "      <td>123281.87</td>\n",
              "    </tr>\n",
              "    <tr>\n",
              "      <th>38</th>\n",
              "      <td>California</td>\n",
              "      <td>Motor 1.0 8v</td>\n",
              "      <td>2009</td>\n",
              "      <td>5526.0</td>\n",
              "      <td>False</td>\n",
              "      <td>['Rodas de liga', 'Ar condicionado', 'Câmera d...</td>\n",
              "      <td>69770.18</td>\n",
              "    </tr>\n",
              "    <tr>\n",
              "      <th>39</th>\n",
              "      <td>S60</td>\n",
              "      <td>Motor 2.4 Turbo</td>\n",
              "      <td>2019</td>\n",
              "      <td>NaN</td>\n",
              "      <td>True</td>\n",
              "      <td>['Teto panorâmico', 'Freios ABS', '4 X 4', 'Ar...</td>\n",
              "      <td>102609.54</td>\n",
              "    </tr>\n",
              "    <tr>\n",
              "      <th>40</th>\n",
              "      <td>Tucson</td>\n",
              "      <td>Motor 2.0 16v</td>\n",
              "      <td>2013</td>\n",
              "      <td>93415.0</td>\n",
              "      <td>False</td>\n",
              "      <td>['Vidros elétricos', 'Sensor crepuscular', 'Fr...</td>\n",
              "      <td>67997.19</td>\n",
              "    </tr>\n",
              "    <tr>\n",
              "      <th>41</th>\n",
              "      <td>HB20</td>\n",
              "      <td>Motor V6</td>\n",
              "      <td>2003</td>\n",
              "      <td>40762.0</td>\n",
              "      <td>False</td>\n",
              "      <td>['Sensor de chuva', 'Travas elétricas', 'Contr...</td>\n",
              "      <td>135235.29</td>\n",
              "    </tr>\n",
              "    <tr>\n",
              "      <th>42</th>\n",
              "      <td>Optima</td>\n",
              "      <td>Motor 1.8 16v</td>\n",
              "      <td>2019</td>\n",
              "      <td>NaN</td>\n",
              "      <td>True</td>\n",
              "      <td>['Central multimídia', 'Ar condicionado', 'Tet...</td>\n",
              "      <td>86641.34</td>\n",
              "    </tr>\n",
              "    <tr>\n",
              "      <th>43</th>\n",
              "      <td>Logan</td>\n",
              "      <td>Motor 4.0 Turbo</td>\n",
              "      <td>2002</td>\n",
              "      <td>86302.0</td>\n",
              "      <td>False</td>\n",
              "      <td>['Câmera de estacionamento', 'Vidros elétricos...</td>\n",
              "      <td>136818.39</td>\n",
              "    </tr>\n",
              "    <tr>\n",
              "      <th>44</th>\n",
              "      <td>Range Rover Vogue</td>\n",
              "      <td>Motor 1.0 8v</td>\n",
              "      <td>2019</td>\n",
              "      <td>NaN</td>\n",
              "      <td>True</td>\n",
              "      <td>['4 X 4', 'Vidros elétricos', 'Rodas de liga',...</td>\n",
              "      <td>117626.73</td>\n",
              "    </tr>\n",
              "    <tr>\n",
              "      <th>45</th>\n",
              "      <td>Sonata</td>\n",
              "      <td>Motor 5.0 V8 Bi-Turbo</td>\n",
              "      <td>2002</td>\n",
              "      <td>9755.0</td>\n",
              "      <td>False</td>\n",
              "      <td>['Piloto automático', 'Ar condicionado', 'Vidr...</td>\n",
              "      <td>56208.70</td>\n",
              "    </tr>\n",
              "    <tr>\n",
              "      <th>46</th>\n",
              "      <td>Ford New Fiesta Sedan</td>\n",
              "      <td>Motor 3.0 32v</td>\n",
              "      <td>2004</td>\n",
              "      <td>69945.0</td>\n",
              "      <td>False</td>\n",
              "      <td>['Teto panorâmico', 'Painel digital', 'Ar cond...</td>\n",
              "      <td>84222.65</td>\n",
              "    </tr>\n",
              "    <tr>\n",
              "      <th>47</th>\n",
              "      <td>Série 5 Gran Turismo</td>\n",
              "      <td>Motor 4.0 Turbo</td>\n",
              "      <td>2001</td>\n",
              "      <td>2395.0</td>\n",
              "      <td>False</td>\n",
              "      <td>['Controle de tração', 'Piloto automático', 'A...</td>\n",
              "      <td>90781.65</td>\n",
              "    </tr>\n",
              "    <tr>\n",
              "      <th>48</th>\n",
              "      <td>CR-V</td>\n",
              "      <td>Motor Diesel V8</td>\n",
              "      <td>2019</td>\n",
              "      <td>NaN</td>\n",
              "      <td>True</td>\n",
              "      <td>['Câmbio automático', 'Central multimídia', 'V...</td>\n",
              "      <td>64701.10</td>\n",
              "    </tr>\n",
              "    <tr>\n",
              "      <th>49</th>\n",
              "      <td>Ford EcoSport</td>\n",
              "      <td>Motor 1.0 8v</td>\n",
              "      <td>2003</td>\n",
              "      <td>80349.0</td>\n",
              "      <td>False</td>\n",
              "      <td>['Vidros elétricos', 'Piloto automático', 'Pai...</td>\n",
              "      <td>126350.49</td>\n",
              "    </tr>\n",
              "    <tr>\n",
              "      <th>50</th>\n",
              "      <td>Versa</td>\n",
              "      <td>Motor 3.0 32v</td>\n",
              "      <td>2009</td>\n",
              "      <td>85554.0</td>\n",
              "      <td>False</td>\n",
              "      <td>['Bancos de couro', 'Ar condicionado', 'Rodas ...</td>\n",
              "      <td>148152.89</td>\n",
              "    </tr>\n",
              "    <tr>\n",
              "      <th>51</th>\n",
              "      <td>Classe E</td>\n",
              "      <td>Motor 1.0 8v</td>\n",
              "      <td>2006</td>\n",
              "      <td>50496.0</td>\n",
              "      <td>False</td>\n",
              "      <td>['Freios ABS', 'Sensor de estacionamento', 'Ce...</td>\n",
              "      <td>132298.83</td>\n",
              "    </tr>\n",
              "    <tr>\n",
              "      <th>52</th>\n",
              "      <td>Carnival</td>\n",
              "      <td>Motor V8</td>\n",
              "      <td>2000</td>\n",
              "      <td>67716.0</td>\n",
              "      <td>False</td>\n",
              "      <td>['Travas elétricas', 'Câmbio automático', 'Câm...</td>\n",
              "      <td>137627.63</td>\n",
              "    </tr>\n",
              "    <tr>\n",
              "      <th>53</th>\n",
              "      <td>Aston Martin V8 Vantage Roadster</td>\n",
              "      <td>Motor 2.4 Turbo</td>\n",
              "      <td>2006</td>\n",
              "      <td>93947.0</td>\n",
              "      <td>False</td>\n",
              "      <td>['Câmbio automático', 'Câmera de estacionament...</td>\n",
              "      <td>80422.71</td>\n",
              "    </tr>\n",
              "    <tr>\n",
              "      <th>54</th>\n",
              "      <td>Hoggar</td>\n",
              "      <td>Motor 5.0 V8 Bi-Turbo</td>\n",
              "      <td>2010</td>\n",
              "      <td>35345.0</td>\n",
              "      <td>False</td>\n",
              "      <td>['Controle de estabilidade', 'Bancos de couro'...</td>\n",
              "      <td>56373.99</td>\n",
              "    </tr>\n",
              "    <tr>\n",
              "      <th>55</th>\n",
              "      <td>A1</td>\n",
              "      <td>Motor 5.0 V8 Bi-Turbo</td>\n",
              "      <td>1994</td>\n",
              "      <td>81007.0</td>\n",
              "      <td>False</td>\n",
              "      <td>['Painel digital', 'Câmbio automático', 'Câmer...</td>\n",
              "      <td>70846.03</td>\n",
              "    </tr>\n",
              "    <tr>\n",
              "      <th>56</th>\n",
              "      <td>Aston Martin DB7 Vantage</td>\n",
              "      <td>Motor V6</td>\n",
              "      <td>2007</td>\n",
              "      <td>119513.0</td>\n",
              "      <td>False</td>\n",
              "      <td>['Sensor crepuscular', 'Piloto automático', 'T...</td>\n",
              "      <td>128694.23</td>\n",
              "    </tr>\n",
              "    <tr>\n",
              "      <th>57</th>\n",
              "      <td>CLA</td>\n",
              "      <td>Motor 1.0 8v</td>\n",
              "      <td>2019</td>\n",
              "      <td>NaN</td>\n",
              "      <td>True</td>\n",
              "      <td>['Central multimídia', 'Sensor de chuva', 'Con...</td>\n",
              "      <td>133329.19</td>\n",
              "    </tr>\n",
              "    <tr>\n",
              "      <th>58</th>\n",
              "      <td>Accord</td>\n",
              "      <td>Motor V8</td>\n",
              "      <td>2019</td>\n",
              "      <td>NaN</td>\n",
              "      <td>True</td>\n",
              "      <td>['Sensor de estacionamento', 'Ar condicionado'...</td>\n",
              "      <td>131961.43</td>\n",
              "    </tr>\n",
              "    <tr>\n",
              "      <th>59</th>\n",
              "      <td>EXTRA 103EX</td>\n",
              "      <td>Motor 2.0 16v</td>\n",
              "      <td>2019</td>\n",
              "      <td>NaN</td>\n",
              "      <td>True</td>\n",
              "      <td>['Sensor de estacionamento', 'Central multimíd...</td>\n",
              "      <td>112033.27</td>\n",
              "    </tr>\n",
              "    <tr>\n",
              "      <th>60</th>\n",
              "      <td>Sorento</td>\n",
              "      <td>Motor Diesel</td>\n",
              "      <td>2019</td>\n",
              "      <td>NaN</td>\n",
              "      <td>True</td>\n",
              "      <td>['Sensor de chuva', 'Câmera de estacionamento'...</td>\n",
              "      <td>81399.35</td>\n",
              "    </tr>\n",
              "    <tr>\n",
              "      <th>61</th>\n",
              "      <td>Tiggo</td>\n",
              "      <td>Motor 3.0 32v</td>\n",
              "      <td>2019</td>\n",
              "      <td>NaN</td>\n",
              "      <td>True</td>\n",
              "      <td>['Câmera de estacionamento', 'Freios ABS', 'Pi...</td>\n",
              "      <td>97163.10</td>\n",
              "    </tr>\n",
              "    <tr>\n",
              "      <th>62</th>\n",
              "      <td>New Fiesta Hatch</td>\n",
              "      <td>Motor Diesel</td>\n",
              "      <td>2017</td>\n",
              "      <td>118895.0</td>\n",
              "      <td>False</td>\n",
              "      <td>['Sensor de estacionamento', 'Travas elétricas...</td>\n",
              "      <td>66007.16</td>\n",
              "    </tr>\n",
              "    <tr>\n",
              "      <th>63</th>\n",
              "      <td>Jeep Renegade</td>\n",
              "      <td>Motor 5.0 V8 Bi-Turbo</td>\n",
              "      <td>2011</td>\n",
              "      <td>48509.0</td>\n",
              "      <td>False</td>\n",
              "      <td>['Vidros elétricos', 'Teto panorâmico', 'Banco...</td>\n",
              "      <td>128776.22</td>\n",
              "    </tr>\n",
              "    <tr>\n",
              "      <th>64</th>\n",
              "      <td>Lamborghini Ankonian</td>\n",
              "      <td>Motor 2.0 16v</td>\n",
              "      <td>2001</td>\n",
              "      <td>100912.0</td>\n",
              "      <td>False</td>\n",
              "      <td>['Bancos de couro', 'Câmera de estacionamento'...</td>\n",
              "      <td>142623.02</td>\n",
              "    </tr>\n",
              "    <tr>\n",
              "      <th>65</th>\n",
              "      <td>Space Cross</td>\n",
              "      <td>Motor 5.0 V8 Bi-Turbo</td>\n",
              "      <td>1996</td>\n",
              "      <td>95649.0</td>\n",
              "      <td>False</td>\n",
              "      <td>['Teto panorâmico', 'Vidros elétricos', 'Senso...</td>\n",
              "      <td>136930.13</td>\n",
              "    </tr>\n",
              "    <tr>\n",
              "      <th>66</th>\n",
              "      <td>Touareg</td>\n",
              "      <td>Motor V8</td>\n",
              "      <td>2019</td>\n",
              "      <td>NaN</td>\n",
              "      <td>True</td>\n",
              "      <td>['Controle de estabilidade', 'Piloto automátic...</td>\n",
              "      <td>66526.61</td>\n",
              "    </tr>\n",
              "    <tr>\n",
              "      <th>67</th>\n",
              "      <td>Classe M</td>\n",
              "      <td>Motor 1.0 8v</td>\n",
              "      <td>1994</td>\n",
              "      <td>90495.0</td>\n",
              "      <td>False</td>\n",
              "      <td>['Central multimídia', 'Bancos de couro', 'Rod...</td>\n",
              "      <td>114154.87</td>\n",
              "    </tr>\n",
              "    <tr>\n",
              "      <th>68</th>\n",
              "      <td>Lancer Evolution X</td>\n",
              "      <td>Motor Diesel V6</td>\n",
              "      <td>2019</td>\n",
              "      <td>NaN</td>\n",
              "      <td>True</td>\n",
              "      <td>['Vidros elétricos', 'Câmbio automático', 'Con...</td>\n",
              "      <td>142392.75</td>\n",
              "    </tr>\n",
              "    <tr>\n",
              "      <th>69</th>\n",
              "      <td>Kangoo Express</td>\n",
              "      <td>Motor Diesel</td>\n",
              "      <td>2007</td>\n",
              "      <td>29132.0</td>\n",
              "      <td>False</td>\n",
              "      <td>['Bancos de couro', 'Câmbio automático', 'Pilo...</td>\n",
              "      <td>146716.91</td>\n",
              "    </tr>\n",
              "    <tr>\n",
              "      <th>70</th>\n",
              "      <td>SW4</td>\n",
              "      <td>Motor Diesel V6</td>\n",
              "      <td>1994</td>\n",
              "      <td>23802.0</td>\n",
              "      <td>False</td>\n",
              "      <td>['Sensor de chuva', 'Bancos de couro', 'Contro...</td>\n",
              "      <td>122485.68</td>\n",
              "    </tr>\n",
              "    <tr>\n",
              "      <th>71</th>\n",
              "      <td>Cadillac ELR</td>\n",
              "      <td>Motor 1.0 8v</td>\n",
              "      <td>2007</td>\n",
              "      <td>84992.0</td>\n",
              "      <td>False</td>\n",
              "      <td>['Sensor crepuscular', 'Travas elétricas', 'Te...</td>\n",
              "      <td>97951.03</td>\n",
              "    </tr>\n",
              "    <tr>\n",
              "      <th>72</th>\n",
              "      <td>Doblò</td>\n",
              "      <td>Motor 1.8 16v</td>\n",
              "      <td>1997</td>\n",
              "      <td>54395.0</td>\n",
              "      <td>False</td>\n",
              "      <td>['Câmera de estacionamento', 'Teto panorâmico'...</td>\n",
              "      <td>78283.49</td>\n",
              "    </tr>\n",
              "    <tr>\n",
              "      <th>73</th>\n",
              "      <td>Lamborghini Egoista</td>\n",
              "      <td>Motor 3.0 32v</td>\n",
              "      <td>2006</td>\n",
              "      <td>26731.0</td>\n",
              "      <td>False</td>\n",
              "      <td>['Rodas de liga', 'Controle de tração', 'Centr...</td>\n",
              "      <td>83434.04</td>\n",
              "    </tr>\n",
              "    <tr>\n",
              "      <th>74</th>\n",
              "      <td>Fit</td>\n",
              "      <td>Motor Diesel</td>\n",
              "      <td>2013</td>\n",
              "      <td>44329.0</td>\n",
              "      <td>False</td>\n",
              "      <td>['Freios ABS', 'Câmera de estacionamento', 'Câ...</td>\n",
              "      <td>77836.23</td>\n",
              "    </tr>\n",
              "    <tr>\n",
              "      <th>75</th>\n",
              "      <td>C5</td>\n",
              "      <td>Motor 2.0 16v</td>\n",
              "      <td>1994</td>\n",
              "      <td>118236.0</td>\n",
              "      <td>False</td>\n",
              "      <td>['Painel digital', 'Teto panorâmico', 'Piloto ...</td>\n",
              "      <td>60813.92</td>\n",
              "    </tr>\n",
              "    <tr>\n",
              "      <th>76</th>\n",
              "      <td>Celer Hatch</td>\n",
              "      <td>Motor V8</td>\n",
              "      <td>2008</td>\n",
              "      <td>113808.0</td>\n",
              "      <td>False</td>\n",
              "      <td>['Controle de estabilidade', 'Câmbio automátic...</td>\n",
              "      <td>91353.86</td>\n",
              "    </tr>\n",
              "    <tr>\n",
              "      <th>77</th>\n",
              "      <td>HB20S</td>\n",
              "      <td>Motor V8</td>\n",
              "      <td>2008</td>\n",
              "      <td>610.0</td>\n",
              "      <td>False</td>\n",
              "      <td>['Teto panorâmico', 'Rodas de liga', 'Travas e...</td>\n",
              "      <td>116281.21</td>\n",
              "    </tr>\n",
              "    <tr>\n",
              "      <th>78</th>\n",
              "      <td>Cielo Hatch</td>\n",
              "      <td>Motor Diesel</td>\n",
              "      <td>2019</td>\n",
              "      <td>NaN</td>\n",
              "      <td>True</td>\n",
              "      <td>['Painel digital', 'Central multimídia', 'Câme...</td>\n",
              "      <td>145197.70</td>\n",
              "    </tr>\n",
              "    <tr>\n",
              "      <th>79</th>\n",
              "      <td>Livina</td>\n",
              "      <td>Motor 2.0 16v</td>\n",
              "      <td>2019</td>\n",
              "      <td>NaN</td>\n",
              "      <td>True</td>\n",
              "      <td>['Sensor crepuscular', 'Câmera de estacionamen...</td>\n",
              "      <td>50742.10</td>\n",
              "    </tr>\n",
              "    <tr>\n",
              "      <th>80</th>\n",
              "      <td>Ducato</td>\n",
              "      <td>Motor 5.0 V8 Bi-Turbo</td>\n",
              "      <td>1999</td>\n",
              "      <td>12887.0</td>\n",
              "      <td>False</td>\n",
              "      <td>['Sensor de chuva', 'Painel digital', 'Sensor ...</td>\n",
              "      <td>73033.53</td>\n",
              "    </tr>\n",
              "    <tr>\n",
              "      <th>81</th>\n",
              "      <td>March</td>\n",
              "      <td>Motor V6</td>\n",
              "      <td>2007</td>\n",
              "      <td>79607.0</td>\n",
              "      <td>False</td>\n",
              "      <td>['Bancos de couro', 'Piloto automático', 'Sens...</td>\n",
              "      <td>54332.87</td>\n",
              "    </tr>\n",
              "    <tr>\n",
              "      <th>82</th>\n",
              "      <td>Cadillac XTS sedan</td>\n",
              "      <td>Motor Diesel V6</td>\n",
              "      <td>1993</td>\n",
              "      <td>90924.0</td>\n",
              "      <td>False</td>\n",
              "      <td>['Ar condicionado', 'Câmbio automático', 'Sens...</td>\n",
              "      <td>52207.45</td>\n",
              "    </tr>\n",
              "    <tr>\n",
              "      <th>83</th>\n",
              "      <td>Lamborghini Centenario</td>\n",
              "      <td>Motor V6</td>\n",
              "      <td>1995</td>\n",
              "      <td>42733.0</td>\n",
              "      <td>False</td>\n",
              "      <td>['Central multimídia', 'Vidros elétricos', 'Se...</td>\n",
              "      <td>63578.50</td>\n",
              "    </tr>\n",
              "    <tr>\n",
              "      <th>84</th>\n",
              "      <td>Hilux</td>\n",
              "      <td>Motor 5.0 V8 Bi-Turbo</td>\n",
              "      <td>2019</td>\n",
              "      <td>NaN</td>\n",
              "      <td>True</td>\n",
              "      <td>['4 X 4', 'Piloto automático', 'Teto panorâmic...</td>\n",
              "      <td>64507.72</td>\n",
              "    </tr>\n",
              "    <tr>\n",
              "      <th>85</th>\n",
              "      <td>Grand Siena</td>\n",
              "      <td>Motor Diesel V8</td>\n",
              "      <td>2019</td>\n",
              "      <td>NaN</td>\n",
              "      <td>True</td>\n",
              "      <td>['Bancos de couro', 'Painel digital', 'Sensor ...</td>\n",
              "      <td>115075.59</td>\n",
              "    </tr>\n",
              "    <tr>\n",
              "      <th>86</th>\n",
              "      <td>Symbol</td>\n",
              "      <td>Motor Diesel</td>\n",
              "      <td>2016</td>\n",
              "      <td>117714.0</td>\n",
              "      <td>False</td>\n",
              "      <td>['4 X 4', 'Piloto automático', 'Sensor crepusc...</td>\n",
              "      <td>133030.60</td>\n",
              "    </tr>\n",
              "    <tr>\n",
              "      <th>87</th>\n",
              "      <td>Aston Martin V12 GT Zagato</td>\n",
              "      <td>Motor 4.0 Turbo</td>\n",
              "      <td>2011</td>\n",
              "      <td>113885.0</td>\n",
              "      <td>False</td>\n",
              "      <td>['Central multimídia', 'Piloto automático', 'S...</td>\n",
              "      <td>141591.86</td>\n",
              "    </tr>\n",
              "    <tr>\n",
              "      <th>88</th>\n",
              "      <td>Fusion</td>\n",
              "      <td>Motor 1.8 16v</td>\n",
              "      <td>2019</td>\n",
              "      <td>NaN</td>\n",
              "      <td>True</td>\n",
              "      <td>['Controle de tração', 'Câmbio automático', 'F...</td>\n",
              "      <td>100380.28</td>\n",
              "    </tr>\n",
              "    <tr>\n",
              "      <th>89</th>\n",
              "      <td>A4 Sedan</td>\n",
              "      <td>Motor Diesel</td>\n",
              "      <td>2002</td>\n",
              "      <td>30511.0</td>\n",
              "      <td>False</td>\n",
              "      <td>['Câmera de estacionamento', '4 X 4', 'Travas ...</td>\n",
              "      <td>96369.04</td>\n",
              "    </tr>\n",
              "    <tr>\n",
              "      <th>90</th>\n",
              "      <td>Xsara Picasso</td>\n",
              "      <td>Motor 2.0 16v</td>\n",
              "      <td>2013</td>\n",
              "      <td>74867.0</td>\n",
              "      <td>False</td>\n",
              "      <td>['Sensor de chuva', 'Teto panorâmico', 'Centra...</td>\n",
              "      <td>142603.84</td>\n",
              "    </tr>\n",
              "    <tr>\n",
              "      <th>91</th>\n",
              "      <td>207 SW</td>\n",
              "      <td>Motor 3.0 32v</td>\n",
              "      <td>2017</td>\n",
              "      <td>119760.0</td>\n",
              "      <td>False</td>\n",
              "      <td>['Controle de estabilidade', 'Travas elétricas...</td>\n",
              "      <td>117709.67</td>\n",
              "    </tr>\n",
              "    <tr>\n",
              "      <th>92</th>\n",
              "      <td>Star</td>\n",
              "      <td>Motor V6</td>\n",
              "      <td>2016</td>\n",
              "      <td>8356.0</td>\n",
              "      <td>False</td>\n",
              "      <td>['Câmera de estacionamento', '4 X 4', 'Central...</td>\n",
              "      <td>102241.54</td>\n",
              "    </tr>\n",
              "    <tr>\n",
              "      <th>93</th>\n",
              "      <td>Doblò Cargo</td>\n",
              "      <td>Motor 3.0 32v</td>\n",
              "      <td>2008</td>\n",
              "      <td>64247.0</td>\n",
              "      <td>False</td>\n",
              "      <td>['Freios ABS', 'Teto panorâmico', 'Vidros elét...</td>\n",
              "      <td>96065.38</td>\n",
              "    </tr>\n",
              "    <tr>\n",
              "      <th>94</th>\n",
              "      <td>Cadillac CTS</td>\n",
              "      <td>Motor 1.8 16v</td>\n",
              "      <td>2018</td>\n",
              "      <td>88661.0</td>\n",
              "      <td>False</td>\n",
              "      <td>['Travas elétricas', 'Sensor de chuva', 'Freio...</td>\n",
              "      <td>53894.61</td>\n",
              "    </tr>\n",
              "    <tr>\n",
              "      <th>95</th>\n",
              "      <td>Cayenne</td>\n",
              "      <td>Motor 1.0 8v</td>\n",
              "      <td>2003</td>\n",
              "      <td>4539.0</td>\n",
              "      <td>False</td>\n",
              "      <td>['Controle de tração', 'Piloto automático', 'T...</td>\n",
              "      <td>123911.78</td>\n",
              "    </tr>\n",
              "    <tr>\n",
              "      <th>96</th>\n",
              "      <td>Fox</td>\n",
              "      <td>Motor 4.0 Turbo</td>\n",
              "      <td>2003</td>\n",
              "      <td>110116.0</td>\n",
              "      <td>False</td>\n",
              "      <td>['Piloto automático', 'Câmbio automático', 'Tr...</td>\n",
              "      <td>101996.35</td>\n",
              "    </tr>\n",
              "    <tr>\n",
              "      <th>97</th>\n",
              "      <td>Tiida Hatch</td>\n",
              "      <td>Motor Diesel V6</td>\n",
              "      <td>2004</td>\n",
              "      <td>33215.0</td>\n",
              "      <td>False</td>\n",
              "      <td>['Teto panorâmico', 'Travas elétricas', 'Senso...</td>\n",
              "      <td>83431.66</td>\n",
              "    </tr>\n",
              "    <tr>\n",
              "      <th>98</th>\n",
              "      <td>Dodge Charger</td>\n",
              "      <td>Motor 2.4 Turbo</td>\n",
              "      <td>2010</td>\n",
              "      <td>92001.0</td>\n",
              "      <td>False</td>\n",
              "      <td>['Vidros elétricos', 'Sensor crepuscular', 'Co...</td>\n",
              "      <td>122975.63</td>\n",
              "    </tr>\n",
              "    <tr>\n",
              "      <th>99</th>\n",
              "      <td>Face</td>\n",
              "      <td>Motor V8</td>\n",
              "      <td>2019</td>\n",
              "      <td>NaN</td>\n",
              "      <td>True</td>\n",
              "      <td>['Controle de estabilidade', 'Vidros elétricos...</td>\n",
              "      <td>93227.73</td>\n",
              "    </tr>\n",
              "    <tr>\n",
              "      <th>100</th>\n",
              "      <td>Prius</td>\n",
              "      <td>Motor 3.0 32v</td>\n",
              "      <td>2006</td>\n",
              "      <td>81708.0</td>\n",
              "      <td>False</td>\n",
              "      <td>['Rodas de liga', 'Bancos de couro', 'Painel d...</td>\n",
              "      <td>58762.65</td>\n",
              "    </tr>\n",
              "    <tr>\n",
              "      <th>101</th>\n",
              "      <td>Idea</td>\n",
              "      <td>Motor V6</td>\n",
              "      <td>2001</td>\n",
              "      <td>70641.0</td>\n",
              "      <td>False</td>\n",
              "      <td>['Central multimídia', 'Piloto automático', 'T...</td>\n",
              "      <td>139549.67</td>\n",
              "    </tr>\n",
              "    <tr>\n",
              "      <th>102</th>\n",
              "      <td>A8</td>\n",
              "      <td>Motor 2.0 16v</td>\n",
              "      <td>2019</td>\n",
              "      <td>NaN</td>\n",
              "      <td>True</td>\n",
              "      <td>['Painel digital', 'Teto panorâmico', 'Piloto ...</td>\n",
              "      <td>122016.42</td>\n",
              "    </tr>\n",
              "    <tr>\n",
              "      <th>103</th>\n",
              "      <td>Série 1 Cabrio</td>\n",
              "      <td>Motor 3.0 32v</td>\n",
              "      <td>2015</td>\n",
              "      <td>91277.0</td>\n",
              "      <td>False</td>\n",
              "      <td>['Vidros elétricos', 'Travas elétricas', 'Cont...</td>\n",
              "      <td>72731.98</td>\n",
              "    </tr>\n",
              "    <tr>\n",
              "      <th>104</th>\n",
              "      <td>Edge</td>\n",
              "      <td>Motor V6</td>\n",
              "      <td>2018</td>\n",
              "      <td>26544.0</td>\n",
              "      <td>False</td>\n",
              "      <td>['Freios ABS', 'Controle de tração', 'Sensor c...</td>\n",
              "      <td>88416.54</td>\n",
              "    </tr>\n",
              "    <tr>\n",
              "      <th>105</th>\n",
              "      <td>Cadillac ATS sedan</td>\n",
              "      <td>Motor 1.8 16v</td>\n",
              "      <td>2017</td>\n",
              "      <td>52596.0</td>\n",
              "      <td>False</td>\n",
              "      <td>['Painel digital', 'Vidros elétricos', 'Teto p...</td>\n",
              "      <td>73873.42</td>\n",
              "    </tr>\n",
              "    <tr>\n",
              "      <th>106</th>\n",
              "      <td>Lamborghini Asterion LPI 910-4</td>\n",
              "      <td>Motor 5.0 V8 Bi-Turbo</td>\n",
              "      <td>1992</td>\n",
              "      <td>47503.0</td>\n",
              "      <td>False</td>\n",
              "      <td>['Ar condicionado', 'Painel digital', 'Control...</td>\n",
              "      <td>70709.34</td>\n",
              "    </tr>\n",
              "    <tr>\n",
              "      <th>107</th>\n",
              "      <td>Frontier</td>\n",
              "      <td>Motor V8</td>\n",
              "      <td>2001</td>\n",
              "      <td>89056.0</td>\n",
              "      <td>False</td>\n",
              "      <td>['Câmbio automático', 'Rodas de liga', 'Sensor...</td>\n",
              "      <td>115306.50</td>\n",
              "    </tr>\n",
              "    <tr>\n",
              "      <th>108</th>\n",
              "      <td>Série 3 Sedã</td>\n",
              "      <td>Motor 3.0 32v</td>\n",
              "      <td>1993</td>\n",
              "      <td>28834.0</td>\n",
              "      <td>False</td>\n",
              "      <td>['Controle de tração', 'Controle de estabilida...</td>\n",
              "      <td>55924.63</td>\n",
              "    </tr>\n",
              "    <tr>\n",
              "      <th>109</th>\n",
              "      <td>Lamborghini LM002</td>\n",
              "      <td>Motor 1.8 16v</td>\n",
              "      <td>1995</td>\n",
              "      <td>110564.0</td>\n",
              "      <td>False</td>\n",
              "      <td>['Bancos de couro', 'Freios ABS', 'Central mul...</td>\n",
              "      <td>85052.26</td>\n",
              "    </tr>\n",
              "    <tr>\n",
              "      <th>110</th>\n",
              "      <td>Cadillac XLR</td>\n",
              "      <td>Motor Diesel V8</td>\n",
              "      <td>2003</td>\n",
              "      <td>56638.0</td>\n",
              "      <td>False</td>\n",
              "      <td>['Sensor crepuscular', 'Teto panorâmico', 'Sen...</td>\n",
              "      <td>56646.34</td>\n",
              "    </tr>\n",
              "    <tr>\n",
              "      <th>111</th>\n",
              "      <td>A4 Avant</td>\n",
              "      <td>Motor Diesel</td>\n",
              "      <td>2014</td>\n",
              "      <td>17357.0</td>\n",
              "      <td>False</td>\n",
              "      <td>['Teto panorâmico', '4 X 4', 'Bancos de couro'...</td>\n",
              "      <td>138946.88</td>\n",
              "    </tr>\n",
              "    <tr>\n",
              "      <th>112</th>\n",
              "      <td>EcoSport</td>\n",
              "      <td>Motor 4.0 Turbo</td>\n",
              "      <td>2008</td>\n",
              "      <td>74015.0</td>\n",
              "      <td>False</td>\n",
              "      <td>['Piloto automático', 'Sensor de estacionament...</td>\n",
              "      <td>108256.72</td>\n",
              "    </tr>\n",
              "    <tr>\n",
              "      <th>113</th>\n",
              "      <td>J3</td>\n",
              "      <td>Motor 1.8 16v</td>\n",
              "      <td>2013</td>\n",
              "      <td>15196.0</td>\n",
              "      <td>False</td>\n",
              "      <td>['Controle de estabilidade', '4 X 4', 'Câmera ...</td>\n",
              "      <td>58979.30</td>\n",
              "    </tr>\n",
              "    <tr>\n",
              "      <th>114</th>\n",
              "      <td>Q3</td>\n",
              "      <td>Motor 3.0 32v</td>\n",
              "      <td>2019</td>\n",
              "      <td>NaN</td>\n",
              "      <td>True</td>\n",
              "      <td>['Controle de estabilidade', 'Bancos de couro'...</td>\n",
              "      <td>114727.68</td>\n",
              "    </tr>\n",
              "    <tr>\n",
              "      <th>115</th>\n",
              "      <td>Aston Martin V8 Vantage</td>\n",
              "      <td>Motor V8</td>\n",
              "      <td>2017</td>\n",
              "      <td>10821.0</td>\n",
              "      <td>False</td>\n",
              "      <td>['Teto panorâmico', 'Controle de tração', 'Pai...</td>\n",
              "      <td>139661.48</td>\n",
              "    </tr>\n",
              "    <tr>\n",
              "      <th>116</th>\n",
              "      <td>Z4 Roadster</td>\n",
              "      <td>Motor 3.0 32v</td>\n",
              "      <td>2019</td>\n",
              "      <td>NaN</td>\n",
              "      <td>True</td>\n",
              "      <td>['Central multimídia', 'Câmbio automático', 'T...</td>\n",
              "      <td>80382.24</td>\n",
              "    </tr>\n",
              "    <tr>\n",
              "      <th>117</th>\n",
              "      <td>Lamborghini Ferruccio</td>\n",
              "      <td>Motor 3.0 32v</td>\n",
              "      <td>2019</td>\n",
              "      <td>NaN</td>\n",
              "      <td>True</td>\n",
              "      <td>['Vidros elétricos', 'Piloto automático', 'Tet...</td>\n",
              "      <td>149157.17</td>\n",
              "    </tr>\n",
              "    <tr>\n",
              "      <th>118</th>\n",
              "      <td>Ford Ka+</td>\n",
              "      <td>Motor 1.8 16v</td>\n",
              "      <td>2006</td>\n",
              "      <td>9595.0</td>\n",
              "      <td>False</td>\n",
              "      <td>['Sensor crepuscular', 'Piloto automático', 'C...</td>\n",
              "      <td>87830.41</td>\n",
              "    </tr>\n",
              "    <tr>\n",
              "      <th>119</th>\n",
              "      <td>Silver Shadow</td>\n",
              "      <td>Motor Diesel</td>\n",
              "      <td>2015</td>\n",
              "      <td>99052.0</td>\n",
              "      <td>False</td>\n",
              "      <td>['4 X 4', 'Central multimídia', 'Ar condiciona...</td>\n",
              "      <td>143568.22</td>\n",
              "    </tr>\n",
              "    <tr>\n",
              "      <th>120</th>\n",
              "      <td>Classe C 63 AMG Touring</td>\n",
              "      <td>Motor Diesel V8</td>\n",
              "      <td>2007</td>\n",
              "      <td>52389.0</td>\n",
              "      <td>False</td>\n",
              "      <td>['Central multimídia', 'Piloto automático', 'F...</td>\n",
              "      <td>138171.85</td>\n",
              "    </tr>\n",
              "    <tr>\n",
              "      <th>121</th>\n",
              "      <td>Discovery 4</td>\n",
              "      <td>Motor 4.0 Turbo</td>\n",
              "      <td>2005</td>\n",
              "      <td>119945.0</td>\n",
              "      <td>False</td>\n",
              "      <td>['Freios ABS', 'Rodas de liga', 'Sensor de chu...</td>\n",
              "      <td>115784.95</td>\n",
              "    </tr>\n",
              "    <tr>\n",
              "      <th>122</th>\n",
              "      <td>Veloster</td>\n",
              "      <td>Motor Diesel V8</td>\n",
              "      <td>2017</td>\n",
              "      <td>96005.0</td>\n",
              "      <td>False</td>\n",
              "      <td>['Ar condicionado', 'Central multimídia', 'Ban...</td>\n",
              "      <td>146508.99</td>\n",
              "    </tr>\n",
              "    <tr>\n",
              "      <th>123</th>\n",
              "      <td>Classe C</td>\n",
              "      <td>Motor Diesel V6</td>\n",
              "      <td>1998</td>\n",
              "      <td>31639.0</td>\n",
              "      <td>False</td>\n",
              "      <td>['Freios ABS', 'Sensor de chuva', 'Central mul...</td>\n",
              "      <td>137670.23</td>\n",
              "    </tr>\n",
              "    <tr>\n",
              "      <th>124</th>\n",
              "      <td>Camry</td>\n",
              "      <td>Motor Diesel</td>\n",
              "      <td>2019</td>\n",
              "      <td>NaN</td>\n",
              "      <td>True</td>\n",
              "      <td>['Travas elétricas', 'Rodas de liga', 'Sensor ...</td>\n",
              "      <td>138597.27</td>\n",
              "    </tr>\n",
              "    <tr>\n",
              "      <th>125</th>\n",
              "      <td>C5 Tourer</td>\n",
              "      <td>Motor Diesel V6</td>\n",
              "      <td>1999</td>\n",
              "      <td>80187.0</td>\n",
              "      <td>False</td>\n",
              "      <td>['Rodas de liga', 'Sensor de chuva', 'Painel d...</td>\n",
              "      <td>147627.81</td>\n",
              "    </tr>\n",
              "    <tr>\n",
              "      <th>126</th>\n",
              "      <td>R8 GT</td>\n",
              "      <td>Motor 4.0 Turbo</td>\n",
              "      <td>2019</td>\n",
              "      <td>NaN</td>\n",
              "      <td>True</td>\n",
              "      <td>['Rodas de liga', 'Câmbio automático', 'Sensor...</td>\n",
              "      <td>62999.02</td>\n",
              "    </tr>\n",
              "    <tr>\n",
              "      <th>127</th>\n",
              "      <td>Bongo</td>\n",
              "      <td>Motor Diesel V8</td>\n",
              "      <td>2009</td>\n",
              "      <td>58212.0</td>\n",
              "      <td>False</td>\n",
              "      <td>['Vidros elétricos', 'Teto panorâmico', 'Paine...</td>\n",
              "      <td>91242.44</td>\n",
              "    </tr>\n",
              "    <tr>\n",
              "      <th>128</th>\n",
              "      <td>ASX</td>\n",
              "      <td>Motor Diesel V8</td>\n",
              "      <td>2003</td>\n",
              "      <td>61672.0</td>\n",
              "      <td>False</td>\n",
              "      <td>['Ar condicionado', 'Sensor crepuscular', 'Rod...</td>\n",
              "      <td>149489.92</td>\n",
              "    </tr>\n",
              "    <tr>\n",
              "      <th>129</th>\n",
              "      <td>Cadillac SRX</td>\n",
              "      <td>Motor 5.0 V8 Bi-Turbo</td>\n",
              "      <td>1994</td>\n",
              "      <td>32017.0</td>\n",
              "      <td>False</td>\n",
              "      <td>['Painel digital', 'Piloto automático', 'Contr...</td>\n",
              "      <td>63529.95</td>\n",
              "    </tr>\n",
              "    <tr>\n",
              "      <th>130</th>\n",
              "      <td>Classe CL</td>\n",
              "      <td>Motor V8</td>\n",
              "      <td>2019</td>\n",
              "      <td>NaN</td>\n",
              "      <td>True</td>\n",
              "      <td>['Central multimídia', 'Câmbio automático', '4...</td>\n",
              "      <td>58525.41</td>\n",
              "    </tr>\n",
              "    <tr>\n",
              "      <th>131</th>\n",
              "      <td>500 Abarth</td>\n",
              "      <td>Motor V6</td>\n",
              "      <td>1994</td>\n",
              "      <td>56944.0</td>\n",
              "      <td>False</td>\n",
              "      <td>['4 X 4', 'Teto panorâmico', 'Controle de traç...</td>\n",
              "      <td>90345.05</td>\n",
              "    </tr>\n",
              "    <tr>\n",
              "      <th>132</th>\n",
              "      <td>Aston Martin Cygnet</td>\n",
              "      <td>Motor 5.0 V8 Bi-Turbo</td>\n",
              "      <td>2019</td>\n",
              "      <td>NaN</td>\n",
              "      <td>True</td>\n",
              "      <td>['Painel digital', 'Ar condicionado', 'Sensor ...</td>\n",
              "      <td>147770.87</td>\n",
              "    </tr>\n",
              "    <tr>\n",
              "      <th>133</th>\n",
              "      <td>Cadillac STS</td>\n",
              "      <td>Motor 4.0 Turbo</td>\n",
              "      <td>2015</td>\n",
              "      <td>86519.0</td>\n",
              "      <td>False</td>\n",
              "      <td>['Painel digital', 'Bancos de couro', 'Sensor ...</td>\n",
              "      <td>106617.71</td>\n",
              "    </tr>\n",
              "    <tr>\n",
              "      <th>134</th>\n",
              "      <td>Aston Martin DB9</td>\n",
              "      <td>Motor 1.8 16v</td>\n",
              "      <td>1996</td>\n",
              "      <td>4821.0</td>\n",
              "      <td>False</td>\n",
              "      <td>['Ar condicionado', 'Vidros elétricos', '4 X 4...</td>\n",
              "      <td>104929.88</td>\n",
              "    </tr>\n",
              "    <tr>\n",
              "      <th>135</th>\n",
              "      <td>NX 200t</td>\n",
              "      <td>Motor 2.4 Turbo</td>\n",
              "      <td>1997</td>\n",
              "      <td>101025.0</td>\n",
              "      <td>False</td>\n",
              "      <td>['Controle de estabilidade', 'Painel digital',...</td>\n",
              "      <td>100712.45</td>\n",
              "    </tr>\n",
              "    <tr>\n",
              "      <th>136</th>\n",
              "      <td>Aston Martin One-77</td>\n",
              "      <td>Motor V6</td>\n",
              "      <td>1993</td>\n",
              "      <td>30705.0</td>\n",
              "      <td>False</td>\n",
              "      <td>['Sensor de estacionamento', 'Rodas de liga', ...</td>\n",
              "      <td>141982.93</td>\n",
              "    </tr>\n",
              "    <tr>\n",
              "      <th>137</th>\n",
              "      <td>Lamborghini Veneno</td>\n",
              "      <td>Motor 3.0 32v</td>\n",
              "      <td>2019</td>\n",
              "      <td>NaN</td>\n",
              "      <td>True</td>\n",
              "      <td>['4 X 4', 'Sensor de estacionamento', 'Câmbio ...</td>\n",
              "      <td>104038.79</td>\n",
              "    </tr>\n",
              "    <tr>\n",
              "      <th>138</th>\n",
              "      <td>Sentra</td>\n",
              "      <td>Motor 2.0 16v</td>\n",
              "      <td>1992</td>\n",
              "      <td>32555.0</td>\n",
              "      <td>False</td>\n",
              "      <td>['Piloto automático', 'Sensor crepuscular', 'T...</td>\n",
              "      <td>88501.54</td>\n",
              "    </tr>\n",
              "    <tr>\n",
              "      <th>139</th>\n",
              "      <td>Jumper</td>\n",
              "      <td>Motor 2.4 Turbo</td>\n",
              "      <td>1995</td>\n",
              "      <td>103389.0</td>\n",
              "      <td>False</td>\n",
              "      <td>['Ar condicionado', 'Rodas de liga', 'Câmbio a...</td>\n",
              "      <td>79782.02</td>\n",
              "    </tr>\n",
              "    <tr>\n",
              "      <th>140</th>\n",
              "      <td>i30</td>\n",
              "      <td>Motor 1.8 16v</td>\n",
              "      <td>2019</td>\n",
              "      <td>NaN</td>\n",
              "      <td>True</td>\n",
              "      <td>['Câmbio automático', 'Controle de estabilidad...</td>\n",
              "      <td>86224.10</td>\n",
              "    </tr>\n",
              "    <tr>\n",
              "      <th>141</th>\n",
              "      <td>X6</td>\n",
              "      <td>Motor Diesel V6</td>\n",
              "      <td>1990</td>\n",
              "      <td>55289.0</td>\n",
              "      <td>False</td>\n",
              "      <td>['Câmera de estacionamento', 'Travas elétricas...</td>\n",
              "      <td>103596.18</td>\n",
              "    </tr>\n",
              "    <tr>\n",
              "      <th>142</th>\n",
              "      <td>Voyage</td>\n",
              "      <td>Motor 5.0 V8 Bi-Turbo</td>\n",
              "      <td>2019</td>\n",
              "      <td>NaN</td>\n",
              "      <td>True</td>\n",
              "      <td>['Ar condicionado', 'Sensor de estacionamento'...</td>\n",
              "      <td>148996.47</td>\n",
              "    </tr>\n",
              "    <tr>\n",
              "      <th>143</th>\n",
              "      <td>Phantom I Phantom II</td>\n",
              "      <td>Motor 1.8 16v</td>\n",
              "      <td>2019</td>\n",
              "      <td>NaN</td>\n",
              "      <td>True</td>\n",
              "      <td>['Piloto automático', 'Freios ABS', 'Painel di...</td>\n",
              "      <td>60948.01</td>\n",
              "    </tr>\n",
              "    <tr>\n",
              "      <th>144</th>\n",
              "      <td>Passat Variant</td>\n",
              "      <td>Motor 1.0 8v</td>\n",
              "      <td>1991</td>\n",
              "      <td>115930.0</td>\n",
              "      <td>False</td>\n",
              "      <td>['Freios ABS', 'Rodas de liga', 'Piloto automá...</td>\n",
              "      <td>69535.44</td>\n",
              "    </tr>\n",
              "    <tr>\n",
              "      <th>145</th>\n",
              "      <td>Clio</td>\n",
              "      <td>Motor Diesel</td>\n",
              "      <td>1990</td>\n",
              "      <td>66437.0</td>\n",
              "      <td>False</td>\n",
              "      <td>['4 X 4', 'Câmbio automático', 'Freios ABS', '...</td>\n",
              "      <td>111130.33</td>\n",
              "    </tr>\n",
              "    <tr>\n",
              "      <th>146</th>\n",
              "      <td>Classe G</td>\n",
              "      <td>Motor Diesel V6</td>\n",
              "      <td>2012</td>\n",
              "      <td>96800.0</td>\n",
              "      <td>False</td>\n",
              "      <td>['Controle de estabilidade', 'Central multimíd...</td>\n",
              "      <td>65847.69</td>\n",
              "    </tr>\n",
              "    <tr>\n",
              "      <th>147</th>\n",
              "      <td>Silver Ghost</td>\n",
              "      <td>Motor 1.8 16v</td>\n",
              "      <td>2007</td>\n",
              "      <td>14237.0</td>\n",
              "      <td>False</td>\n",
              "      <td>['Travas elétricas', 'Painel digital', 'Câmera...</td>\n",
              "      <td>78096.06</td>\n",
              "    </tr>\n",
              "    <tr>\n",
              "      <th>148</th>\n",
              "      <td>Série 3 M3 Coupé</td>\n",
              "      <td>Motor Diesel</td>\n",
              "      <td>2013</td>\n",
              "      <td>19896.0</td>\n",
              "      <td>False</td>\n",
              "      <td>['Bancos de couro', 'Sensor de chuva', 'Ar con...</td>\n",
              "      <td>69219.89</td>\n",
              "    </tr>\n",
              "    <tr>\n",
              "      <th>149</th>\n",
              "      <td>Gallardo LP 560 – 4</td>\n",
              "      <td>Motor Diesel</td>\n",
              "      <td>2000</td>\n",
              "      <td>113045.0</td>\n",
              "      <td>False</td>\n",
              "      <td>['Freios ABS', 'Teto panorâmico', 'Central mul...</td>\n",
              "      <td>144118.91</td>\n",
              "    </tr>\n",
              "    <tr>\n",
              "      <th>150</th>\n",
              "      <td>Freelander 2</td>\n",
              "      <td>Motor Diesel V6</td>\n",
              "      <td>2002</td>\n",
              "      <td>114942.0</td>\n",
              "      <td>False</td>\n",
              "      <td>['4 X 4', 'Câmera de estacionamento', 'Sensor ...</td>\n",
              "      <td>77397.05</td>\n",
              "    </tr>\n",
              "    <tr>\n",
              "      <th>151</th>\n",
              "      <td>Grand Cherokee</td>\n",
              "      <td>Motor 5.0 V8 Bi-Turbo</td>\n",
              "      <td>1996</td>\n",
              "      <td>3173.0</td>\n",
              "      <td>False</td>\n",
              "      <td>['Câmbio automático', 'Travas elétricas', 'Sen...</td>\n",
              "      <td>68974.25</td>\n",
              "    </tr>\n",
              "    <tr>\n",
              "      <th>152</th>\n",
              "      <td>Aston Martin DBR9</td>\n",
              "      <td>Motor 4.0 Turbo</td>\n",
              "      <td>1996</td>\n",
              "      <td>83611.0</td>\n",
              "      <td>False</td>\n",
              "      <td>['Controle de estabilidade', 'Sensor de estaci...</td>\n",
              "      <td>125231.30</td>\n",
              "    </tr>\n",
              "    <tr>\n",
              "      <th>153</th>\n",
              "      <td>Soul</td>\n",
              "      <td>Motor 5.0 V8 Bi-Turbo</td>\n",
              "      <td>2015</td>\n",
              "      <td>25356.0</td>\n",
              "      <td>False</td>\n",
              "      <td>['Sensor crepuscular', 'Piloto automático', 'S...</td>\n",
              "      <td>85501.12</td>\n",
              "    </tr>\n",
              "    <tr>\n",
              "      <th>154</th>\n",
              "      <td>Cadillac BLS</td>\n",
              "      <td>Motor V8</td>\n",
              "      <td>1993</td>\n",
              "      <td>88634.0</td>\n",
              "      <td>False</td>\n",
              "      <td>['Teto panorâmico', 'Controle de estabilidade'...</td>\n",
              "      <td>137116.21</td>\n",
              "    </tr>\n",
              "    <tr>\n",
              "      <th>155</th>\n",
              "      <td>RX 350</td>\n",
              "      <td>Motor V6</td>\n",
              "      <td>2013</td>\n",
              "      <td>2314.0</td>\n",
              "      <td>False</td>\n",
              "      <td>['Piloto automático', 'Sensor crepuscular', 'A...</td>\n",
              "      <td>138823.81</td>\n",
              "    </tr>\n",
              "    <tr>\n",
              "      <th>156</th>\n",
              "      <td>Cayman</td>\n",
              "      <td>Motor 3.0 32v</td>\n",
              "      <td>2013</td>\n",
              "      <td>2627.0</td>\n",
              "      <td>False</td>\n",
              "      <td>['Central multimídia', 'Painel digital', 'Sens...</td>\n",
              "      <td>117961.95</td>\n",
              "    </tr>\n",
              "    <tr>\n",
              "      <th>157</th>\n",
              "      <td>Chana Utility</td>\n",
              "      <td>Motor Diesel</td>\n",
              "      <td>2009</td>\n",
              "      <td>52034.0</td>\n",
              "      <td>False</td>\n",
              "      <td>['Ar condicionado', 'Sensor de estacionamento'...</td>\n",
              "      <td>132662.32</td>\n",
              "    </tr>\n",
              "    <tr>\n",
              "      <th>158</th>\n",
              "      <td>308 CC</td>\n",
              "      <td>Motor 4.0 Turbo</td>\n",
              "      <td>2019</td>\n",
              "      <td>NaN</td>\n",
              "      <td>True</td>\n",
              "      <td>['Câmera de estacionamento', 'Bancos de couro'...</td>\n",
              "      <td>146405.79</td>\n",
              "    </tr>\n",
              "    <tr>\n",
              "      <th>159</th>\n",
              "      <td>L200 Triton</td>\n",
              "      <td>Motor Diesel V8</td>\n",
              "      <td>2019</td>\n",
              "      <td>NaN</td>\n",
              "      <td>True</td>\n",
              "      <td>['Vidros elétricos', 'Ar condicionado', 'Paine...</td>\n",
              "      <td>81999.21</td>\n",
              "    </tr>\n",
              "    <tr>\n",
              "      <th>160</th>\n",
              "      <td>Jetta</td>\n",
              "      <td>Motor 5.0 V8 Bi-Turbo</td>\n",
              "      <td>2002</td>\n",
              "      <td>79577.0</td>\n",
              "      <td>False</td>\n",
              "      <td>['Central multimídia', 'Vidros elétricos', 'Câ...</td>\n",
              "      <td>140934.60</td>\n",
              "    </tr>\n",
              "    <tr>\n",
              "      <th>161</th>\n",
              "      <td>C4 Lounge</td>\n",
              "      <td>Motor V8</td>\n",
              "      <td>1997</td>\n",
              "      <td>108201.0</td>\n",
              "      <td>False</td>\n",
              "      <td>['Central multimídia', 'Controle de tração', '...</td>\n",
              "      <td>82366.81</td>\n",
              "    </tr>\n",
              "    <tr>\n",
              "      <th>162</th>\n",
              "      <td>C4 Pallas</td>\n",
              "      <td>Motor 1.0 8v</td>\n",
              "      <td>1998</td>\n",
              "      <td>76453.0</td>\n",
              "      <td>False</td>\n",
              "      <td>['4 X 4', 'Freios ABS', 'Sensor de chuva', 'Ro...</td>\n",
              "      <td>70424.11</td>\n",
              "    </tr>\n",
              "    <tr>\n",
              "      <th>163</th>\n",
              "      <td>Equus</td>\n",
              "      <td>Motor 3.0 32v</td>\n",
              "      <td>2004</td>\n",
              "      <td>57683.0</td>\n",
              "      <td>False</td>\n",
              "      <td>['Travas elétricas', 'Rodas de liga', '4 X 4',...</td>\n",
              "      <td>53620.31</td>\n",
              "    </tr>\n",
              "    <tr>\n",
              "      <th>164</th>\n",
              "      <td>Classe GL</td>\n",
              "      <td>Motor 3.0 32v</td>\n",
              "      <td>1996</td>\n",
              "      <td>96610.0</td>\n",
              "      <td>False</td>\n",
              "      <td>['Freios ABS', 'Câmera de estacionamento', 'Tr...</td>\n",
              "      <td>73389.18</td>\n",
              "    </tr>\n",
              "    <tr>\n",
              "      <th>165</th>\n",
              "      <td>Range Rover Evoque</td>\n",
              "      <td>Motor 2.0 16v</td>\n",
              "      <td>2015</td>\n",
              "      <td>109001.0</td>\n",
              "      <td>False</td>\n",
              "      <td>['Rodas de liga', 'Teto panorâmico', 'Sensor d...</td>\n",
              "      <td>111618.12</td>\n",
              "    </tr>\n",
              "    <tr>\n",
              "      <th>166</th>\n",
              "      <td>Cherokee</td>\n",
              "      <td>Motor 4.0 Turbo</td>\n",
              "      <td>2016</td>\n",
              "      <td>26212.0</td>\n",
              "      <td>False</td>\n",
              "      <td>['Painel digital', 'Travas elétricas', 'Rodas ...</td>\n",
              "      <td>112187.37</td>\n",
              "    </tr>\n",
              "    <tr>\n",
              "      <th>167</th>\n",
              "      <td>Punto</td>\n",
              "      <td>Motor 4.0 Turbo</td>\n",
              "      <td>2005</td>\n",
              "      <td>45971.0</td>\n",
              "      <td>False</td>\n",
              "      <td>['Central multimídia', 'Câmbio automático', 'P...</td>\n",
              "      <td>120812.57</td>\n",
              "    </tr>\n",
              "    <tr>\n",
              "      <th>168</th>\n",
              "      <td>Grand Tour</td>\n",
              "      <td>Motor 3.0 32v</td>\n",
              "      <td>1999</td>\n",
              "      <td>49182.0</td>\n",
              "      <td>False</td>\n",
              "      <td>['Rodas de liga', 'Travas elétricas', 'Bancos ...</td>\n",
              "      <td>116031.04</td>\n",
              "    </tr>\n",
              "    <tr>\n",
              "      <th>169</th>\n",
              "      <td>Fluence</td>\n",
              "      <td>Motor Diesel V6</td>\n",
              "      <td>1995</td>\n",
              "      <td>49907.0</td>\n",
              "      <td>False</td>\n",
              "      <td>['Sensor crepuscular', 'Teto panorâmico', 'Câm...</td>\n",
              "      <td>125398.11</td>\n",
              "    </tr>\n",
              "    <tr>\n",
              "      <th>170</th>\n",
              "      <td>Effa Hafei Picape Cabine Simples</td>\n",
              "      <td>Motor 1.0 8v</td>\n",
              "      <td>1993</td>\n",
              "      <td>38620.0</td>\n",
              "      <td>False</td>\n",
              "      <td>['Piloto automático', 'Ar condicionado', 'Cent...</td>\n",
              "      <td>76101.47</td>\n",
              "    </tr>\n",
              "    <tr>\n",
              "      <th>171</th>\n",
              "      <td>Durango</td>\n",
              "      <td>Motor 2.0 16v</td>\n",
              "      <td>2004</td>\n",
              "      <td>60996.0</td>\n",
              "      <td>False</td>\n",
              "      <td>['Bancos de couro', 'Painel digital', 'Câmbio ...</td>\n",
              "      <td>75263.24</td>\n",
              "    </tr>\n",
              "    <tr>\n",
              "      <th>172</th>\n",
              "      <td>Boxster</td>\n",
              "      <td>Motor Diesel V8</td>\n",
              "      <td>2013</td>\n",
              "      <td>73914.0</td>\n",
              "      <td>False</td>\n",
              "      <td>['Teto panorâmico', 'Sensor crepuscular', 'Ban...</td>\n",
              "      <td>147387.76</td>\n",
              "    </tr>\n",
              "    <tr>\n",
              "      <th>173</th>\n",
              "      <td>TT Roadster</td>\n",
              "      <td>Motor Diesel</td>\n",
              "      <td>1998</td>\n",
              "      <td>107392.0</td>\n",
              "      <td>False</td>\n",
              "      <td>['Ar condicionado', 'Sensor de estacionamento'...</td>\n",
              "      <td>85311.40</td>\n",
              "    </tr>\n",
              "    <tr>\n",
              "      <th>174</th>\n",
              "      <td>Lamborghini Jalpa</td>\n",
              "      <td>Motor 1.8 16v</td>\n",
              "      <td>2018</td>\n",
              "      <td>9146.0</td>\n",
              "      <td>False</td>\n",
              "      <td>['Piloto automático', 'Freios ABS', 'Sensor de...</td>\n",
              "      <td>54388.11</td>\n",
              "    </tr>\n",
              "    <tr>\n",
              "      <th>175</th>\n",
              "      <td>Classe SLK</td>\n",
              "      <td>Motor 4.0 Turbo</td>\n",
              "      <td>2019</td>\n",
              "      <td>NaN</td>\n",
              "      <td>True</td>\n",
              "      <td>['4 X 4', 'Sensor de estacionamento', 'Control...</td>\n",
              "      <td>124156.65</td>\n",
              "    </tr>\n",
              "    <tr>\n",
              "      <th>176</th>\n",
              "      <td>Golf</td>\n",
              "      <td>Motor 1.0 8v</td>\n",
              "      <td>2018</td>\n",
              "      <td>17924.0</td>\n",
              "      <td>False</td>\n",
              "      <td>['Rodas de liga', 'Controle de tração', 'Senso...</td>\n",
              "      <td>146203.34</td>\n",
              "    </tr>\n",
              "    <tr>\n",
              "      <th>177</th>\n",
              "      <td>C3 Picasso</td>\n",
              "      <td>Motor 3.0 32v</td>\n",
              "      <td>2019</td>\n",
              "      <td>NaN</td>\n",
              "      <td>True</td>\n",
              "      <td>['Teto panorâmico', 'Sensor crepuscular', 'Sen...</td>\n",
              "      <td>56453.94</td>\n",
              "    </tr>\n",
              "    <tr>\n",
              "      <th>178</th>\n",
              "      <td>V50</td>\n",
              "      <td>Motor 2.0 16v</td>\n",
              "      <td>1990</td>\n",
              "      <td>116949.0</td>\n",
              "      <td>False</td>\n",
              "      <td>['Teto panorâmico', 'Câmera de estacionamento'...</td>\n",
              "      <td>68873.79</td>\n",
              "    </tr>\n",
              "    <tr>\n",
              "      <th>179</th>\n",
              "      <td>Picanto</td>\n",
              "      <td>Motor 4.0 Turbo</td>\n",
              "      <td>2009</td>\n",
              "      <td>20476.0</td>\n",
              "      <td>False</td>\n",
              "      <td>['Painel digital', 'Controle de estabilidade',...</td>\n",
              "      <td>91667.61</td>\n",
              "    </tr>\n",
              "    <tr>\n",
              "      <th>180</th>\n",
              "      <td>Cadenza</td>\n",
              "      <td>Motor Diesel V6</td>\n",
              "      <td>1990</td>\n",
              "      <td>52804.0</td>\n",
              "      <td>False</td>\n",
              "      <td>['Sensor crepuscular', 'Controle de estabilida...</td>\n",
              "      <td>93776.52</td>\n",
              "    </tr>\n",
              "    <tr>\n",
              "      <th>181</th>\n",
              "      <td>Etios Sedã</td>\n",
              "      <td>Motor 5.0 V8 Bi-Turbo</td>\n",
              "      <td>2006</td>\n",
              "      <td>8849.0</td>\n",
              "      <td>False</td>\n",
              "      <td>['Ar condicionado', 'Vidros elétricos', 'Senso...</td>\n",
              "      <td>66433.82</td>\n",
              "    </tr>\n",
              "    <tr>\n",
              "      <th>182</th>\n",
              "      <td>Alsvin</td>\n",
              "      <td>Motor Diesel V8</td>\n",
              "      <td>2002</td>\n",
              "      <td>91724.0</td>\n",
              "      <td>False</td>\n",
              "      <td>['Central multimídia', 'Controle de estabilida...</td>\n",
              "      <td>109059.27</td>\n",
              "    </tr>\n",
              "    <tr>\n",
              "      <th>183</th>\n",
              "      <td>Cadillac ATS</td>\n",
              "      <td>Motor Diesel V6</td>\n",
              "      <td>1991</td>\n",
              "      <td>32056.0</td>\n",
              "      <td>False</td>\n",
              "      <td>['Piloto automático', 'Rodas de liga', '4 X 4'...</td>\n",
              "      <td>122069.97</td>\n",
              "    </tr>\n",
              "    <tr>\n",
              "      <th>184</th>\n",
              "      <td>Série 3 M3 Sedã</td>\n",
              "      <td>Motor Diesel V6</td>\n",
              "      <td>1992</td>\n",
              "      <td>74886.0</td>\n",
              "      <td>False</td>\n",
              "      <td>['Painel digital', 'Freios ABS', 'Ar condicion...</td>\n",
              "      <td>113090.32</td>\n",
              "    </tr>\n",
              "    <tr>\n",
              "      <th>185</th>\n",
              "      <td>Classe S</td>\n",
              "      <td>Motor 3.0 32v</td>\n",
              "      <td>2019</td>\n",
              "      <td>NaN</td>\n",
              "      <td>True</td>\n",
              "      <td>['Controle de tração', 'Teto panorâmico', 'Câm...</td>\n",
              "      <td>89401.10</td>\n",
              "    </tr>\n",
              "    <tr>\n",
              "      <th>186</th>\n",
              "      <td>T6</td>\n",
              "      <td>Motor 3.0 32v</td>\n",
              "      <td>2019</td>\n",
              "      <td>NaN</td>\n",
              "      <td>True</td>\n",
              "      <td>['Sensor de chuva', 'Câmera de estacionamento'...</td>\n",
              "      <td>56842.79</td>\n",
              "    </tr>\n",
              "    <tr>\n",
              "      <th>187</th>\n",
              "      <td>Aston Martin DB7</td>\n",
              "      <td>Motor Diesel V8</td>\n",
              "      <td>2005</td>\n",
              "      <td>52189.0</td>\n",
              "      <td>False</td>\n",
              "      <td>['Travas elétricas', 'Painel digital', 'Sensor...</td>\n",
              "      <td>146676.71</td>\n",
              "    </tr>\n",
              "    <tr>\n",
              "      <th>188</th>\n",
              "      <td>207 Sedan</td>\n",
              "      <td>Motor 4.0 Turbo</td>\n",
              "      <td>2010</td>\n",
              "      <td>83559.0</td>\n",
              "      <td>False</td>\n",
              "      <td>['Controle de tração', 'Central multimídia', '...</td>\n",
              "      <td>89511.96</td>\n",
              "    </tr>\n",
              "    <tr>\n",
              "      <th>189</th>\n",
              "      <td>Aston Martin Virage</td>\n",
              "      <td>Motor Diesel</td>\n",
              "      <td>2019</td>\n",
              "      <td>NaN</td>\n",
              "      <td>True</td>\n",
              "      <td>['Travas elétricas', 'Controle de tração', 'Câ...</td>\n",
              "      <td>97290.18</td>\n",
              "    </tr>\n",
              "    <tr>\n",
              "      <th>190</th>\n",
              "      <td>Azera</td>\n",
              "      <td>Motor 1.8 16v</td>\n",
              "      <td>2016</td>\n",
              "      <td>20328.0</td>\n",
              "      <td>False</td>\n",
              "      <td>['Bancos de couro', 'Controle de tração', 'Ar ...</td>\n",
              "      <td>120673.56</td>\n",
              "    </tr>\n",
              "    <tr>\n",
              "      <th>191</th>\n",
              "      <td>Vantage Volante</td>\n",
              "      <td>Motor Diesel V8</td>\n",
              "      <td>2019</td>\n",
              "      <td>NaN</td>\n",
              "      <td>True</td>\n",
              "      <td>['Freios ABS', 'Controle de tração', 'Central ...</td>\n",
              "      <td>114434.94</td>\n",
              "    </tr>\n",
              "    <tr>\n",
              "      <th>192</th>\n",
              "      <td>Siena EL</td>\n",
              "      <td>Motor V8</td>\n",
              "      <td>2010</td>\n",
              "      <td>75577.0</td>\n",
              "      <td>False</td>\n",
              "      <td>['Freios ABS', 'Sensor crepuscular', 'Controle...</td>\n",
              "      <td>139546.69</td>\n",
              "    </tr>\n",
              "    <tr>\n",
              "      <th>193</th>\n",
              "      <td>Palio Adventure</td>\n",
              "      <td>Motor Diesel V8</td>\n",
              "      <td>1994</td>\n",
              "      <td>33659.0</td>\n",
              "      <td>False</td>\n",
              "      <td>['Teto panorâmico', 'Central multimídia', 'Pil...</td>\n",
              "      <td>95078.16</td>\n",
              "    </tr>\n",
              "    <tr>\n",
              "      <th>194</th>\n",
              "      <td>HB20X</td>\n",
              "      <td>Motor V8</td>\n",
              "      <td>2001</td>\n",
              "      <td>104341.0</td>\n",
              "      <td>False</td>\n",
              "      <td>['Sensor crepuscular', 'Teto panorâmico', 'Pai...</td>\n",
              "      <td>68091.77</td>\n",
              "    </tr>\n",
              "    <tr>\n",
              "      <th>195</th>\n",
              "      <td>HR</td>\n",
              "      <td>Motor 5.0 V8 Bi-Turbo</td>\n",
              "      <td>2014</td>\n",
              "      <td>25510.0</td>\n",
              "      <td>False</td>\n",
              "      <td>['Controle de tração', 'Câmbio automático', '4...</td>\n",
              "      <td>61496.97</td>\n",
              "    </tr>\n",
              "    <tr>\n",
              "      <th>196</th>\n",
              "      <td>Cadillac STS V-Series</td>\n",
              "      <td>Motor 2.0 16v</td>\n",
              "      <td>1996</td>\n",
              "      <td>18965.0</td>\n",
              "      <td>False</td>\n",
              "      <td>['Vidros elétricos', 'Piloto automático', 'Câm...</td>\n",
              "      <td>139669.30</td>\n",
              "    </tr>\n",
              "    <tr>\n",
              "      <th>197</th>\n",
              "      <td>Série 1 Coupé</td>\n",
              "      <td>Motor 1.0 8v</td>\n",
              "      <td>1993</td>\n",
              "      <td>87161.0</td>\n",
              "      <td>False</td>\n",
              "      <td>['Controle de estabilidade', 'Teto panorâmico'...</td>\n",
              "      <td>80661.39</td>\n",
              "    </tr>\n",
              "    <tr>\n",
              "      <th>198</th>\n",
              "      <td>SpaceFox</td>\n",
              "      <td>Motor V8</td>\n",
              "      <td>1993</td>\n",
              "      <td>6652.0</td>\n",
              "      <td>False</td>\n",
              "      <td>['Sensor crepuscular', '4 X 4', 'Painel digita...</td>\n",
              "      <td>61783.65</td>\n",
              "    </tr>\n",
              "    <tr>\n",
              "      <th>199</th>\n",
              "      <td>C30</td>\n",
              "      <td>Motor 1.0 8v</td>\n",
              "      <td>2001</td>\n",
              "      <td>55738.0</td>\n",
              "      <td>False</td>\n",
              "      <td>['Teto panorâmico', 'Freios ABS', 'Sensor crep...</td>\n",
              "      <td>52805.91</td>\n",
              "    </tr>\n",
              "    <tr>\n",
              "      <th>200</th>\n",
              "      <td>J3 Turin</td>\n",
              "      <td>Motor V6</td>\n",
              "      <td>2019</td>\n",
              "      <td>NaN</td>\n",
              "      <td>True</td>\n",
              "      <td>['Sensor crepuscular', 'Câmera de estacionamen...</td>\n",
              "      <td>127024.75</td>\n",
              "    </tr>\n",
              "    <tr>\n",
              "      <th>201</th>\n",
              "      <td>Classe B</td>\n",
              "      <td>Motor Diesel V8</td>\n",
              "      <td>2019</td>\n",
              "      <td>NaN</td>\n",
              "      <td>True</td>\n",
              "      <td>['4 X 4', 'Bancos de couro', 'Sensor crepuscul...</td>\n",
              "      <td>135543.00</td>\n",
              "    </tr>\n",
              "    <tr>\n",
              "      <th>202</th>\n",
              "      <td>Parati</td>\n",
              "      <td>Motor Diesel V8</td>\n",
              "      <td>2019</td>\n",
              "      <td>NaN</td>\n",
              "      <td>True</td>\n",
              "      <td>['Sensor de estacionamento', 'Piloto automátic...</td>\n",
              "      <td>121708.73</td>\n",
              "    </tr>\n",
              "    <tr>\n",
              "      <th>203</th>\n",
              "      <td>Cadillac CTS V-Series</td>\n",
              "      <td>Motor 4.0 Turbo</td>\n",
              "      <td>2007</td>\n",
              "      <td>64320.0</td>\n",
              "      <td>False</td>\n",
              "      <td>['Piloto automático', 'Ar condicionado', 'Cent...</td>\n",
              "      <td>107342.68</td>\n",
              "    </tr>\n",
              "    <tr>\n",
              "      <th>204</th>\n",
              "      <td>Sedan</td>\n",
              "      <td>Motor V8</td>\n",
              "      <td>2019</td>\n",
              "      <td>NaN</td>\n",
              "      <td>True</td>\n",
              "      <td>['Bancos de couro', 'Central multimídia', 'Fre...</td>\n",
              "      <td>57888.10</td>\n",
              "    </tr>\n",
              "    <tr>\n",
              "      <th>205</th>\n",
              "      <td>Classe CLS 63 AMG</td>\n",
              "      <td>Motor Diesel V6</td>\n",
              "      <td>2016</td>\n",
              "      <td>68678.0</td>\n",
              "      <td>False</td>\n",
              "      <td>['Freios ABS', 'Vidros elétricos', 'Câmbio aut...</td>\n",
              "      <td>118161.48</td>\n",
              "    </tr>\n",
              "    <tr>\n",
              "      <th>206</th>\n",
              "      <td>Aircross</td>\n",
              "      <td>Motor 1.0 8v</td>\n",
              "      <td>2014</td>\n",
              "      <td>71697.0</td>\n",
              "      <td>False</td>\n",
              "      <td>['Controle de tração', 'Piloto automático', 'C...</td>\n",
              "      <td>142499.06</td>\n",
              "    </tr>\n",
              "    <tr>\n",
              "      <th>207</th>\n",
              "      <td>Aston Martin V12 Vantage</td>\n",
              "      <td>Motor V8</td>\n",
              "      <td>2019</td>\n",
              "      <td>NaN</td>\n",
              "      <td>True</td>\n",
              "      <td>['Bancos de couro', 'Central multimídia', 'Con...</td>\n",
              "      <td>128396.11</td>\n",
              "    </tr>\n",
              "    <tr>\n",
              "      <th>208</th>\n",
              "      <td>Sandero</td>\n",
              "      <td>Motor Diesel</td>\n",
              "      <td>2015</td>\n",
              "      <td>34783.0</td>\n",
              "      <td>False</td>\n",
              "      <td>['Piloto automático', 'Teto panorâmico', 'Câmb...</td>\n",
              "      <td>112350.61</td>\n",
              "    </tr>\n",
              "    <tr>\n",
              "      <th>209</th>\n",
              "      <td>New Fiesta</td>\n",
              "      <td>Motor 5.0 V8 Bi-Turbo</td>\n",
              "      <td>2015</td>\n",
              "      <td>33772.0</td>\n",
              "      <td>False</td>\n",
              "      <td>['Controle de tração', 'Travas elétricas', '4 ...</td>\n",
              "      <td>124661.38</td>\n",
              "    </tr>\n",
              "    <tr>\n",
              "      <th>210</th>\n",
              "      <td>XKR</td>\n",
              "      <td>Motor Diesel</td>\n",
              "      <td>1996</td>\n",
              "      <td>85127.0</td>\n",
              "      <td>False</td>\n",
              "      <td>['Controle de tração', 'Ar condicionado', 'Tra...</td>\n",
              "      <td>54263.16</td>\n",
              "    </tr>\n",
              "    <tr>\n",
              "      <th>211</th>\n",
              "      <td>X5</td>\n",
              "      <td>Motor Diesel</td>\n",
              "      <td>2002</td>\n",
              "      <td>13606.0</td>\n",
              "      <td>False</td>\n",
              "      <td>['Controle de tração', 'Piloto automático', 'T...</td>\n",
              "      <td>62041.32</td>\n",
              "    </tr>\n",
              "    <tr>\n",
              "      <th>212</th>\n",
              "      <td>Cadillac DTS</td>\n",
              "      <td>Motor 1.8 16v</td>\n",
              "      <td>2005</td>\n",
              "      <td>35647.0</td>\n",
              "      <td>False</td>\n",
              "      <td>['Central multimídia', 'Rodas de liga', 'Câmbi...</td>\n",
              "      <td>129296.11</td>\n",
              "    </tr>\n",
              "    <tr>\n",
              "      <th>213</th>\n",
              "      <td>Pajero Dakar</td>\n",
              "      <td>Motor 4.0 Turbo</td>\n",
              "      <td>1995</td>\n",
              "      <td>95128.0</td>\n",
              "      <td>False</td>\n",
              "      <td>['Piloto automático', 'Sensor de chuva', 'Cont...</td>\n",
              "      <td>60998.33</td>\n",
              "    </tr>\n",
              "    <tr>\n",
              "      <th>214</th>\n",
              "      <td>Classe A</td>\n",
              "      <td>Motor 1.0 8v</td>\n",
              "      <td>1999</td>\n",
              "      <td>14046.0</td>\n",
              "      <td>False</td>\n",
              "      <td>['Controle de tração', 'Central multimídia', '...</td>\n",
              "      <td>58008.50</td>\n",
              "    </tr>\n",
              "    <tr>\n",
              "      <th>215</th>\n",
              "      <td>Ford Focus Fastback</td>\n",
              "      <td>Motor 4.0 Turbo</td>\n",
              "      <td>2005</td>\n",
              "      <td>41194.0</td>\n",
              "      <td>False</td>\n",
              "      <td>['Bancos de couro', 'Câmera de estacionamento'...</td>\n",
              "      <td>82304.19</td>\n",
              "    </tr>\n",
              "    <tr>\n",
              "      <th>216</th>\n",
              "      <td>Partner</td>\n",
              "      <td>Motor 2.4 Turbo</td>\n",
              "      <td>2019</td>\n",
              "      <td>NaN</td>\n",
              "      <td>True</td>\n",
              "      <td>['Central multimídia', 'Controle de tração', '...</td>\n",
              "      <td>114531.74</td>\n",
              "    </tr>\n",
              "    <tr>\n",
              "      <th>217</th>\n",
              "      <td>R8</td>\n",
              "      <td>Motor V6</td>\n",
              "      <td>1997</td>\n",
              "      <td>96100.0</td>\n",
              "      <td>False</td>\n",
              "      <td>['4 X 4', 'Controle de estabilidade', 'Câmera ...</td>\n",
              "      <td>128565.61</td>\n",
              "    </tr>\n",
              "    <tr>\n",
              "      <th>218</th>\n",
              "      <td>Aston Martin DBS Volante</td>\n",
              "      <td>Motor 4.0 Turbo</td>\n",
              "      <td>1990</td>\n",
              "      <td>103900.0</td>\n",
              "      <td>False</td>\n",
              "      <td>['Central multimídia', 'Controle de estabilida...</td>\n",
              "      <td>126488.26</td>\n",
              "    </tr>\n",
              "    <tr>\n",
              "      <th>219</th>\n",
              "      <td>Mohave</td>\n",
              "      <td>Motor Diesel V6</td>\n",
              "      <td>2001</td>\n",
              "      <td>43814.0</td>\n",
              "      <td>False</td>\n",
              "      <td>['Travas elétricas', 'Central multimídia', 'Pa...</td>\n",
              "      <td>119074.55</td>\n",
              "    </tr>\n",
              "    <tr>\n",
              "      <th>220</th>\n",
              "      <td>Fusca</td>\n",
              "      <td>Motor 3.0 32v</td>\n",
              "      <td>2013</td>\n",
              "      <td>24638.0</td>\n",
              "      <td>False</td>\n",
              "      <td>['Câmbio automático', 'Teto panorâmico', 'Sens...</td>\n",
              "      <td>130238.04</td>\n",
              "    </tr>\n",
              "    <tr>\n",
              "      <th>221</th>\n",
              "      <td>Chana Family</td>\n",
              "      <td>Motor V8</td>\n",
              "      <td>2019</td>\n",
              "      <td>NaN</td>\n",
              "      <td>True</td>\n",
              "      <td>['Piloto automático', 'Teto panorâmico', 'Sens...</td>\n",
              "      <td>115760.17</td>\n",
              "    </tr>\n",
              "    <tr>\n",
              "      <th>222</th>\n",
              "      <td>XC40</td>\n",
              "      <td>Motor 2.4 Turbo</td>\n",
              "      <td>2017</td>\n",
              "      <td>110966.0</td>\n",
              "      <td>False</td>\n",
              "      <td>['Sensor de chuva', 'Central multimídia', 'Vid...</td>\n",
              "      <td>121248.00</td>\n",
              "    </tr>\n",
              "    <tr>\n",
              "      <th>223</th>\n",
              "      <td>Phantom I Jonckheere Aerodynamic Coupe</td>\n",
              "      <td>Motor 1.8 16v</td>\n",
              "      <td>2011</td>\n",
              "      <td>15987.0</td>\n",
              "      <td>False</td>\n",
              "      <td>['Sensor crepuscular', 'Travas elétricas', 'Pi...</td>\n",
              "      <td>98156.35</td>\n",
              "    </tr>\n",
              "    <tr>\n",
              "      <th>224</th>\n",
              "      <td>Boxer</td>\n",
              "      <td>Motor V6</td>\n",
              "      <td>2005</td>\n",
              "      <td>53369.0</td>\n",
              "      <td>False</td>\n",
              "      <td>['Travas elétricas', 'Piloto automático', 'Vid...</td>\n",
              "      <td>112146.80</td>\n",
              "    </tr>\n",
              "    <tr>\n",
              "      <th>225</th>\n",
              "      <td>Chana Cargo</td>\n",
              "      <td>Motor 2.0 16v</td>\n",
              "      <td>2007</td>\n",
              "      <td>10077.0</td>\n",
              "      <td>False</td>\n",
              "      <td>['Teto panorâmico', '4 X 4', 'Central multimíd...</td>\n",
              "      <td>102729.63</td>\n",
              "    </tr>\n",
              "    <tr>\n",
              "      <th>226</th>\n",
              "      <td>Dodge Dakota</td>\n",
              "      <td>Motor Diesel</td>\n",
              "      <td>1993</td>\n",
              "      <td>71544.0</td>\n",
              "      <td>False</td>\n",
              "      <td>['Controle de tração', 'Sensor de estacionamen...</td>\n",
              "      <td>141083.35</td>\n",
              "    </tr>\n",
              "    <tr>\n",
              "      <th>227</th>\n",
              "      <td>X1</td>\n",
              "      <td>Motor Diesel V8</td>\n",
              "      <td>1991</td>\n",
              "      <td>107.0</td>\n",
              "      <td>False</td>\n",
              "      <td>['4 X 4', 'Teto panorâmico', 'Ar condicionado'...</td>\n",
              "      <td>102968.76</td>\n",
              "    </tr>\n",
              "    <tr>\n",
              "      <th>228</th>\n",
              "      <td>GLA</td>\n",
              "      <td>Motor 1.0 8v</td>\n",
              "      <td>1991</td>\n",
              "      <td>8394.0</td>\n",
              "      <td>False</td>\n",
              "      <td>['Sensor de chuva', 'Câmera de estacionamento'...</td>\n",
              "      <td>76310.01</td>\n",
              "    </tr>\n",
              "    <tr>\n",
              "      <th>229</th>\n",
              "      <td>Range Rover Sport</td>\n",
              "      <td>Motor 1.0 8v</td>\n",
              "      <td>1997</td>\n",
              "      <td>41498.0</td>\n",
              "      <td>False</td>\n",
              "      <td>['Sensor de estacionamento', 'Câmera de estaci...</td>\n",
              "      <td>120481.74</td>\n",
              "    </tr>\n",
              "    <tr>\n",
              "      <th>230</th>\n",
              "      <td>DS3</td>\n",
              "      <td>Motor 1.8 16v</td>\n",
              "      <td>2000</td>\n",
              "      <td>116002.0</td>\n",
              "      <td>False</td>\n",
              "      <td>['Controle de estabilidade', 'Ar condicionado'...</td>\n",
              "      <td>54559.18</td>\n",
              "    </tr>\n",
              "    <tr>\n",
              "      <th>231</th>\n",
              "      <td>Veracruz</td>\n",
              "      <td>Motor Diesel V8</td>\n",
              "      <td>2007</td>\n",
              "      <td>100858.0</td>\n",
              "      <td>False</td>\n",
              "      <td>['Controle de estabilidade', 'Câmera de estaci...</td>\n",
              "      <td>92957.64</td>\n",
              "    </tr>\n",
              "    <tr>\n",
              "      <th>232</th>\n",
              "      <td>Cadillac CTS coupe, sedan, and wagon</td>\n",
              "      <td>Motor V8</td>\n",
              "      <td>2006</td>\n",
              "      <td>67475.0</td>\n",
              "      <td>False</td>\n",
              "      <td>['Sensor de chuva', 'Sensor de estacionamento'...</td>\n",
              "      <td>127810.06</td>\n",
              "    </tr>\n",
              "    <tr>\n",
              "      <th>233</th>\n",
              "      <td>i30 CW</td>\n",
              "      <td>Motor Diesel</td>\n",
              "      <td>2015</td>\n",
              "      <td>8497.0</td>\n",
              "      <td>False</td>\n",
              "      <td>['Sensor de chuva', 'Vidros elétricos', 'Contr...</td>\n",
              "      <td>73311.75</td>\n",
              "    </tr>\n",
              "    <tr>\n",
              "      <th>234</th>\n",
              "      <td>Phantom III</td>\n",
              "      <td>Motor Diesel V6</td>\n",
              "      <td>2008</td>\n",
              "      <td>4420.0</td>\n",
              "      <td>False</td>\n",
              "      <td>['Vidros elétricos', 'Bancos de couro', 'Pilot...</td>\n",
              "      <td>65138.03</td>\n",
              "    </tr>\n",
              "    <tr>\n",
              "      <th>235</th>\n",
              "      <td>A3 Sedan</td>\n",
              "      <td>Motor V6</td>\n",
              "      <td>2019</td>\n",
              "      <td>NaN</td>\n",
              "      <td>True</td>\n",
              "      <td>['Ar condicionado', 'Sensor de chuva', 'Travas...</td>\n",
              "      <td>90141.47</td>\n",
              "    </tr>\n",
              "    <tr>\n",
              "      <th>236</th>\n",
              "      <td>Aston Martin DB9 Volante</td>\n",
              "      <td>Motor 2.0 16v</td>\n",
              "      <td>1996</td>\n",
              "      <td>58537.0</td>\n",
              "      <td>False</td>\n",
              "      <td>['Central multimídia', 'Bancos de couro', 'Câm...</td>\n",
              "      <td>71160.36</td>\n",
              "    </tr>\n",
              "    <tr>\n",
              "      <th>237</th>\n",
              "      <td>Série 7 Sedã</td>\n",
              "      <td>Motor Diesel</td>\n",
              "      <td>2019</td>\n",
              "      <td>NaN</td>\n",
              "      <td>True</td>\n",
              "      <td>['Vidros elétricos', 'Travas elétricas', 'Roda...</td>\n",
              "      <td>67539.79</td>\n",
              "    </tr>\n",
              "    <tr>\n",
              "      <th>238</th>\n",
              "      <td>Lamborghini Reventón</td>\n",
              "      <td>Motor 4.0 Turbo</td>\n",
              "      <td>2019</td>\n",
              "      <td>NaN</td>\n",
              "      <td>True</td>\n",
              "      <td>['Controle de tração', 'Ar condicionado', 'Cen...</td>\n",
              "      <td>67664.86</td>\n",
              "    </tr>\n",
              "    <tr>\n",
              "      <th>239</th>\n",
              "      <td>Grand Livina</td>\n",
              "      <td>Motor 2.0 16v</td>\n",
              "      <td>2014</td>\n",
              "      <td>112016.0</td>\n",
              "      <td>False</td>\n",
              "      <td>['Controle de tração', 'Teto panorâmico', 'Vid...</td>\n",
              "      <td>68652.16</td>\n",
              "    </tr>\n",
              "    <tr>\n",
              "      <th>240</th>\n",
              "      <td>V60</td>\n",
              "      <td>Motor Diesel</td>\n",
              "      <td>2004</td>\n",
              "      <td>91840.0</td>\n",
              "      <td>False</td>\n",
              "      <td>['Rodas de liga', 'Sensor crepuscular', 'Ar co...</td>\n",
              "      <td>114728.74</td>\n",
              "    </tr>\n",
              "    <tr>\n",
              "      <th>241</th>\n",
              "      <td>Effa Hafei Picape Cabine Dupla</td>\n",
              "      <td>Motor V6</td>\n",
              "      <td>2008</td>\n",
              "      <td>112787.0</td>\n",
              "      <td>False</td>\n",
              "      <td>['Sensor crepuscular', 'Controle de tração', '...</td>\n",
              "      <td>141645.08</td>\n",
              "    </tr>\n",
              "    <tr>\n",
              "      <th>242</th>\n",
              "      <td>Benni Mini</td>\n",
              "      <td>Motor V8</td>\n",
              "      <td>2019</td>\n",
              "      <td>NaN</td>\n",
              "      <td>True</td>\n",
              "      <td>['Sensor crepuscular', 'Câmbio automático', 'C...</td>\n",
              "      <td>126247.84</td>\n",
              "    </tr>\n",
              "    <tr>\n",
              "      <th>243</th>\n",
              "      <td>Uno</td>\n",
              "      <td>Motor Diesel V6</td>\n",
              "      <td>2019</td>\n",
              "      <td>NaN</td>\n",
              "      <td>True</td>\n",
              "      <td>['Central multimídia', 'Sensor crepuscular', '...</td>\n",
              "      <td>128852.21</td>\n",
              "    </tr>\n",
              "    <tr>\n",
              "      <th>244</th>\n",
              "      <td>L200 Savana</td>\n",
              "      <td>Motor 2.0 16v</td>\n",
              "      <td>2012</td>\n",
              "      <td>9293.0</td>\n",
              "      <td>False</td>\n",
              "      <td>['Sensor de chuva', 'Vidros elétricos', 'Paine...</td>\n",
              "      <td>132384.76</td>\n",
              "    </tr>\n",
              "    <tr>\n",
              "      <th>245</th>\n",
              "      <td>Santa Fe</td>\n",
              "      <td>Motor 3.0 32v</td>\n",
              "      <td>2019</td>\n",
              "      <td>NaN</td>\n",
              "      <td>True</td>\n",
              "      <td>['Travas elétricas', 'Ar condicionado', '4 X 4...</td>\n",
              "      <td>129415.33</td>\n",
              "    </tr>\n",
              "    <tr>\n",
              "      <th>246</th>\n",
              "      <td>RS5</td>\n",
              "      <td>Motor V6</td>\n",
              "      <td>1996</td>\n",
              "      <td>55083.0</td>\n",
              "      <td>False</td>\n",
              "      <td>['Painel digital', 'Câmbio automático', 'Vidro...</td>\n",
              "      <td>89536.82</td>\n",
              "    </tr>\n",
              "    <tr>\n",
              "      <th>247</th>\n",
              "      <td>Cerato</td>\n",
              "      <td>Motor V6</td>\n",
              "      <td>2011</td>\n",
              "      <td>48796.0</td>\n",
              "      <td>False</td>\n",
              "      <td>['Sensor de estacionamento', 'Câmera de estaci...</td>\n",
              "      <td>87975.30</td>\n",
              "    </tr>\n",
              "    <tr>\n",
              "      <th>248</th>\n",
              "      <td>XC60</td>\n",
              "      <td>Motor 4.0 Turbo</td>\n",
              "      <td>2019</td>\n",
              "      <td>NaN</td>\n",
              "      <td>True</td>\n",
              "      <td>['Painel digital', 'Piloto automático', 'Centr...</td>\n",
              "      <td>77675.79</td>\n",
              "    </tr>\n",
              "    <tr>\n",
              "      <th>249</th>\n",
              "      <td>LS 460L</td>\n",
              "      <td>Motor Diesel V8</td>\n",
              "      <td>2010</td>\n",
              "      <td>89685.0</td>\n",
              "      <td>False</td>\n",
              "      <td>['Rodas de liga', 'Freios ABS', 'Controle de t...</td>\n",
              "      <td>58881.67</td>\n",
              "    </tr>\n",
              "    <tr>\n",
              "      <th>250</th>\n",
              "      <td>Lamborghini Sesto Elemento</td>\n",
              "      <td>Motor V8</td>\n",
              "      <td>2007</td>\n",
              "      <td>85384.0</td>\n",
              "      <td>False</td>\n",
              "      <td>['Sensor crepuscular', 'Freios ABS', 'Ar condi...</td>\n",
              "      <td>55081.99</td>\n",
              "    </tr>\n",
              "    <tr>\n",
              "      <th>251</th>\n",
              "      <td>Lamborghini Huracán</td>\n",
              "      <td>Motor V8</td>\n",
              "      <td>1994</td>\n",
              "      <td>98108.0</td>\n",
              "      <td>False</td>\n",
              "      <td>['Sensor de chuva', 'Sensor de estacionamento'...</td>\n",
              "      <td>118826.44</td>\n",
              "    </tr>\n",
              "    <tr>\n",
              "      <th>252</th>\n",
              "      <td>A7</td>\n",
              "      <td>Motor 1.0 8v</td>\n",
              "      <td>2007</td>\n",
              "      <td>71280.0</td>\n",
              "      <td>False</td>\n",
              "      <td>['Sensor de chuva', 'Vidros elétricos', 'Senso...</td>\n",
              "      <td>137627.62</td>\n",
              "    </tr>\n",
              "    <tr>\n",
              "      <th>253</th>\n",
              "      <td>Phantom 2013</td>\n",
              "      <td>Motor V8</td>\n",
              "      <td>2014</td>\n",
              "      <td>27505.0</td>\n",
              "      <td>False</td>\n",
              "      <td>['Controle de estabilidade', 'Piloto automátic...</td>\n",
              "      <td>51759.58</td>\n",
              "    </tr>\n",
              "    <tr>\n",
              "      <th>254</th>\n",
              "      <td>Cadillac Ciel concept</td>\n",
              "      <td>Motor V8</td>\n",
              "      <td>1991</td>\n",
              "      <td>29981.0</td>\n",
              "      <td>False</td>\n",
              "      <td>['Bancos de couro', 'Painel digital', 'Sensor ...</td>\n",
              "      <td>51667.06</td>\n",
              "    </tr>\n",
              "    <tr>\n",
              "      <th>255</th>\n",
              "      <td>Classe GLK</td>\n",
              "      <td>Motor 5.0 V8 Bi-Turbo</td>\n",
              "      <td>2002</td>\n",
              "      <td>52637.0</td>\n",
              "      <td>False</td>\n",
              "      <td>['Rodas de liga', 'Controle de tração', 'Câmbi...</td>\n",
              "      <td>68934.03</td>\n",
              "    </tr>\n",
              "    <tr>\n",
              "      <th>256</th>\n",
              "      <td>Aston Martin DB5</td>\n",
              "      <td>Motor Diesel</td>\n",
              "      <td>1996</td>\n",
              "      <td>7685.0</td>\n",
              "      <td>False</td>\n",
              "      <td>['Ar condicionado', '4 X 4', 'Câmbio automátic...</td>\n",
              "      <td>122110.90</td>\n",
              "    </tr>\n",
              "    <tr>\n",
              "      <th>257</th>\n",
              "      <td>Macan</td>\n",
              "      <td>Motor Diesel V6</td>\n",
              "      <td>1992</td>\n",
              "      <td>50188.0</td>\n",
              "      <td>False</td>\n",
              "      <td>['Central multimídia', 'Teto panorâmico', 'Vid...</td>\n",
              "      <td>90381.47</td>\n",
              "    </tr>\n",
              "  </tbody>\n",
              "</table>\n",
              "</div>\n",
              "    <div class=\"colab-df-buttons\">\n",
              "\n",
              "  <div class=\"colab-df-container\">\n",
              "    <button class=\"colab-df-convert\" onclick=\"convertToInteractive('df-881c3487-92b1-4e22-9510-42e92d8b0b1a')\"\n",
              "            title=\"Convert this dataframe to an interactive table.\"\n",
              "            style=\"display:none;\">\n",
              "\n",
              "  <svg xmlns=\"http://www.w3.org/2000/svg\" height=\"24px\" viewBox=\"0 -960 960 960\">\n",
              "    <path d=\"M120-120v-720h720v720H120Zm60-500h600v-160H180v160Zm220 220h160v-160H400v160Zm0 220h160v-160H400v160ZM180-400h160v-160H180v160Zm440 0h160v-160H620v160ZM180-180h160v-160H180v160Zm440 0h160v-160H620v160Z\"/>\n",
              "  </svg>\n",
              "    </button>\n",
              "\n",
              "  <style>\n",
              "    .colab-df-container {\n",
              "      display:flex;\n",
              "      gap: 12px;\n",
              "    }\n",
              "\n",
              "    .colab-df-convert {\n",
              "      background-color: #E8F0FE;\n",
              "      border: none;\n",
              "      border-radius: 50%;\n",
              "      cursor: pointer;\n",
              "      display: none;\n",
              "      fill: #1967D2;\n",
              "      height: 32px;\n",
              "      padding: 0 0 0 0;\n",
              "      width: 32px;\n",
              "    }\n",
              "\n",
              "    .colab-df-convert:hover {\n",
              "      background-color: #E2EBFA;\n",
              "      box-shadow: 0px 1px 2px rgba(60, 64, 67, 0.3), 0px 1px 3px 1px rgba(60, 64, 67, 0.15);\n",
              "      fill: #174EA6;\n",
              "    }\n",
              "\n",
              "    .colab-df-buttons div {\n",
              "      margin-bottom: 4px;\n",
              "    }\n",
              "\n",
              "    [theme=dark] .colab-df-convert {\n",
              "      background-color: #3B4455;\n",
              "      fill: #D2E3FC;\n",
              "    }\n",
              "\n",
              "    [theme=dark] .colab-df-convert:hover {\n",
              "      background-color: #434B5C;\n",
              "      box-shadow: 0px 1px 3px 1px rgba(0, 0, 0, 0.15);\n",
              "      filter: drop-shadow(0px 1px 2px rgba(0, 0, 0, 0.3));\n",
              "      fill: #FFFFFF;\n",
              "    }\n",
              "  </style>\n",
              "\n",
              "    <script>\n",
              "      const buttonEl =\n",
              "        document.querySelector('#df-881c3487-92b1-4e22-9510-42e92d8b0b1a button.colab-df-convert');\n",
              "      buttonEl.style.display =\n",
              "        google.colab.kernel.accessAllowed ? 'block' : 'none';\n",
              "\n",
              "      async function convertToInteractive(key) {\n",
              "        const element = document.querySelector('#df-881c3487-92b1-4e22-9510-42e92d8b0b1a');\n",
              "        const dataTable =\n",
              "          await google.colab.kernel.invokeFunction('convertToInteractive',\n",
              "                                                    [key], {});\n",
              "        if (!dataTable) return;\n",
              "\n",
              "        const docLinkHtml = 'Like what you see? Visit the ' +\n",
              "          '<a target=\"_blank\" href=https://colab.research.google.com/notebooks/data_table.ipynb>data table notebook</a>'\n",
              "          + ' to learn more about interactive tables.';\n",
              "        element.innerHTML = '';\n",
              "        dataTable['output_type'] = 'display_data';\n",
              "        await google.colab.output.renderOutput(dataTable, element);\n",
              "        const docLink = document.createElement('div');\n",
              "        docLink.innerHTML = docLinkHtml;\n",
              "        element.appendChild(docLink);\n",
              "      }\n",
              "    </script>\n",
              "  </div>\n",
              "\n",
              "\n",
              "<div id=\"df-259ce07d-41d4-40a3-b619-147fde9a7793\">\n",
              "  <button class=\"colab-df-quickchart\" onclick=\"quickchart('df-259ce07d-41d4-40a3-b619-147fde9a7793')\"\n",
              "            title=\"Suggest charts.\"\n",
              "            style=\"display:none;\">\n",
              "\n",
              "<svg xmlns=\"http://www.w3.org/2000/svg\" height=\"24px\"viewBox=\"0 0 24 24\"\n",
              "     width=\"24px\">\n",
              "    <g>\n",
              "        <path d=\"M19 3H5c-1.1 0-2 .9-2 2v14c0 1.1.9 2 2 2h14c1.1 0 2-.9 2-2V5c0-1.1-.9-2-2-2zM9 17H7v-7h2v7zm4 0h-2V7h2v10zm4 0h-2v-4h2v4z\"/>\n",
              "    </g>\n",
              "</svg>\n",
              "  </button>\n",
              "\n",
              "<style>\n",
              "  .colab-df-quickchart {\n",
              "      --bg-color: #E8F0FE;\n",
              "      --fill-color: #1967D2;\n",
              "      --hover-bg-color: #E2EBFA;\n",
              "      --hover-fill-color: #174EA6;\n",
              "      --disabled-fill-color: #AAA;\n",
              "      --disabled-bg-color: #DDD;\n",
              "  }\n",
              "\n",
              "  [theme=dark] .colab-df-quickchart {\n",
              "      --bg-color: #3B4455;\n",
              "      --fill-color: #D2E3FC;\n",
              "      --hover-bg-color: #434B5C;\n",
              "      --hover-fill-color: #FFFFFF;\n",
              "      --disabled-bg-color: #3B4455;\n",
              "      --disabled-fill-color: #666;\n",
              "  }\n",
              "\n",
              "  .colab-df-quickchart {\n",
              "    background-color: var(--bg-color);\n",
              "    border: none;\n",
              "    border-radius: 50%;\n",
              "    cursor: pointer;\n",
              "    display: none;\n",
              "    fill: var(--fill-color);\n",
              "    height: 32px;\n",
              "    padding: 0;\n",
              "    width: 32px;\n",
              "  }\n",
              "\n",
              "  .colab-df-quickchart:hover {\n",
              "    background-color: var(--hover-bg-color);\n",
              "    box-shadow: 0 1px 2px rgba(60, 64, 67, 0.3), 0 1px 3px 1px rgba(60, 64, 67, 0.15);\n",
              "    fill: var(--button-hover-fill-color);\n",
              "  }\n",
              "\n",
              "  .colab-df-quickchart-complete:disabled,\n",
              "  .colab-df-quickchart-complete:disabled:hover {\n",
              "    background-color: var(--disabled-bg-color);\n",
              "    fill: var(--disabled-fill-color);\n",
              "    box-shadow: none;\n",
              "  }\n",
              "\n",
              "  .colab-df-spinner {\n",
              "    border: 2px solid var(--fill-color);\n",
              "    border-color: transparent;\n",
              "    border-bottom-color: var(--fill-color);\n",
              "    animation:\n",
              "      spin 1s steps(1) infinite;\n",
              "  }\n",
              "\n",
              "  @keyframes spin {\n",
              "    0% {\n",
              "      border-color: transparent;\n",
              "      border-bottom-color: var(--fill-color);\n",
              "      border-left-color: var(--fill-color);\n",
              "    }\n",
              "    20% {\n",
              "      border-color: transparent;\n",
              "      border-left-color: var(--fill-color);\n",
              "      border-top-color: var(--fill-color);\n",
              "    }\n",
              "    30% {\n",
              "      border-color: transparent;\n",
              "      border-left-color: var(--fill-color);\n",
              "      border-top-color: var(--fill-color);\n",
              "      border-right-color: var(--fill-color);\n",
              "    }\n",
              "    40% {\n",
              "      border-color: transparent;\n",
              "      border-right-color: var(--fill-color);\n",
              "      border-top-color: var(--fill-color);\n",
              "    }\n",
              "    60% {\n",
              "      border-color: transparent;\n",
              "      border-right-color: var(--fill-color);\n",
              "    }\n",
              "    80% {\n",
              "      border-color: transparent;\n",
              "      border-right-color: var(--fill-color);\n",
              "      border-bottom-color: var(--fill-color);\n",
              "    }\n",
              "    90% {\n",
              "      border-color: transparent;\n",
              "      border-bottom-color: var(--fill-color);\n",
              "    }\n",
              "  }\n",
              "</style>\n",
              "\n",
              "  <script>\n",
              "    async function quickchart(key) {\n",
              "      const quickchartButtonEl =\n",
              "        document.querySelector('#' + key + ' button');\n",
              "      quickchartButtonEl.disabled = true;  // To prevent multiple clicks.\n",
              "      quickchartButtonEl.classList.add('colab-df-spinner');\n",
              "      try {\n",
              "        const charts = await google.colab.kernel.invokeFunction(\n",
              "            'suggestCharts', [key], {});\n",
              "      } catch (error) {\n",
              "        console.error('Error during call to suggestCharts:', error);\n",
              "      }\n",
              "      quickchartButtonEl.classList.remove('colab-df-spinner');\n",
              "      quickchartButtonEl.classList.add('colab-df-quickchart-complete');\n",
              "    }\n",
              "    (() => {\n",
              "      let quickchartButtonEl =\n",
              "        document.querySelector('#df-259ce07d-41d4-40a3-b619-147fde9a7793 button');\n",
              "      quickchartButtonEl.style.display =\n",
              "        google.colab.kernel.accessAllowed ? 'block' : 'none';\n",
              "    })();\n",
              "  </script>\n",
              "</div>\n",
              "    </div>\n",
              "  </div>\n"
            ]
          },
          "metadata": {},
          "execution_count": 9
        }
      ]
    },
    {
      "cell_type": "code",
      "metadata": {
        "id": "5D739PzJD0_B",
        "colab": {
          "base_uri": "https://localhost:8080/"
        },
        "outputId": "1231e3a7-bef7-4e82-cfb3-d697e1801ed8"
      },
      "source": [
        "dataset.dtypes"
      ],
      "execution_count": null,
      "outputs": [
        {
          "output_type": "execute_result",
          "data": {
            "text/plain": [
              "Nome              object\n",
              "Motor             object\n",
              "Ano                int64\n",
              "Quilometragem    float64\n",
              "Zero_km             bool\n",
              "Acessórios        object\n",
              "Valor            float64\n",
              "dtype: object"
            ]
          },
          "metadata": {},
          "execution_count": 10
        }
      ]
    },
    {
      "cell_type": "code",
      "metadata": {
        "id": "r_qUf16LD0_D",
        "colab": {
          "base_uri": "https://localhost:8080/",
          "height": 300
        },
        "outputId": "fef9f175-ee0b-4498-9f2c-728b45e73e86"
      },
      "source": [
        "dataset[['Quilometragem', 'Valor']].describe()"
      ],
      "execution_count": null,
      "outputs": [
        {
          "output_type": "execute_result",
          "data": {
            "text/plain": [
              "       Quilometragem          Valor\n",
              "count     197.000000     258.000000\n",
              "mean    58278.421320   98960.513101\n",
              "std     35836.733259   29811.932305\n",
              "min       107.000000   50742.100000\n",
              "25%     27505.000000   70743.512500\n",
              "50%     55083.000000   97724.380000\n",
              "75%     90495.000000  124633.302500\n",
              "max    119945.000000  149489.920000"
            ],
            "text/html": [
              "\n",
              "  <div id=\"df-827bb50d-7f10-4812-a1bb-b7be567ec86e\" class=\"colab-df-container\">\n",
              "    <div>\n",
              "<style scoped>\n",
              "    .dataframe tbody tr th:only-of-type {\n",
              "        vertical-align: middle;\n",
              "    }\n",
              "\n",
              "    .dataframe tbody tr th {\n",
              "        vertical-align: top;\n",
              "    }\n",
              "\n",
              "    .dataframe thead th {\n",
              "        text-align: right;\n",
              "    }\n",
              "</style>\n",
              "<table border=\"1\" class=\"dataframe\">\n",
              "  <thead>\n",
              "    <tr style=\"text-align: right;\">\n",
              "      <th></th>\n",
              "      <th>Quilometragem</th>\n",
              "      <th>Valor</th>\n",
              "    </tr>\n",
              "  </thead>\n",
              "  <tbody>\n",
              "    <tr>\n",
              "      <th>count</th>\n",
              "      <td>197.000000</td>\n",
              "      <td>258.000000</td>\n",
              "    </tr>\n",
              "    <tr>\n",
              "      <th>mean</th>\n",
              "      <td>58278.421320</td>\n",
              "      <td>98960.513101</td>\n",
              "    </tr>\n",
              "    <tr>\n",
              "      <th>std</th>\n",
              "      <td>35836.733259</td>\n",
              "      <td>29811.932305</td>\n",
              "    </tr>\n",
              "    <tr>\n",
              "      <th>min</th>\n",
              "      <td>107.000000</td>\n",
              "      <td>50742.100000</td>\n",
              "    </tr>\n",
              "    <tr>\n",
              "      <th>25%</th>\n",
              "      <td>27505.000000</td>\n",
              "      <td>70743.512500</td>\n",
              "    </tr>\n",
              "    <tr>\n",
              "      <th>50%</th>\n",
              "      <td>55083.000000</td>\n",
              "      <td>97724.380000</td>\n",
              "    </tr>\n",
              "    <tr>\n",
              "      <th>75%</th>\n",
              "      <td>90495.000000</td>\n",
              "      <td>124633.302500</td>\n",
              "    </tr>\n",
              "    <tr>\n",
              "      <th>max</th>\n",
              "      <td>119945.000000</td>\n",
              "      <td>149489.920000</td>\n",
              "    </tr>\n",
              "  </tbody>\n",
              "</table>\n",
              "</div>\n",
              "    <div class=\"colab-df-buttons\">\n",
              "\n",
              "  <div class=\"colab-df-container\">\n",
              "    <button class=\"colab-df-convert\" onclick=\"convertToInteractive('df-827bb50d-7f10-4812-a1bb-b7be567ec86e')\"\n",
              "            title=\"Convert this dataframe to an interactive table.\"\n",
              "            style=\"display:none;\">\n",
              "\n",
              "  <svg xmlns=\"http://www.w3.org/2000/svg\" height=\"24px\" viewBox=\"0 -960 960 960\">\n",
              "    <path d=\"M120-120v-720h720v720H120Zm60-500h600v-160H180v160Zm220 220h160v-160H400v160Zm0 220h160v-160H400v160ZM180-400h160v-160H180v160Zm440 0h160v-160H620v160ZM180-180h160v-160H180v160Zm440 0h160v-160H620v160Z\"/>\n",
              "  </svg>\n",
              "    </button>\n",
              "\n",
              "  <style>\n",
              "    .colab-df-container {\n",
              "      display:flex;\n",
              "      gap: 12px;\n",
              "    }\n",
              "\n",
              "    .colab-df-convert {\n",
              "      background-color: #E8F0FE;\n",
              "      border: none;\n",
              "      border-radius: 50%;\n",
              "      cursor: pointer;\n",
              "      display: none;\n",
              "      fill: #1967D2;\n",
              "      height: 32px;\n",
              "      padding: 0 0 0 0;\n",
              "      width: 32px;\n",
              "    }\n",
              "\n",
              "    .colab-df-convert:hover {\n",
              "      background-color: #E2EBFA;\n",
              "      box-shadow: 0px 1px 2px rgba(60, 64, 67, 0.3), 0px 1px 3px 1px rgba(60, 64, 67, 0.15);\n",
              "      fill: #174EA6;\n",
              "    }\n",
              "\n",
              "    .colab-df-buttons div {\n",
              "      margin-bottom: 4px;\n",
              "    }\n",
              "\n",
              "    [theme=dark] .colab-df-convert {\n",
              "      background-color: #3B4455;\n",
              "      fill: #D2E3FC;\n",
              "    }\n",
              "\n",
              "    [theme=dark] .colab-df-convert:hover {\n",
              "      background-color: #434B5C;\n",
              "      box-shadow: 0px 1px 3px 1px rgba(0, 0, 0, 0.15);\n",
              "      filter: drop-shadow(0px 1px 2px rgba(0, 0, 0, 0.3));\n",
              "      fill: #FFFFFF;\n",
              "    }\n",
              "  </style>\n",
              "\n",
              "    <script>\n",
              "      const buttonEl =\n",
              "        document.querySelector('#df-827bb50d-7f10-4812-a1bb-b7be567ec86e button.colab-df-convert');\n",
              "      buttonEl.style.display =\n",
              "        google.colab.kernel.accessAllowed ? 'block' : 'none';\n",
              "\n",
              "      async function convertToInteractive(key) {\n",
              "        const element = document.querySelector('#df-827bb50d-7f10-4812-a1bb-b7be567ec86e');\n",
              "        const dataTable =\n",
              "          await google.colab.kernel.invokeFunction('convertToInteractive',\n",
              "                                                    [key], {});\n",
              "        if (!dataTable) return;\n",
              "\n",
              "        const docLinkHtml = 'Like what you see? Visit the ' +\n",
              "          '<a target=\"_blank\" href=https://colab.research.google.com/notebooks/data_table.ipynb>data table notebook</a>'\n",
              "          + ' to learn more about interactive tables.';\n",
              "        element.innerHTML = '';\n",
              "        dataTable['output_type'] = 'display_data';\n",
              "        await google.colab.output.renderOutput(dataTable, element);\n",
              "        const docLink = document.createElement('div');\n",
              "        docLink.innerHTML = docLinkHtml;\n",
              "        element.appendChild(docLink);\n",
              "      }\n",
              "    </script>\n",
              "  </div>\n",
              "\n",
              "\n",
              "<div id=\"df-bb3138db-0d0a-49e1-8d35-d57bbea91c6a\">\n",
              "  <button class=\"colab-df-quickchart\" onclick=\"quickchart('df-bb3138db-0d0a-49e1-8d35-d57bbea91c6a')\"\n",
              "            title=\"Suggest charts.\"\n",
              "            style=\"display:none;\">\n",
              "\n",
              "<svg xmlns=\"http://www.w3.org/2000/svg\" height=\"24px\"viewBox=\"0 0 24 24\"\n",
              "     width=\"24px\">\n",
              "    <g>\n",
              "        <path d=\"M19 3H5c-1.1 0-2 .9-2 2v14c0 1.1.9 2 2 2h14c1.1 0 2-.9 2-2V5c0-1.1-.9-2-2-2zM9 17H7v-7h2v7zm4 0h-2V7h2v10zm4 0h-2v-4h2v4z\"/>\n",
              "    </g>\n",
              "</svg>\n",
              "  </button>\n",
              "\n",
              "<style>\n",
              "  .colab-df-quickchart {\n",
              "      --bg-color: #E8F0FE;\n",
              "      --fill-color: #1967D2;\n",
              "      --hover-bg-color: #E2EBFA;\n",
              "      --hover-fill-color: #174EA6;\n",
              "      --disabled-fill-color: #AAA;\n",
              "      --disabled-bg-color: #DDD;\n",
              "  }\n",
              "\n",
              "  [theme=dark] .colab-df-quickchart {\n",
              "      --bg-color: #3B4455;\n",
              "      --fill-color: #D2E3FC;\n",
              "      --hover-bg-color: #434B5C;\n",
              "      --hover-fill-color: #FFFFFF;\n",
              "      --disabled-bg-color: #3B4455;\n",
              "      --disabled-fill-color: #666;\n",
              "  }\n",
              "\n",
              "  .colab-df-quickchart {\n",
              "    background-color: var(--bg-color);\n",
              "    border: none;\n",
              "    border-radius: 50%;\n",
              "    cursor: pointer;\n",
              "    display: none;\n",
              "    fill: var(--fill-color);\n",
              "    height: 32px;\n",
              "    padding: 0;\n",
              "    width: 32px;\n",
              "  }\n",
              "\n",
              "  .colab-df-quickchart:hover {\n",
              "    background-color: var(--hover-bg-color);\n",
              "    box-shadow: 0 1px 2px rgba(60, 64, 67, 0.3), 0 1px 3px 1px rgba(60, 64, 67, 0.15);\n",
              "    fill: var(--button-hover-fill-color);\n",
              "  }\n",
              "\n",
              "  .colab-df-quickchart-complete:disabled,\n",
              "  .colab-df-quickchart-complete:disabled:hover {\n",
              "    background-color: var(--disabled-bg-color);\n",
              "    fill: var(--disabled-fill-color);\n",
              "    box-shadow: none;\n",
              "  }\n",
              "\n",
              "  .colab-df-spinner {\n",
              "    border: 2px solid var(--fill-color);\n",
              "    border-color: transparent;\n",
              "    border-bottom-color: var(--fill-color);\n",
              "    animation:\n",
              "      spin 1s steps(1) infinite;\n",
              "  }\n",
              "\n",
              "  @keyframes spin {\n",
              "    0% {\n",
              "      border-color: transparent;\n",
              "      border-bottom-color: var(--fill-color);\n",
              "      border-left-color: var(--fill-color);\n",
              "    }\n",
              "    20% {\n",
              "      border-color: transparent;\n",
              "      border-left-color: var(--fill-color);\n",
              "      border-top-color: var(--fill-color);\n",
              "    }\n",
              "    30% {\n",
              "      border-color: transparent;\n",
              "      border-left-color: var(--fill-color);\n",
              "      border-top-color: var(--fill-color);\n",
              "      border-right-color: var(--fill-color);\n",
              "    }\n",
              "    40% {\n",
              "      border-color: transparent;\n",
              "      border-right-color: var(--fill-color);\n",
              "      border-top-color: var(--fill-color);\n",
              "    }\n",
              "    60% {\n",
              "      border-color: transparent;\n",
              "      border-right-color: var(--fill-color);\n",
              "    }\n",
              "    80% {\n",
              "      border-color: transparent;\n",
              "      border-right-color: var(--fill-color);\n",
              "      border-bottom-color: var(--fill-color);\n",
              "    }\n",
              "    90% {\n",
              "      border-color: transparent;\n",
              "      border-bottom-color: var(--fill-color);\n",
              "    }\n",
              "  }\n",
              "</style>\n",
              "\n",
              "  <script>\n",
              "    async function quickchart(key) {\n",
              "      const quickchartButtonEl =\n",
              "        document.querySelector('#' + key + ' button');\n",
              "      quickchartButtonEl.disabled = true;  // To prevent multiple clicks.\n",
              "      quickchartButtonEl.classList.add('colab-df-spinner');\n",
              "      try {\n",
              "        const charts = await google.colab.kernel.invokeFunction(\n",
              "            'suggestCharts', [key], {});\n",
              "      } catch (error) {\n",
              "        console.error('Error during call to suggestCharts:', error);\n",
              "      }\n",
              "      quickchartButtonEl.classList.remove('colab-df-spinner');\n",
              "      quickchartButtonEl.classList.add('colab-df-quickchart-complete');\n",
              "    }\n",
              "    (() => {\n",
              "      let quickchartButtonEl =\n",
              "        document.querySelector('#df-bb3138db-0d0a-49e1-8d35-d57bbea91c6a button');\n",
              "      quickchartButtonEl.style.display =\n",
              "        google.colab.kernel.accessAllowed ? 'block' : 'none';\n",
              "    })();\n",
              "  </script>\n",
              "</div>\n",
              "    </div>\n",
              "  </div>\n"
            ]
          },
          "metadata": {},
          "execution_count": 11
        }
      ]
    },
    {
      "cell_type": "code",
      "metadata": {
        "id": "0R-_7PH5D0_E",
        "colab": {
          "base_uri": "https://localhost:8080/"
        },
        "outputId": "1e2b5bb8-81de-42af-b7b2-61dad1260757"
      },
      "source": [
        "dataset.info()"
      ],
      "execution_count": null,
      "outputs": [
        {
          "output_type": "stream",
          "name": "stdout",
          "text": [
            "<class 'pandas.core.frame.DataFrame'>\n",
            "RangeIndex: 258 entries, 0 to 257\n",
            "Data columns (total 7 columns):\n",
            " #   Column         Non-Null Count  Dtype  \n",
            "---  ------         --------------  -----  \n",
            " 0   Nome           258 non-null    object \n",
            " 1   Motor          258 non-null    object \n",
            " 2   Ano            258 non-null    int64  \n",
            " 3   Quilometragem  197 non-null    float64\n",
            " 4   Zero_km        258 non-null    bool   \n",
            " 5   Acessórios     258 non-null    object \n",
            " 6   Valor          258 non-null    float64\n",
            "dtypes: bool(1), float64(2), int64(1), object(3)\n",
            "memory usage: 12.5+ KB\n"
          ]
        }
      ]
    },
    {
      "cell_type": "markdown",
      "metadata": {
        "id": "htjoBLwiD0_F"
      },
      "source": [
        "# <font color=green> 2. TRABALHANDO COM TUPLAS\n",
        "---"
      ]
    },
    {
      "cell_type": "markdown",
      "metadata": {
        "id": "MZH5_QnYD0_G"
      },
      "source": [
        "# 2.1 Criando tuplas\n",
        "\n",
        "Tuplas são sequências imutáveis que são utilizadas para armazenar coleções de itens, geralmente heterogêneos. Podem ser construídas de várias formas:\n",
        "```\n",
        "- Utilizando um par de parênteses: ( )\n",
        "- Utilizando uma vírgula à direita: x,\n",
        "- Utilizando um par de parênteses com itens separados por vírgulas: ( x, y, z )\n",
        "- Utilizando: tuple() ou tuple(iterador)\n",
        "```"
      ]
    },
    {
      "cell_type": "code",
      "metadata": {
        "id": "xzcs9fzeD0_G",
        "colab": {
          "base_uri": "https://localhost:8080/"
        },
        "outputId": "48a8331b-25e3-446c-f1c8-d0e6717bdde9"
      },
      "source": [
        "()"
      ],
      "execution_count": null,
      "outputs": [
        {
          "output_type": "execute_result",
          "data": {
            "text/plain": [
              "()"
            ]
          },
          "metadata": {},
          "execution_count": 14
        }
      ]
    },
    {
      "cell_type": "code",
      "metadata": {
        "id": "qJq7a2qTD0_I",
        "colab": {
          "base_uri": "https://localhost:8080/"
        },
        "outputId": "e43df84b-27b4-4ec9-9641-b07c3db12c05"
      },
      "source": [
        "1,2,3"
      ],
      "execution_count": null,
      "outputs": [
        {
          "output_type": "execute_result",
          "data": {
            "text/plain": [
              "(1, 2, 3)"
            ]
          },
          "metadata": {},
          "execution_count": 15
        }
      ]
    },
    {
      "cell_type": "code",
      "metadata": {
        "id": "sg7LdvptD0_J",
        "colab": {
          "base_uri": "https://localhost:8080/"
        },
        "outputId": "4897ac31-eb53-4746-8a44-efffc8865eee"
      },
      "source": [
        "nome = 'passat'\n",
        "valor = 153000\n",
        "(nome,valor)"
      ],
      "execution_count": null,
      "outputs": [
        {
          "output_type": "execute_result",
          "data": {
            "text/plain": [
              "('passat', 153000)"
            ]
          },
          "metadata": {},
          "execution_count": 16
        }
      ]
    },
    {
      "cell_type": "code",
      "metadata": {
        "id": "XSSMebXjD0_K",
        "colab": {
          "base_uri": "https://localhost:8080/"
        },
        "outputId": "479d57cf-2335-4209-d2fd-90cf1fe93b20"
      },
      "source": [
        "nomes_carros = tuple(['Jetta Variant', 'Passat', 'Crossfox', 'DS5'])\n",
        "\n",
        "nomes_carros"
      ],
      "execution_count": null,
      "outputs": [
        {
          "output_type": "execute_result",
          "data": {
            "text/plain": [
              "('Jetta Variant', 'Passat', 'Crossfox', 'DS5')"
            ]
          },
          "metadata": {},
          "execution_count": 18
        }
      ]
    },
    {
      "cell_type": "code",
      "metadata": {
        "id": "dpkdzrzRD0_M",
        "colab": {
          "base_uri": "https://localhost:8080/"
        },
        "outputId": "e0b98b0a-8ec5-4aca-942d-990dc8f97753"
      },
      "source": [
        "type(nomes_carros)"
      ],
      "execution_count": null,
      "outputs": [
        {
          "output_type": "execute_result",
          "data": {
            "text/plain": [
              "tuple"
            ]
          },
          "metadata": {},
          "execution_count": 19
        }
      ]
    },
    {
      "cell_type": "markdown",
      "metadata": {
        "id": "iKUY2DOUD0_N"
      },
      "source": [
        "# 2.2 Seleções em tuplas"
      ]
    },
    {
      "cell_type": "code",
      "metadata": {
        "id": "hBEeAM7_D0_N",
        "colab": {
          "base_uri": "https://localhost:8080/"
        },
        "outputId": "1db1decd-6547-42b5-f338-08a43b175b9d"
      },
      "source": [
        "nomes_carros = tuple(['Jetta Variant', 'Passat', 'Crossfox', 'DS5'])\n",
        "\n",
        "nomes_carros"
      ],
      "execution_count": null,
      "outputs": [
        {
          "output_type": "execute_result",
          "data": {
            "text/plain": [
              "('Jetta Variant', 'Passat', 'Crossfox', 'DS5')"
            ]
          },
          "metadata": {},
          "execution_count": 20
        }
      ]
    },
    {
      "cell_type": "code",
      "metadata": {
        "id": "-mx_1E_tD0_P",
        "colab": {
          "base_uri": "https://localhost:8080/",
          "height": 34
        },
        "outputId": "fec112c8-cb37-4593-90b1-04f43c0abca9"
      },
      "source": [
        "nomes_carros[0]"
      ],
      "execution_count": null,
      "outputs": [
        {
          "output_type": "execute_result",
          "data": {
            "text/plain": [
              "'Jetta Variant'"
            ],
            "application/vnd.google.colaboratory.intrinsic+json": {
              "type": "string"
            }
          },
          "metadata": {},
          "execution_count": 21
        }
      ]
    },
    {
      "cell_type": "code",
      "metadata": {
        "id": "LMhyqnFID0_Q",
        "colab": {
          "base_uri": "https://localhost:8080/",
          "height": 34
        },
        "outputId": "f00b8b88-9be3-43fe-960f-761f3f2066be"
      },
      "source": [
        "nomes_carros[1]"
      ],
      "execution_count": null,
      "outputs": [
        {
          "output_type": "execute_result",
          "data": {
            "text/plain": [
              "'Passat'"
            ],
            "application/vnd.google.colaboratory.intrinsic+json": {
              "type": "string"
            }
          },
          "metadata": {},
          "execution_count": 22
        }
      ]
    },
    {
      "cell_type": "code",
      "metadata": {
        "id": "6btHff4BD0_T",
        "colab": {
          "base_uri": "https://localhost:8080/",
          "height": 34
        },
        "outputId": "e7ce45f6-7c3a-4085-98ed-7983fde8aaca"
      },
      "source": [
        "nomes_carros[-1]"
      ],
      "execution_count": null,
      "outputs": [
        {
          "output_type": "execute_result",
          "data": {
            "text/plain": [
              "'DS5'"
            ],
            "application/vnd.google.colaboratory.intrinsic+json": {
              "type": "string"
            }
          },
          "metadata": {},
          "execution_count": 25
        }
      ]
    },
    {
      "cell_type": "code",
      "metadata": {
        "id": "K_Dc12xBD0_U",
        "colab": {
          "base_uri": "https://localhost:8080/"
        },
        "outputId": "dfaeb50d-872d-4b71-eea6-2c070290fba5"
      },
      "source": [
        "nomes_carros[1:3]"
      ],
      "execution_count": null,
      "outputs": [
        {
          "output_type": "execute_result",
          "data": {
            "text/plain": [
              "('Passat', 'Crossfox')"
            ]
          },
          "metadata": {},
          "execution_count": 26
        }
      ]
    },
    {
      "cell_type": "code",
      "metadata": {
        "id": "zvrWYkkeD0_W",
        "colab": {
          "base_uri": "https://localhost:8080/"
        },
        "outputId": "b1f733c2-f161-4f91-879c-ed8124817517"
      },
      "source": [
        "nomes_carros = ('Jetta Variant', 'Passat', 'Crossfox', 'DS5', ('Fusca', 'Gol', 'C4'))\n",
        "nomes_carros"
      ],
      "execution_count": null,
      "outputs": [
        {
          "output_type": "execute_result",
          "data": {
            "text/plain": [
              "('Jetta Variant', 'Passat', 'Crossfox', 'DS5', ('Fusca', 'Gol', 'C4'))"
            ]
          },
          "metadata": {},
          "execution_count": 27
        }
      ]
    },
    {
      "cell_type": "code",
      "metadata": {
        "id": "Dw7tbM2ED0_Z",
        "colab": {
          "base_uri": "https://localhost:8080/"
        },
        "outputId": "1658c1bc-ce40-4bb1-a0b0-02a89146966f"
      },
      "source": [
        "nomes_carros[-1]"
      ],
      "execution_count": null,
      "outputs": [
        {
          "output_type": "execute_result",
          "data": {
            "text/plain": [
              "('Fusca', 'Gol', 'C4')"
            ]
          },
          "metadata": {},
          "execution_count": 28
        }
      ]
    },
    {
      "cell_type": "code",
      "metadata": {
        "id": "SAMD3BtXD0_b",
        "colab": {
          "base_uri": "https://localhost:8080/",
          "height": 34
        },
        "outputId": "f8e37c99-8e66-4bc7-f518-23c48a438ad1"
      },
      "source": [
        "nomes_carros[-1][1]"
      ],
      "execution_count": null,
      "outputs": [
        {
          "output_type": "execute_result",
          "data": {
            "text/plain": [
              "'Gol'"
            ],
            "application/vnd.google.colaboratory.intrinsic+json": {
              "type": "string"
            }
          },
          "metadata": {},
          "execution_count": 32
        }
      ]
    },
    {
      "cell_type": "markdown",
      "metadata": {
        "id": "KLMxh4-0D0_c"
      },
      "source": [
        "# 2.3 Iterando em tuplas"
      ]
    },
    {
      "cell_type": "code",
      "metadata": {
        "id": "K53elKsYD0_c"
      },
      "source": [
        "nomes_carros = ('Jetta Variant', 'Passat', 'Crossfox', 'DS5')\n",
        "nomes_carros"
      ],
      "execution_count": null,
      "outputs": []
    },
    {
      "cell_type": "code",
      "metadata": {
        "id": "igZhZ5zdD0_d",
        "colab": {
          "base_uri": "https://localhost:8080/"
        },
        "outputId": "aca09be3-8d8c-418e-d10d-f97020308bf9"
      },
      "source": [
        "for item in nomes_carros:\n",
        "  print(item)"
      ],
      "execution_count": null,
      "outputs": [
        {
          "output_type": "stream",
          "name": "stdout",
          "text": [
            "Jetta Variant\n",
            "Passat\n",
            "Crossfox\n",
            "DS5\n",
            "('Fusca', 'Gol', 'C4')\n"
          ]
        }
      ]
    },
    {
      "cell_type": "markdown",
      "metadata": {
        "id": "AOBjxBk8D0_f"
      },
      "source": [
        "### Desempacotamento de tuplas"
      ]
    },
    {
      "cell_type": "code",
      "metadata": {
        "id": "UoEFnumhD0_f",
        "colab": {
          "base_uri": "https://localhost:8080/"
        },
        "outputId": "49ed8ac2-8f2c-45c2-90a4-10fc50173066"
      },
      "source": [
        "nomes_carros = ('Jetta Variant', 'Passat', 'Crossfox', 'DS5')\n",
        "nomes_carros"
      ],
      "execution_count": null,
      "outputs": [
        {
          "output_type": "execute_result",
          "data": {
            "text/plain": [
              "('Jetta Variant', 'Passat', 'Crossfox', 'DS5')"
            ]
          },
          "metadata": {},
          "execution_count": 37
        }
      ]
    },
    {
      "cell_type": "code",
      "metadata": {
        "id": "AaCLcNYTD0_g"
      },
      "source": [
        "carro_1,carro_2,carro_3,carro_4 = nomes_carros"
      ],
      "execution_count": null,
      "outputs": []
    },
    {
      "cell_type": "code",
      "metadata": {
        "id": "TA71S9egD0_h",
        "colab": {
          "base_uri": "https://localhost:8080/",
          "height": 34
        },
        "outputId": "f75d6fc4-21cd-418e-8713-4e460f16253e"
      },
      "source": [
        "carro_1"
      ],
      "execution_count": null,
      "outputs": [
        {
          "output_type": "execute_result",
          "data": {
            "text/plain": [
              "'Jetta Variant'"
            ],
            "application/vnd.google.colaboratory.intrinsic+json": {
              "type": "string"
            }
          },
          "metadata": {},
          "execution_count": 39
        }
      ]
    },
    {
      "cell_type": "code",
      "metadata": {
        "id": "CHoJ034MD0_i",
        "colab": {
          "base_uri": "https://localhost:8080/",
          "height": 34
        },
        "outputId": "81d0c2f3-a6e9-4cc7-823e-cbcf22759853"
      },
      "source": [
        "carro_2"
      ],
      "execution_count": null,
      "outputs": [
        {
          "output_type": "execute_result",
          "data": {
            "text/plain": [
              "'Passat'"
            ],
            "application/vnd.google.colaboratory.intrinsic+json": {
              "type": "string"
            }
          },
          "metadata": {},
          "execution_count": 40
        }
      ]
    },
    {
      "cell_type": "code",
      "metadata": {
        "id": "oxJrOuCSD0_j",
        "colab": {
          "base_uri": "https://localhost:8080/",
          "height": 34
        },
        "outputId": "639953b1-d909-4b71-d652-c315db0ef77d"
      },
      "source": [
        "carro_3"
      ],
      "execution_count": null,
      "outputs": [
        {
          "output_type": "execute_result",
          "data": {
            "text/plain": [
              "'Crossfox'"
            ],
            "application/vnd.google.colaboratory.intrinsic+json": {
              "type": "string"
            }
          },
          "metadata": {},
          "execution_count": 41
        }
      ]
    },
    {
      "cell_type": "code",
      "metadata": {
        "id": "BbR9sB4BD0_k",
        "colab": {
          "base_uri": "https://localhost:8080/",
          "height": 34
        },
        "outputId": "11db6768-0fc7-4237-9e36-ffd310b72815"
      },
      "source": [
        "carro_4"
      ],
      "execution_count": null,
      "outputs": [
        {
          "output_type": "execute_result",
          "data": {
            "text/plain": [
              "'DS5'"
            ],
            "application/vnd.google.colaboratory.intrinsic+json": {
              "type": "string"
            }
          },
          "metadata": {},
          "execution_count": 42
        }
      ]
    },
    {
      "cell_type": "code",
      "metadata": {
        "id": "aZvokrjPD0_m"
      },
      "source": [
        "_, A, _, B = nomes_carros"
      ],
      "execution_count": null,
      "outputs": []
    },
    {
      "cell_type": "code",
      "metadata": {
        "id": "wZXDbVg0D0_o",
        "colab": {
          "base_uri": "https://localhost:8080/",
          "height": 34
        },
        "outputId": "41a4a3d4-61b8-4280-d2b4-7781def71fde"
      },
      "source": [
        "A"
      ],
      "execution_count": null,
      "outputs": [
        {
          "output_type": "execute_result",
          "data": {
            "text/plain": [
              "'Passat'"
            ],
            "application/vnd.google.colaboratory.intrinsic+json": {
              "type": "string"
            }
          },
          "metadata": {},
          "execution_count": 44
        }
      ]
    },
    {
      "cell_type": "code",
      "metadata": {
        "id": "aWgDMBXiD0_p",
        "colab": {
          "base_uri": "https://localhost:8080/",
          "height": 34
        },
        "outputId": "6a741284-8b72-4347-de38-fd5d6679e3e8"
      },
      "source": [
        "B"
      ],
      "execution_count": null,
      "outputs": [
        {
          "output_type": "execute_result",
          "data": {
            "text/plain": [
              "'DS5'"
            ],
            "application/vnd.google.colaboratory.intrinsic+json": {
              "type": "string"
            }
          },
          "metadata": {},
          "execution_count": 45
        }
      ]
    },
    {
      "cell_type": "code",
      "metadata": {
        "id": "OdpgNh-ND0_q"
      },
      "source": [
        "_, C, *_ = nomes_carros"
      ],
      "execution_count": null,
      "outputs": []
    },
    {
      "cell_type": "code",
      "metadata": {
        "id": "upVYFnMdD0_r",
        "colab": {
          "base_uri": "https://localhost:8080/",
          "height": 34
        },
        "outputId": "14a92c03-80af-4dba-9220-e9f64d9d96bc"
      },
      "source": [
        "C"
      ],
      "execution_count": null,
      "outputs": [
        {
          "output_type": "execute_result",
          "data": {
            "text/plain": [
              "'Passat'"
            ],
            "application/vnd.google.colaboratory.intrinsic+json": {
              "type": "string"
            }
          },
          "metadata": {},
          "execution_count": 47
        }
      ]
    },
    {
      "cell_type": "markdown",
      "metadata": {
        "id": "u85Aou8WD0_s"
      },
      "source": [
        "## *zip()*\n",
        "\n",
        "https://docs.python.org/3.6/library/functions.html#zip"
      ]
    },
    {
      "cell_type": "code",
      "metadata": {
        "id": "PaC2oXGED0_t",
        "colab": {
          "base_uri": "https://localhost:8080/"
        },
        "outputId": "d8ef08f6-38ba-47c7-9198-6647db5255c1"
      },
      "source": [
        "carros = ['Jetta Variant', 'Passat', 'Crossfox', 'DS5']\n",
        "carros"
      ],
      "execution_count": null,
      "outputs": [
        {
          "output_type": "execute_result",
          "data": {
            "text/plain": [
              "['Jetta Variant', 'Passat', 'Crossfox', 'DS5']"
            ]
          },
          "metadata": {},
          "execution_count": 48
        }
      ]
    },
    {
      "cell_type": "code",
      "metadata": {
        "id": "_02O1VnHD0_u",
        "colab": {
          "base_uri": "https://localhost:8080/"
        },
        "outputId": "d8057952-24f9-453a-bba2-8a9a48317c2a"
      },
      "source": [
        "valores = [88078.64, 106161.94, 72832.16, 124549.07]\n",
        "valores"
      ],
      "execution_count": null,
      "outputs": [
        {
          "output_type": "execute_result",
          "data": {
            "text/plain": [
              "[88078.64, 106161.94, 72832.16, 124549.07]"
            ]
          },
          "metadata": {},
          "execution_count": 49
        }
      ]
    },
    {
      "cell_type": "code",
      "metadata": {
        "id": "roQK5nYRD0_v",
        "colab": {
          "base_uri": "https://localhost:8080/"
        },
        "outputId": "429ce301-37ff-4d6c-ee90-bd902a61b6af"
      },
      "source": [
        "list(zip(carros, valores))"
      ],
      "execution_count": null,
      "outputs": [
        {
          "output_type": "execute_result",
          "data": {
            "text/plain": [
              "[('Jetta Variant', 88078.64),\n",
              " ('Passat', 106161.94),\n",
              " ('Crossfox', 72832.16),\n",
              " ('DS5', 124549.07)]"
            ]
          },
          "metadata": {},
          "execution_count": 51
        }
      ]
    },
    {
      "cell_type": "code",
      "metadata": {
        "id": "_WRxIRHrD0_w",
        "colab": {
          "base_uri": "https://localhost:8080/"
        },
        "outputId": "6d8e41c2-2873-4b83-d17b-181ebfea3bc0"
      },
      "source": [
        "for item in zip(carros, valores):\n",
        "    print(item)"
      ],
      "execution_count": null,
      "outputs": [
        {
          "output_type": "stream",
          "name": "stdout",
          "text": [
            "('Jetta Variant', 88078.64)\n",
            "('Passat', 106161.94)\n",
            "('Crossfox', 72832.16)\n",
            "('DS5', 124549.07)\n"
          ]
        }
      ]
    },
    {
      "cell_type": "code",
      "metadata": {
        "id": "2zIuhIILD0_x",
        "colab": {
          "base_uri": "https://localhost:8080/"
        },
        "outputId": "5fc93707-2001-42f0-bc24-fa3e88906adf"
      },
      "source": [
        "for carro, valor in zip(carros, valores):\n",
        "    print(carro, valor)"
      ],
      "execution_count": null,
      "outputs": [
        {
          "output_type": "stream",
          "name": "stdout",
          "text": [
            "Jetta Variant 88078.64\n",
            "Passat 106161.94\n",
            "Crossfox 72832.16\n",
            "DS5 124549.07\n"
          ]
        }
      ]
    },
    {
      "cell_type": "code",
      "metadata": {
        "id": "ZJaL62IpD0_y",
        "colab": {
          "base_uri": "https://localhost:8080/"
        },
        "outputId": "43f75211-b725-4321-8992-896d272a6c2a"
      },
      "source": [
        "for carro, valor in zip(carros, valores):\n",
        "    if(valor>100000):\n",
        "      print(carro)"
      ],
      "execution_count": null,
      "outputs": [
        {
          "output_type": "stream",
          "name": "stdout",
          "text": [
            "Passat\n",
            "DS5\n"
          ]
        }
      ]
    },
    {
      "cell_type": "markdown",
      "metadata": {
        "id": "xo76nR8rD0_0"
      },
      "source": [
        "# <font color=green> 3. TRABALHANDO COM DICIONÁRIOS\n",
        "---"
      ]
    },
    {
      "cell_type": "markdown",
      "metadata": {
        "id": "wfWzOuztD0_0"
      },
      "source": [
        "# 3.1 Criando dicionários\n",
        "\n",
        "Listas são coleções sequenciais, isto é, os itens destas sequências estão ordenados e utilizam índices (números inteiros) para acessar os valores.\n",
        "\n",
        "Os dicionários são coleções um pouco diferentes. São estruturas de dados que representam um tipo de mapeamento. Mapeamentos são coleções de associações entre pares de valores onde o primeiro elemento do par é conhecido como chave (*key*) e o segundo como valor (*value*).\n",
        "\n",
        "```\n",
        "dicionario = {key_1: value_1, key_2: value_2, ..., key_n: value_n}\n",
        "```\n",
        "\n",
        "https://docs.python.org/3.6/library/stdtypes.html#typesmapping"
      ]
    },
    {
      "cell_type": "code",
      "metadata": {
        "id": "YIFVkWT6D0_1",
        "colab": {
          "base_uri": "https://localhost:8080/"
        },
        "outputId": "d5bda2f7-0721-4621-d6d7-93313b48954a"
      },
      "source": [
        "carros = ['Jetta Variant', 'Passat', 'Crossfox']\n",
        "carros"
      ],
      "execution_count": null,
      "outputs": [
        {
          "output_type": "execute_result",
          "data": {
            "text/plain": [
              "['Jetta Variant', 'Passat', 'Crossfox']"
            ]
          },
          "metadata": {},
          "execution_count": 1
        }
      ]
    },
    {
      "cell_type": "code",
      "metadata": {
        "id": "2LHiBn3-D0_2",
        "colab": {
          "base_uri": "https://localhost:8080/"
        },
        "outputId": "5686a668-c077-48f3-aa2d-308095af1536"
      },
      "source": [
        "valores = [88078.64, 106161.94, 72832.16]\n",
        "valores"
      ],
      "execution_count": null,
      "outputs": [
        {
          "output_type": "execute_result",
          "data": {
            "text/plain": [
              "[88078.64, 106161.94, 72832.16]"
            ]
          },
          "metadata": {},
          "execution_count": 2
        }
      ]
    },
    {
      "cell_type": "code",
      "metadata": {
        "id": "YxLAx_sqD0_4",
        "colab": {
          "base_uri": "https://localhost:8080/"
        },
        "outputId": "c9c91849-a780-4275-a462-41ce538fce42"
      },
      "source": [
        "valores[carros.index('Passat')]"
      ],
      "execution_count": null,
      "outputs": [
        {
          "output_type": "execute_result",
          "data": {
            "text/plain": [
              "106161.94"
            ]
          },
          "metadata": {},
          "execution_count": 3
        }
      ]
    },
    {
      "cell_type": "code",
      "metadata": {
        "id": "WITNWExID0_7",
        "colab": {
          "base_uri": "https://localhost:8080/"
        },
        "outputId": "b2410e9e-ac6a-4d68-cfb1-f3419899ea39"
      },
      "source": [
        "dados = {'Jetta Variant': 88078.64, 'Passat': 106161.94, 'Crossfox': 72832.16}\n",
        "dados"
      ],
      "execution_count": null,
      "outputs": [
        {
          "output_type": "execute_result",
          "data": {
            "text/plain": [
              "{'Jetta Variant': 88078.64, 'Passat': 106161.94, 'Crossfox': 72832.16}"
            ]
          },
          "metadata": {},
          "execution_count": 4
        }
      ]
    },
    {
      "cell_type": "code",
      "metadata": {
        "id": "bHNqoDbTD0_8",
        "colab": {
          "base_uri": "https://localhost:8080/"
        },
        "outputId": "13f592f8-c1d8-4165-d5b1-a849b27b3086"
      },
      "source": [
        "type(dados)"
      ],
      "execution_count": null,
      "outputs": [
        {
          "output_type": "execute_result",
          "data": {
            "text/plain": [
              "dict"
            ]
          },
          "metadata": {},
          "execution_count": 5
        }
      ]
    },
    {
      "cell_type": "code",
      "metadata": {
        "id": "4FyQgmcAD0_9",
        "colab": {
          "base_uri": "https://localhost:8080/"
        },
        "outputId": "00fd6600-9779-4a00-eee0-22d9775070e3"
      },
      "source": [
        "list(zip(carros, valores))"
      ],
      "execution_count": null,
      "outputs": [
        {
          "output_type": "execute_result",
          "data": {
            "text/plain": [
              "[('Jetta Variant', 88078.64), ('Passat', 106161.94), ('Crossfox', 72832.16)]"
            ]
          },
          "metadata": {},
          "execution_count": 6
        }
      ]
    },
    {
      "cell_type": "code",
      "source": [
        "dados = dict(zip(carros, valores))\n",
        "dados"
      ],
      "metadata": {
        "colab": {
          "base_uri": "https://localhost:8080/"
        },
        "id": "SazTlhUYvS9H",
        "outputId": "75789a96-14c8-4918-bd00-bda61479ba72"
      },
      "execution_count": null,
      "outputs": [
        {
          "output_type": "execute_result",
          "data": {
            "text/plain": [
              "{'Jetta Variant': 88078.64, 'Passat': 106161.94, 'Crossfox': 72832.16}"
            ]
          },
          "metadata": {},
          "execution_count": 8
        }
      ]
    },
    {
      "cell_type": "markdown",
      "metadata": {
        "id": "PQg-MLkGD0_-"
      },
      "source": [
        "### Criando dicionários com *zip()*"
      ]
    },
    {
      "cell_type": "code",
      "metadata": {
        "id": "iB4Q_gbND0__"
      },
      "source": [],
      "execution_count": null,
      "outputs": []
    },
    {
      "cell_type": "code",
      "metadata": {
        "id": "mIgZqdKKD1AA"
      },
      "source": [],
      "execution_count": null,
      "outputs": []
    },
    {
      "cell_type": "markdown",
      "metadata": {
        "id": "KYeRqavFD1AD"
      },
      "source": [
        "# 3.2 Operações com dicionários"
      ]
    },
    {
      "cell_type": "markdown",
      "metadata": {
        "id": "KzmWbEltD1AD"
      },
      "source": [
        "## *dict[ key ]*\n",
        "\n",
        "Retorna o valor correspondente à chave (*key*) no dicionário."
      ]
    },
    {
      "cell_type": "code",
      "metadata": {
        "id": "hFFDz6wKD1AD",
        "colab": {
          "base_uri": "https://localhost:8080/"
        },
        "outputId": "b64dc321-f337-4a27-bba7-438121c95730"
      },
      "source": [
        "dados['Passat']"
      ],
      "execution_count": null,
      "outputs": [
        {
          "output_type": "execute_result",
          "data": {
            "text/plain": [
              "106161.94"
            ]
          },
          "metadata": {},
          "execution_count": 10
        }
      ]
    },
    {
      "cell_type": "markdown",
      "metadata": {
        "id": "SWlE6VTBD1AE"
      },
      "source": [
        "## *key in dict*\n",
        "\n",
        "Retorna **True** se a chave (*key*) for encontrada no dicionário."
      ]
    },
    {
      "cell_type": "code",
      "metadata": {
        "id": "Iy88SxBtD1AE",
        "colab": {
          "base_uri": "https://localhost:8080/"
        },
        "outputId": "5171ab30-6f53-4ec0-c0fe-b7743b0dd2bd"
      },
      "source": [
        "'Passat' in dados"
      ],
      "execution_count": null,
      "outputs": [
        {
          "output_type": "execute_result",
          "data": {
            "text/plain": [
              "True"
            ]
          },
          "metadata": {},
          "execution_count": 11
        }
      ]
    },
    {
      "cell_type": "code",
      "metadata": {
        "id": "Oma56NkAD1AF",
        "colab": {
          "base_uri": "https://localhost:8080/"
        },
        "outputId": "3bbd8e1f-e586-4e97-ecc0-18f9812825b9"
      },
      "source": [
        "'Fusca' in dados"
      ],
      "execution_count": null,
      "outputs": [
        {
          "output_type": "execute_result",
          "data": {
            "text/plain": [
              "False"
            ]
          },
          "metadata": {},
          "execution_count": 12
        }
      ]
    },
    {
      "cell_type": "code",
      "metadata": {
        "id": "yS2U-_8gD1AG",
        "colab": {
          "base_uri": "https://localhost:8080/"
        },
        "outputId": "57f83a50-717a-43d7-b695-8773e7c52e15"
      },
      "source": [
        "'Funca' not in dados"
      ],
      "execution_count": null,
      "outputs": [
        {
          "output_type": "execute_result",
          "data": {
            "text/plain": [
              "True"
            ]
          },
          "metadata": {},
          "execution_count": 13
        }
      ]
    },
    {
      "cell_type": "markdown",
      "metadata": {
        "id": "oWbWyDd0D1AI"
      },
      "source": [
        "## *len(dict)*\n",
        "\n",
        "Retorna o número de itens do dicionário."
      ]
    },
    {
      "cell_type": "code",
      "metadata": {
        "id": "k08YkCc1D1AJ",
        "colab": {
          "base_uri": "https://localhost:8080/"
        },
        "outputId": "846e4494-7381-4a22-9a8c-35616275dce8"
      },
      "source": [
        "len(dados)"
      ],
      "execution_count": null,
      "outputs": [
        {
          "output_type": "execute_result",
          "data": {
            "text/plain": [
              "3"
            ]
          },
          "metadata": {},
          "execution_count": 14
        }
      ]
    },
    {
      "cell_type": "markdown",
      "metadata": {
        "id": "yYNqIHJBD1AK"
      },
      "source": [
        "## *dict[ key ] = value*\n",
        "\n",
        "Inclui um item ao dicionário."
      ]
    },
    {
      "cell_type": "code",
      "metadata": {
        "id": "5jj3i52bD1AK"
      },
      "source": [
        "dados['DS5'] = 124549.07"
      ],
      "execution_count": null,
      "outputs": []
    },
    {
      "cell_type": "code",
      "metadata": {
        "id": "y6rso5hLD1AL",
        "colab": {
          "base_uri": "https://localhost:8080/"
        },
        "outputId": "e73d130a-3695-4d40-a7e4-46c6403acefe"
      },
      "source": [
        "dados"
      ],
      "execution_count": null,
      "outputs": [
        {
          "output_type": "execute_result",
          "data": {
            "text/plain": [
              "{'Jetta Variant': 88078.64,\n",
              " 'Passat': 106161.94,\n",
              " 'Crossfox': 72832.16,\n",
              " 'DS5': 124549.07}"
            ]
          },
          "metadata": {},
          "execution_count": 17
        }
      ]
    },
    {
      "cell_type": "markdown",
      "metadata": {
        "id": "_z0JySuqD1AL"
      },
      "source": [
        "## *del dict[ key ]*\n",
        "\n",
        "Remove o item de chave (*key*) do dicionário."
      ]
    },
    {
      "cell_type": "code",
      "metadata": {
        "id": "PPfh6sfID1AM",
        "colab": {
          "base_uri": "https://localhost:8080/"
        },
        "outputId": "22d22d21-0a9c-4db7-9d1a-07d564ec0bf9"
      },
      "source": [
        "dados"
      ],
      "execution_count": null,
      "outputs": [
        {
          "output_type": "execute_result",
          "data": {
            "text/plain": [
              "{'Jetta Variant': 88078.64, 'Crossfox': 72832.16, 'DS5': 124549.07}"
            ]
          },
          "metadata": {},
          "execution_count": 21
        }
      ]
    },
    {
      "cell_type": "code",
      "metadata": {
        "id": "BtjGpXtGD1AN",
        "colab": {
          "base_uri": "https://localhost:8080/",
          "height": 176
        },
        "outputId": "ab8b692e-46df-4ba0-aa19-46180928dbc0"
      },
      "source": [
        "del dados['Passat']\n"
      ],
      "execution_count": null,
      "outputs": [
        {
          "output_type": "error",
          "ename": "KeyError",
          "evalue": "ignored",
          "traceback": [
            "\u001b[0;31m---------------------------------------------------------------------------\u001b[0m",
            "\u001b[0;31mKeyError\u001b[0m                                  Traceback (most recent call last)",
            "\u001b[0;32m<ipython-input-24-875e10d6391c>\u001b[0m in \u001b[0;36m<cell line: 1>\u001b[0;34m()\u001b[0m\n\u001b[0;32m----> 1\u001b[0;31m \u001b[0;32mdel\u001b[0m \u001b[0mdados\u001b[0m\u001b[0;34m[\u001b[0m\u001b[0;34m'Passat'\u001b[0m\u001b[0;34m]\u001b[0m\u001b[0;34m\u001b[0m\u001b[0;34m\u001b[0m\u001b[0m\n\u001b[0m",
            "\u001b[0;31mKeyError\u001b[0m: 'Passat'"
          ]
        }
      ]
    },
    {
      "cell_type": "code",
      "source": [
        "dados"
      ],
      "metadata": {
        "colab": {
          "base_uri": "https://localhost:8080/"
        },
        "id": "hSzaMpX7xlnR",
        "outputId": "bbe010db-7c66-4bc1-cde3-0f2bddf8772d"
      },
      "execution_count": null,
      "outputs": [
        {
          "output_type": "execute_result",
          "data": {
            "text/plain": [
              "{'Jetta Variant': 88078.64, 'Crossfox': 72832.16, 'DS5': 124549.07}"
            ]
          },
          "metadata": {},
          "execution_count": 23
        }
      ]
    },
    {
      "cell_type": "markdown",
      "metadata": {
        "id": "FodJVx5sD1AP"
      },
      "source": [
        "# 3.3 Métodos de dicionários"
      ]
    },
    {
      "cell_type": "markdown",
      "metadata": {
        "id": "7pqdPOkYD1AP"
      },
      "source": [
        "## *dict.update()*\n",
        "\n",
        "Atualiza o dicionário."
      ]
    },
    {
      "cell_type": "code",
      "metadata": {
        "id": "DUySYxKQD1AQ",
        "colab": {
          "base_uri": "https://localhost:8080/"
        },
        "outputId": "a84f43d0-9db7-47e3-8da6-a47201172410"
      },
      "source": [
        "dados.update({ 'Passat': 106161.94})\n",
        "dados"
      ],
      "execution_count": null,
      "outputs": [
        {
          "output_type": "execute_result",
          "data": {
            "text/plain": [
              "{'Jetta Variant': 88078.64,\n",
              " 'Crossfox': 72832.16,\n",
              " 'DS5': 124549.07,\n",
              " 'Passat': 106161.94}"
            ]
          },
          "metadata": {},
          "execution_count": 25
        }
      ]
    },
    {
      "cell_type": "code",
      "metadata": {
        "id": "DLsqp71cD1AR",
        "colab": {
          "base_uri": "https://localhost:8080/"
        },
        "outputId": "e324c3f2-7599-4f84-f09c-3193825de197"
      },
      "source": [
        "dados.update({ 'Passat': 106161.95, 'Fusca':150000})\n",
        "dados"
      ],
      "execution_count": null,
      "outputs": [
        {
          "output_type": "execute_result",
          "data": {
            "text/plain": [
              "{'Jetta Variant': 88078.64,\n",
              " 'Crossfox': 72832.16,\n",
              " 'DS5': 124549.07,\n",
              " 'Passat': 106161.95,\n",
              " 'Fusca': 150000}"
            ]
          },
          "metadata": {},
          "execution_count": 49
        }
      ]
    },
    {
      "cell_type": "markdown",
      "metadata": {
        "id": "JLs5c0DeD1AR"
      },
      "source": [
        "## *dict.copy()*\n",
        "\n",
        "Cria uma cópia do dicionário."
      ]
    },
    {
      "cell_type": "code",
      "metadata": {
        "id": "X9F7OB3eD1AS"
      },
      "source": [
        "dadosCopy = dados.copy()"
      ],
      "execution_count": null,
      "outputs": []
    },
    {
      "cell_type": "code",
      "metadata": {
        "id": "v0rL0bveD1AS",
        "colab": {
          "base_uri": "https://localhost:8080/"
        },
        "outputId": "fcf72c10-81c4-4847-9a07-58a402fa5a9d"
      },
      "source": [
        "dadosCopy"
      ],
      "execution_count": null,
      "outputs": [
        {
          "output_type": "execute_result",
          "data": {
            "text/plain": [
              "{'Jetta Variant': 88078.64,\n",
              " 'Crossfox': 72832.16,\n",
              " 'DS5': 124549.07,\n",
              " 'Passat': 106161.95,\n",
              " 'Fusca': 150000}"
            ]
          },
          "metadata": {},
          "execution_count": 29
        }
      ]
    },
    {
      "cell_type": "code",
      "metadata": {
        "id": "M-abRGGrD1AT",
        "colab": {
          "base_uri": "https://localhost:8080/",
          "height": 194
        },
        "outputId": "ceaeb584-a8ed-4d9e-fd98-39cdd028331c"
      },
      "source": [
        "del  dadosCopy ['Fusca']\n"
      ],
      "execution_count": null,
      "outputs": [
        {
          "output_type": "error",
          "ename": "KeyError",
          "evalue": "ignored",
          "traceback": [
            "\u001b[0;31m---------------------------------------------------------------------------\u001b[0m",
            "\u001b[0;31mKeyError\u001b[0m                                  Traceback (most recent call last)",
            "\u001b[0;32m<ipython-input-32-7f230260c1de>\u001b[0m in \u001b[0;36m<cell line: 1>\u001b[0;34m()\u001b[0m\n\u001b[0;32m----> 1\u001b[0;31m \u001b[0;32mdel\u001b[0m  \u001b[0mdadosCopy\u001b[0m \u001b[0;34m[\u001b[0m\u001b[0;34m'Fusca'\u001b[0m\u001b[0;34m]\u001b[0m\u001b[0;34m\u001b[0m\u001b[0;34m\u001b[0m\u001b[0m\n\u001b[0m\u001b[1;32m      2\u001b[0m \u001b[0mdadosCopy\u001b[0m\u001b[0;34m\u001b[0m\u001b[0;34m\u001b[0m\u001b[0m\n",
            "\u001b[0;31mKeyError\u001b[0m: 'Fusca'"
          ]
        }
      ]
    },
    {
      "cell_type": "code",
      "metadata": {
        "id": "ETBD0TkND1AU",
        "colab": {
          "base_uri": "https://localhost:8080/"
        },
        "outputId": "6e0f5545-e128-498b-ccd8-e5c4f4c52f55"
      },
      "source": [
        "dadosCopy\n"
      ],
      "execution_count": null,
      "outputs": [
        {
          "output_type": "execute_result",
          "data": {
            "text/plain": [
              "{'Jetta Variant': 88078.64,\n",
              " 'Crossfox': 72832.16,\n",
              " 'DS5': 124549.07,\n",
              " 'Passat': 106161.95}"
            ]
          },
          "metadata": {},
          "execution_count": 33
        }
      ]
    },
    {
      "cell_type": "code",
      "source": [
        "dados"
      ],
      "metadata": {
        "colab": {
          "base_uri": "https://localhost:8080/"
        },
        "id": "7JdLU_Z622ba",
        "outputId": "6e65fa37-905c-4727-ff24-c71163690779"
      },
      "execution_count": null,
      "outputs": [
        {
          "output_type": "execute_result",
          "data": {
            "text/plain": [
              "{'Jetta Variant': 88078.64,\n",
              " 'Crossfox': 72832.16,\n",
              " 'DS5': 124549.07,\n",
              " 'Passat': 95000,\n",
              " 'Fusca': 160000}"
            ]
          },
          "metadata": {},
          "execution_count": 48
        }
      ]
    },
    {
      "cell_type": "code",
      "source": [
        "dados.update(Passat = 95000, Fusca = 160000)"
      ],
      "metadata": {
        "id": "INhOHOlp4X5I"
      },
      "execution_count": null,
      "outputs": []
    },
    {
      "cell_type": "code",
      "source": [
        "dados"
      ],
      "metadata": {
        "colab": {
          "base_uri": "https://localhost:8080/"
        },
        "id": "iDVMlcRn4a_J",
        "outputId": "445178f1-21b3-42f3-dded-aec57ec548cd"
      },
      "execution_count": null,
      "outputs": [
        {
          "output_type": "execute_result",
          "data": {
            "text/plain": [
              "{'Jetta Variant': 88078.64,\n",
              " 'Crossfox': 72832.16,\n",
              " 'DS5': 124549.07,\n",
              " 'Passat': 106161.95,\n",
              " 'Fusca': 150000}"
            ]
          },
          "metadata": {},
          "execution_count": 50
        }
      ]
    },
    {
      "cell_type": "markdown",
      "metadata": {
        "id": "mNODkmHCD1AV"
      },
      "source": [
        "## *dict.pop(key[, default ])*\n",
        "\n",
        "Se a chave for encontrada no dicionário, o item é removido e seu valor é retornado. Caso contrário, o valor especificado como *default* é retornado. Se o valor *default* não for fornecido e a chave não for encontrada no dicionário um erro será gerado."
      ]
    },
    {
      "cell_type": "code",
      "metadata": {
        "id": "_4QEPwScD1AW",
        "colab": {
          "base_uri": "https://localhost:8080/"
        },
        "outputId": "1a715495-0995-448c-e50c-0dc9eccea395"
      },
      "source": [
        "dadosCopy"
      ],
      "execution_count": null,
      "outputs": [
        {
          "output_type": "execute_result",
          "data": {
            "text/plain": [
              "{'Jetta Variant': 88078.64,\n",
              " 'Crossfox': 72832.16,\n",
              " 'DS5': 124549.07,\n",
              " 'Passat': 106161.95}"
            ]
          },
          "metadata": {},
          "execution_count": 36
        }
      ]
    },
    {
      "cell_type": "code",
      "metadata": {
        "id": "Hjh0MuymD1AX",
        "colab": {
          "base_uri": "https://localhost:8080/"
        },
        "outputId": "723058fb-7767-4dc7-c238-4b7744cdf166"
      },
      "source": [
        "dadosCopy.pop('Passat')"
      ],
      "execution_count": null,
      "outputs": [
        {
          "output_type": "execute_result",
          "data": {
            "text/plain": [
              "106161.95"
            ]
          },
          "metadata": {},
          "execution_count": 37
        }
      ]
    },
    {
      "cell_type": "code",
      "metadata": {
        "id": "f51rKjkuD1AX",
        "colab": {
          "base_uri": "https://localhost:8080/"
        },
        "outputId": "e074e64c-5530-4461-e9ad-430ffc8899d8"
      },
      "source": [
        "dadosCopy"
      ],
      "execution_count": null,
      "outputs": [
        {
          "output_type": "execute_result",
          "data": {
            "text/plain": [
              "{'Jetta Variant': 88078.64, 'Crossfox': 72832.16, 'DS5': 124549.07}"
            ]
          },
          "metadata": {},
          "execution_count": 38
        }
      ]
    },
    {
      "cell_type": "code",
      "metadata": {
        "id": "Ah4sZ7axD1AZ",
        "colab": {
          "base_uri": "https://localhost:8080/",
          "height": 34
        },
        "outputId": "b58d31d7-bf9f-4e35-f505-a41ccdeef136"
      },
      "source": [
        "dadosCopy.pop('Passat','Chave não encontrada')"
      ],
      "execution_count": null,
      "outputs": [
        {
          "output_type": "execute_result",
          "data": {
            "text/plain": [
              "'Chave não encontrada'"
            ],
            "application/vnd.google.colaboratory.intrinsic+json": {
              "type": "string"
            }
          },
          "metadata": {},
          "execution_count": 39
        }
      ]
    },
    {
      "cell_type": "code",
      "metadata": {
        "id": "SJATRY8RD1Aa",
        "colab": {
          "base_uri": "https://localhost:8080/"
        },
        "outputId": "96a38d0c-d42e-4f9f-a606-d93b66d0c35d"
      },
      "source": [
        "dadosCopy.pop('DS5','Chave não encontrada')"
      ],
      "execution_count": null,
      "outputs": [
        {
          "output_type": "execute_result",
          "data": {
            "text/plain": [
              "124549.07"
            ]
          },
          "metadata": {},
          "execution_count": 40
        }
      ]
    },
    {
      "cell_type": "code",
      "metadata": {
        "id": "V36wHdzmD1Ab",
        "colab": {
          "base_uri": "https://localhost:8080/"
        },
        "outputId": "c44d6c80-5ea7-4b24-8edd-966976944adc"
      },
      "source": [
        "dadosCopy"
      ],
      "execution_count": null,
      "outputs": [
        {
          "output_type": "execute_result",
          "data": {
            "text/plain": [
              "{'Jetta Variant': 88078.64, 'Crossfox': 72832.16}"
            ]
          },
          "metadata": {},
          "execution_count": 41
        }
      ]
    },
    {
      "cell_type": "markdown",
      "metadata": {
        "id": "Q5J0R7d3D1Ag"
      },
      "source": [
        "## *dict.clear()*\n",
        "\n",
        "Remove todos os itens do dicionário."
      ]
    },
    {
      "cell_type": "code",
      "metadata": {
        "id": "AvkP_8mND1Ag"
      },
      "source": [
        "dadosCopy.clear()"
      ],
      "execution_count": null,
      "outputs": []
    },
    {
      "cell_type": "code",
      "metadata": {
        "id": "S69pMYboD1Ah",
        "colab": {
          "base_uri": "https://localhost:8080/"
        },
        "outputId": "73b50878-78df-4fdc-d9db-3329e5365608"
      },
      "source": [
        "dadosCopy"
      ],
      "execution_count": null,
      "outputs": [
        {
          "output_type": "execute_result",
          "data": {
            "text/plain": [
              "{}"
            ]
          },
          "metadata": {},
          "execution_count": 45
        }
      ]
    },
    {
      "cell_type": "code",
      "source": [
        "dados\n"
      ],
      "metadata": {
        "colab": {
          "base_uri": "https://localhost:8080/"
        },
        "id": "byDl3WBEM3A1",
        "outputId": "076dfcdf-3984-464d-d17b-c38c65afba41"
      },
      "execution_count": null,
      "outputs": [
        {
          "output_type": "execute_result",
          "data": {
            "text/plain": [
              "{'Jetta Variant': 88078.64,\n",
              " 'Crossfox': 72832.16,\n",
              " 'DS5': 124549.07,\n",
              " 'Passat': 106161.95,\n",
              " 'Fusca': 150000}"
            ]
          },
          "metadata": {},
          "execution_count": 51
        }
      ]
    },
    {
      "cell_type": "markdown",
      "metadata": {
        "id": "QhoSRfPsD1Ai"
      },
      "source": [
        "# 3.4 Iterando em dicionários"
      ]
    },
    {
      "cell_type": "markdown",
      "metadata": {
        "id": "E-agaqakD1Ai"
      },
      "source": [
        "## *dict.keys()*\n",
        "\n",
        "Retorna uma lista contendo as chaves (*keys*) do dicionário."
      ]
    },
    {
      "cell_type": "code",
      "metadata": {
        "id": "qFADEYmBD1Aj",
        "colab": {
          "base_uri": "https://localhost:8080/"
        },
        "outputId": "63263770-1e82-4b95-f0ea-e763ffef53e2"
      },
      "source": [
        "dados.keys()\n"
      ],
      "execution_count": null,
      "outputs": [
        {
          "output_type": "execute_result",
          "data": {
            "text/plain": [
              "dict_keys(['Jetta Variant', 'Crossfox', 'DS5', 'Passat', 'Fusca'])"
            ]
          },
          "metadata": {},
          "execution_count": 53
        }
      ]
    },
    {
      "cell_type": "code",
      "metadata": {
        "id": "niwh9AgDD1Aj",
        "colab": {
          "base_uri": "https://localhost:8080/"
        },
        "outputId": "ae8568a7-acbc-4fc5-9293-382817e7917f"
      },
      "source": [
        "for key in dados.keys():\n",
        "  print(dados[key])"
      ],
      "execution_count": null,
      "outputs": [
        {
          "output_type": "stream",
          "name": "stdout",
          "text": [
            "88078.64\n",
            "72832.16\n",
            "124549.07\n",
            "106161.95\n",
            "150000\n"
          ]
        }
      ]
    },
    {
      "cell_type": "markdown",
      "metadata": {
        "id": "qFj6Cc7dD1Ak"
      },
      "source": [
        "## *dict.values()*\n",
        "\n",
        "Retorna uma lista com todos os valores (*values*) do dicionário."
      ]
    },
    {
      "cell_type": "code",
      "metadata": {
        "id": "nfpLxrQVD1Al",
        "colab": {
          "base_uri": "https://localhost:8080/"
        },
        "outputId": "c6091d47-8d03-47bf-8e68-d331628bfec8"
      },
      "source": [
        "dados.values()\n"
      ],
      "execution_count": null,
      "outputs": [
        {
          "output_type": "execute_result",
          "data": {
            "text/plain": [
              "dict_values([88078.64, 72832.16, 124549.07, 106161.95, 150000])"
            ]
          },
          "metadata": {},
          "execution_count": 55
        }
      ]
    },
    {
      "cell_type": "markdown",
      "metadata": {
        "id": "-NGRwX0AD1Al"
      },
      "source": [
        "## *dict.items()*\n",
        "\n",
        "Retorna uma lista contendo uma tupla para cada par chave-valor (*key-value*) do dicionário."
      ]
    },
    {
      "cell_type": "code",
      "metadata": {
        "id": "Q2I9_6YvD1Am",
        "colab": {
          "base_uri": "https://localhost:8080/"
        },
        "outputId": "2e351e97-60df-40ea-f2c3-80acb75fb628"
      },
      "source": [
        "dados.items()"
      ],
      "execution_count": null,
      "outputs": [
        {
          "output_type": "execute_result",
          "data": {
            "text/plain": [
              "dict_items([('Jetta Variant', 88078.64), ('Crossfox', 72832.16), ('DS5', 124549.07), ('Passat', 106161.95), ('Fusca', 150000)])"
            ]
          },
          "metadata": {},
          "execution_count": 56
        }
      ]
    },
    {
      "cell_type": "code",
      "metadata": {
        "id": "0j41ZqgQD1Am",
        "colab": {
          "base_uri": "https://localhost:8080/"
        },
        "outputId": "8ac7a170-e520-4165-a44b-15334b303d6c"
      },
      "source": [
        "for item in dados.items():\n",
        "  print(item)"
      ],
      "execution_count": null,
      "outputs": [
        {
          "output_type": "stream",
          "name": "stdout",
          "text": [
            "('Jetta Variant', 88078.64)\n",
            "('Crossfox', 72832.16)\n",
            "('DS5', 124549.07)\n",
            "('Passat', 106161.95)\n",
            "('Fusca', 150000)\n"
          ]
        }
      ]
    },
    {
      "cell_type": "code",
      "metadata": {
        "id": "OVY9rIwFD1An",
        "colab": {
          "base_uri": "https://localhost:8080/"
        },
        "outputId": "4b2bfba4-6dd2-4d60-ae2f-c7740a8edbbb"
      },
      "source": [
        "for key, value in dados.items():\n",
        "  print(key, value)"
      ],
      "execution_count": null,
      "outputs": [
        {
          "output_type": "stream",
          "name": "stdout",
          "text": [
            "Jetta Variant 88078.64\n",
            "Crossfox 72832.16\n",
            "DS5 124549.07\n",
            "Passat 106161.95\n",
            "Fusca 150000\n"
          ]
        }
      ]
    },
    {
      "cell_type": "code",
      "metadata": {
        "id": "ma2Ol8vcD1Ap",
        "colab": {
          "base_uri": "https://localhost:8080/"
        },
        "outputId": "df6d8833-4863-4efc-eaa7-ddd297fc37ab"
      },
      "source": [
        "for key, value in dados.items():\n",
        "  if (value >100000):\n",
        "    print(key)"
      ],
      "execution_count": null,
      "outputs": [
        {
          "output_type": "stream",
          "name": "stdout",
          "text": [
            "DS5\n",
            "Passat\n",
            "Fusca\n"
          ]
        }
      ]
    },
    {
      "cell_type": "markdown",
      "metadata": {
        "id": "-q3AlSg3D1Aq"
      },
      "source": [
        "# <font color=green> 4. FUNÇÕES E PACOTES\n",
        "---\n",
        "    \n",
        "Funções são unidades de código reutilizáveis que realizam uma tarefa específica, podem receber alguma entrada e também podem retornar alguma resultado."
      ]
    },
    {
      "cell_type": "markdown",
      "metadata": {
        "id": "5CfEcU58D1Aq"
      },
      "source": [
        "# 4.1 Built-in function\n",
        "\n",
        "A linguagem Python possui várias funções integradas que estão sempre acessíveis. Algumas já utilizamos em nosso treinamento: type(), print(), zip(), len(), set() etc.\n",
        "\n",
        "https://docs.python.org/3.6/library/functions.html"
      ]
    },
    {
      "cell_type": "code",
      "metadata": {
        "id": "DP7cmY7xD1Aq",
        "colab": {
          "base_uri": "https://localhost:8080/"
        },
        "outputId": "1ab1a0cd-dd1d-43e8-9cdf-255eb2cad152"
      },
      "source": [
        "dados = {'Jetta Variant': 88078.64, 'Passat': 106161.94, 'Crossfox': 72832.16}\n",
        "dados"
      ],
      "execution_count": null,
      "outputs": [
        {
          "output_type": "execute_result",
          "data": {
            "text/plain": [
              "{'Jetta Variant': 88078.64, 'Passat': 106161.94, 'Crossfox': 72832.16}"
            ]
          },
          "metadata": {},
          "execution_count": 61
        }
      ]
    },
    {
      "cell_type": "code",
      "metadata": {
        "id": "5zAcGSCbD1Ar",
        "colab": {
          "base_uri": "https://localhost:8080/"
        },
        "outputId": "91058d75-ed95-4ce5-975d-d50cce5d54ff"
      },
      "source": [
        "valores = []\n",
        "for valor in dados.values():\n",
        "  valores.append(valor)\n",
        "valores"
      ],
      "execution_count": null,
      "outputs": [
        {
          "output_type": "execute_result",
          "data": {
            "text/plain": [
              "[88078.64, 106161.94, 72832.16]"
            ]
          },
          "metadata": {},
          "execution_count": 63
        }
      ]
    },
    {
      "cell_type": "code",
      "metadata": {
        "id": "zG9_jU_1D1At",
        "colab": {
          "base_uri": "https://localhost:8080/"
        },
        "outputId": "583f7dcf-163b-4115-a45f-e0fece285247"
      },
      "source": [
        "soma = 0\n",
        "for valor in dados.values():\n",
        "  soma += valor\n",
        "soma"
      ],
      "execution_count": null,
      "outputs": [
        {
          "output_type": "execute_result",
          "data": {
            "text/plain": [
              "267072.74"
            ]
          },
          "metadata": {},
          "execution_count": 64
        }
      ]
    },
    {
      "cell_type": "code",
      "metadata": {
        "id": "jn0O3uXZD1Au",
        "colab": {
          "base_uri": "https://localhost:8080/"
        },
        "outputId": "33fa985f-6edf-46bc-d215-fe180ccda9d8"
      },
      "source": [
        "list(dados.values())"
      ],
      "execution_count": null,
      "outputs": [
        {
          "output_type": "execute_result",
          "data": {
            "text/plain": [
              "[88078.64, 106161.94, 72832.16]"
            ]
          },
          "metadata": {},
          "execution_count": 65
        }
      ]
    },
    {
      "cell_type": "code",
      "metadata": {
        "id": "lnUjKVnoD1Aw",
        "colab": {
          "base_uri": "https://localhost:8080/"
        },
        "outputId": "5265eb10-9153-4c01-ff8d-9420d36233f9"
      },
      "source": [
        "sum(dados.values())"
      ],
      "execution_count": null,
      "outputs": [
        {
          "output_type": "execute_result",
          "data": {
            "text/plain": [
              "267072.74"
            ]
          },
          "metadata": {},
          "execution_count": 66
        }
      ]
    },
    {
      "cell_type": "code",
      "metadata": {
        "scrolled": false,
        "id": "WdEuYXe2D1Ay",
        "colab": {
          "base_uri": "https://localhost:8080/"
        },
        "outputId": "aff836ea-07d0-46ab-b96b-b56d11458448"
      },
      "source": [
        "help()\n"
      ],
      "execution_count": null,
      "outputs": [
        {
          "output_type": "stream",
          "name": "stdout",
          "text": [
            "\n",
            "Welcome to Python 3.10's help utility!\n",
            "\n",
            "If this is your first time using Python, you should definitely check out\n",
            "the tutorial on the internet at https://docs.python.org/3.10/tutorial/.\n",
            "\n",
            "Enter the name of any module, keyword, or topic to get help on writing\n",
            "Python programs and using Python modules.  To quit this help utility and\n",
            "return to the interpreter, just type \"quit\".\n",
            "\n",
            "To get a list of available modules, keywords, symbols, or topics, type\n",
            "\"modules\", \"keywords\", \"symbols\", or \"topics\".  Each module also comes\n",
            "with a one-line summary of what it does; to list the modules whose name\n",
            "or summary contain a given string such as \"spam\", type \"modules spam\".\n",
            "\n",
            "help> print\n",
            "Help on built-in function print in module builtins:\n",
            "\n",
            "print(...)\n",
            "    print(value, ..., sep=' ', end='\\n', file=sys.stdout, flush=False)\n",
            "    \n",
            "    Prints the values to a stream, or to sys.stdout by default.\n",
            "    Optional keyword arguments:\n",
            "    file:  a file-like object (stream); defaults to the current sys.stdout.\n",
            "    sep:   string inserted between values, default a space.\n",
            "    end:   string appended after the last value, default a newline.\n",
            "    flush: whether to forcibly flush the stream.\n",
            "\n",
            "\n",
            "You are now leaving help and returning to the Python interpreter.\n",
            "If you want to ask for help on a particular object directly from the\n",
            "interpreter, you can type \"help(object)\".  Executing \"help('string')\"\n",
            "has the same effect as typing a particular string at the help> prompt.\n"
          ]
        }
      ]
    },
    {
      "cell_type": "code",
      "metadata": {
        "id": "hIA29O3tD1Az"
      },
      "source": [],
      "execution_count": null,
      "outputs": []
    },
    {
      "cell_type": "markdown",
      "metadata": {
        "id": "6w62Sl5ZD1A0"
      },
      "source": [
        "# 4.2 Definindo funções sem e com parâmetros"
      ]
    },
    {
      "cell_type": "markdown",
      "metadata": {
        "id": "OADZiBP2D1A0"
      },
      "source": [
        "### Funções sem parâmetros\n",
        "\n",
        "#### Formato padrão\n",
        "\n",
        "```\n",
        "def <nome>():\n",
        "    <instruções>\n",
        "```"
      ]
    },
    {
      "cell_type": "code",
      "metadata": {
        "id": "uCkplEpQD1A0"
      },
      "source": [
        "def media():\n",
        "  valor = (1 + 2 + 3)/3\n",
        "  print(valor)"
      ],
      "execution_count": null,
      "outputs": []
    },
    {
      "cell_type": "code",
      "metadata": {
        "id": "fOCEGq5VD1A1"
      },
      "source": [],
      "execution_count": null,
      "outputs": []
    },
    {
      "cell_type": "markdown",
      "metadata": {
        "id": "PwSlYSVAD1A2"
      },
      "source": [
        "### Funções com parâmetros\n",
        "\n",
        "#### Formato padrão\n",
        "\n",
        "```\n",
        "def <nome>(<param_1>, <param_2>, ..., <param_n>):\n",
        "    <instruções>\n",
        "```"
      ]
    },
    {
      "cell_type": "code",
      "metadata": {
        "id": "A3YnBUduD1A3"
      },
      "source": [
        "def media (number_1, number_2, number_3):\n",
        "  valor = (number_1 + number_2 + number_3) / 3\n",
        "  print(valor)"
      ],
      "execution_count": null,
      "outputs": []
    },
    {
      "cell_type": "code",
      "metadata": {
        "id": "rGUZbRERD1A3",
        "colab": {
          "base_uri": "https://localhost:8080/"
        },
        "outputId": "14ac9fcc-43cd-4dfa-c613-b9679b49e11b"
      },
      "source": [
        "media(1,2,3)"
      ],
      "execution_count": null,
      "outputs": [
        {
          "output_type": "stream",
          "name": "stdout",
          "text": [
            "2.0\n"
          ]
        }
      ]
    },
    {
      "cell_type": "code",
      "metadata": {
        "id": "B9WDlRE7D1A5",
        "colab": {
          "base_uri": "https://localhost:8080/"
        },
        "outputId": "f08aef68-8174-4585-dc9d-81d2e80873f9"
      },
      "source": [
        "media(23,45,67)"
      ],
      "execution_count": null,
      "outputs": [
        {
          "output_type": "stream",
          "name": "stdout",
          "text": [
            "45.0\n"
          ]
        }
      ]
    },
    {
      "cell_type": "code",
      "metadata": {
        "id": "1HAy8OK_D1A6"
      },
      "source": [
        "def media(lista):\n",
        "  valor = sum(lista) / len(lista)\n",
        "  print(valor) #por conter o print ele define a função como none e retorna só retorna o valor quando a função é colocada inicialmente na variavel, mas se tentar mostrar novamente o valor da variavel ela estara vazia por estar definida como none"
      ],
      "execution_count": null,
      "outputs": []
    },
    {
      "cell_type": "code",
      "metadata": {
        "id": "_CDa4oOfD1A6",
        "colab": {
          "base_uri": "https://localhost:8080/"
        },
        "outputId": "87ae473e-5a00-4a15-b3df-140dfe783482"
      },
      "source": [
        "media([1,2,3,4,5,6,7,8,9])"
      ],
      "execution_count": null,
      "outputs": [
        {
          "output_type": "stream",
          "name": "stdout",
          "text": [
            "5.0\n"
          ]
        }
      ]
    },
    {
      "cell_type": "markdown",
      "metadata": {
        "id": "8zNYrmFbD1A9"
      },
      "source": [
        "# 4.3 Definindo funções que retornam valores"
      ]
    },
    {
      "cell_type": "markdown",
      "metadata": {
        "id": "J44K-dMOD1A9"
      },
      "source": [
        "### Funções que retornam um valor\n",
        "\n",
        "#### Formato padrão\n",
        "\n",
        "```\n",
        "def <nome>(<param_1>, <param_2>, ..., <param_n>):\n",
        "    <instruções>\n",
        "    return <resultado>\n",
        "```"
      ]
    },
    {
      "cell_type": "code",
      "metadata": {
        "id": "-UG42RQJD1A9"
      },
      "source": [],
      "execution_count": null,
      "outputs": []
    },
    {
      "cell_type": "code",
      "metadata": {
        "id": "VJwdvoT5D1A-"
      },
      "source": [],
      "execution_count": null,
      "outputs": []
    },
    {
      "cell_type": "code",
      "metadata": {
        "id": "AgAeJkpND1A-"
      },
      "source": [],
      "execution_count": null,
      "outputs": []
    },
    {
      "cell_type": "code",
      "metadata": {
        "id": "_r616TevD1A_"
      },
      "source": [],
      "execution_count": null,
      "outputs": []
    },
    {
      "cell_type": "markdown",
      "metadata": {
        "id": "MQaK8GV5D1BA"
      },
      "source": [
        "### Funções que retornam mais de um valor\n",
        "\n",
        "#### Formato padrão\n",
        "\n",
        "```\n",
        "def <nome>(<param_1>, <param_2>, ..., <param_n>):\n",
        "    <instruções>\n",
        "    return (<resultado_1>, <resultado_2>, ..., <resultado_n>)\n",
        "```"
      ]
    },
    {
      "cell_type": "code",
      "metadata": {
        "id": "v0PUMegVD1BA"
      },
      "source": [],
      "execution_count": null,
      "outputs": []
    },
    {
      "cell_type": "code",
      "metadata": {
        "id": "Ys-etom8D1BA"
      },
      "source": [],
      "execution_count": null,
      "outputs": []
    },
    {
      "cell_type": "code",
      "metadata": {
        "id": "LERrvkMHD1BC"
      },
      "source": [],
      "execution_count": null,
      "outputs": []
    },
    {
      "cell_type": "code",
      "metadata": {
        "id": "sqoFOWSsD1BC"
      },
      "source": [],
      "execution_count": null,
      "outputs": []
    },
    {
      "cell_type": "code",
      "metadata": {
        "id": "NdB_Jyw_D1BD"
      },
      "source": [],
      "execution_count": null,
      "outputs": []
    },
    {
      "cell_type": "markdown",
      "metadata": {
        "id": "uQ5lNnKrD1BD"
      },
      "source": [
        "# <font color=green> 5. PANDAS BÁSICO\n",
        "---\n",
        "\n",
        "**versão: 0.25.2**\n",
        "  \n",
        "Pandas é uma ferramenta de manipulação de dados de alto nível, construída com base no pacote Numpy. O pacote pandas possui estruturas de dados bastante interessantes para manipulação de dados e por isso é muito utilizado por cientistas de dados.\n",
        "\n",
        "\n",
        "## Estruturas de Dados\n",
        "\n",
        "### Series\n",
        "\n",
        "Series são arrays unidimensionais rotulados capazes de armazenar qualquer tipo de dado. Os rótulos das linhas são chamados de **index**. A forma básica de criação de uma Series é a seguinte:\n",
        "\n",
        "\n",
        "```\n",
        "    s = pd.Series(dados, index = index)\n",
        "```\n",
        "\n",
        "O argumento *dados* pode ser um dicionário, uma lista, um array Numpy ou uma constante.\n",
        "\n",
        "### DataFrames\n",
        "\n",
        "DataFrame é uma estrutura de dados tabular bidimensional com rótulos nas linha e colunas. Como a Series, os DataFrames são capazes de armazenar qualquer tipo de dados.\n",
        "\n",
        "\n",
        "```\n",
        "    df = pd.DataFrame(dados, index = index, columns = columns)\n",
        "```\n",
        "\n",
        "O argumento *dados* pode ser um dicionário, uma lista, um array Numpy, uma Series e outro DataFrame.\n",
        "\n",
        "**Documentação:** https://pandas.pydata.org/pandas-docs/version/0.25/"
      ]
    },
    {
      "cell_type": "markdown",
      "metadata": {
        "id": "2qa7RC03D1BD"
      },
      "source": [
        "# 5.1 Estruturas de dados"
      ]
    },
    {
      "cell_type": "code",
      "metadata": {
        "id": "4QyFDeS4D1BD"
      },
      "source": [],
      "execution_count": null,
      "outputs": []
    },
    {
      "cell_type": "markdown",
      "metadata": {
        "id": "kIey8_OcD1BF"
      },
      "source": [
        "### Criando uma Series a partir de uma lista"
      ]
    },
    {
      "cell_type": "code",
      "metadata": {
        "id": "yEZR6DWiD1BF"
      },
      "source": [],
      "execution_count": null,
      "outputs": []
    },
    {
      "cell_type": "code",
      "metadata": {
        "id": "rLudWKZ_D1BF"
      },
      "source": [],
      "execution_count": null,
      "outputs": []
    },
    {
      "cell_type": "markdown",
      "metadata": {
        "id": "VYVIKd1-D1BG"
      },
      "source": [
        "### Criando um DataFrame a partir de uma lista de dicionários"
      ]
    },
    {
      "cell_type": "code",
      "metadata": {
        "id": "QFNS9PckD1BG"
      },
      "source": [
        "dados = [\n",
        "    {'Nome': 'Jetta Variant', 'Motor': 'Motor 4.0 Turbo', 'Ano': 2003, 'Quilometragem': 44410.0, 'Zero_km': False, 'Valor': 88078.64},\n",
        "    {'Nome': 'Passat', 'Motor': 'Motor Diesel', 'Ano': 1991, 'Quilometragem': 5712.0, 'Zero_km': False, 'Valor': 106161.94},\n",
        "    {'Nome': 'Crossfox', 'Motor': 'Motor Diesel V8', 'Ano': 1990, 'Quilometragem': 37123.0, 'Zero_km': False, 'Valor': 72832.16}\n",
        "]"
      ],
      "execution_count": null,
      "outputs": []
    },
    {
      "cell_type": "code",
      "metadata": {
        "id": "WDQb9AnKD1BH"
      },
      "source": [],
      "execution_count": null,
      "outputs": []
    },
    {
      "cell_type": "code",
      "metadata": {
        "id": "-2-jGvmGD1BI"
      },
      "source": [],
      "execution_count": null,
      "outputs": []
    },
    {
      "cell_type": "code",
      "metadata": {
        "id": "2kbyOThiD1BJ"
      },
      "source": [],
      "execution_count": null,
      "outputs": []
    },
    {
      "cell_type": "markdown",
      "metadata": {
        "id": "pJK2tQgYD1BK"
      },
      "source": [
        "### Criando um DataFrame a partir de um dicionário"
      ]
    },
    {
      "cell_type": "code",
      "metadata": {
        "id": "WKNQwKucD1BK"
      },
      "source": [
        "dados = {\n",
        "    'Nome': ['Jetta Variant', 'Passat', 'Crossfox'],\n",
        "    'Motor': ['Motor 4.0 Turbo', 'Motor Diesel', 'Motor Diesel V8'],\n",
        "    'Ano': [2003, 1991, 1990],\n",
        "    'Quilometragem': [44410.0, 5712.0, 37123.0],\n",
        "    'Zero_km': [False, False, False],\n",
        "    'Valor': [88078.64, 106161.94, 72832.16]\n",
        "}"
      ],
      "execution_count": null,
      "outputs": []
    },
    {
      "cell_type": "code",
      "metadata": {
        "id": "lKnuZfzcD1BK"
      },
      "source": [],
      "execution_count": null,
      "outputs": []
    },
    {
      "cell_type": "code",
      "metadata": {
        "id": "PNqTytC-D1BL"
      },
      "source": [],
      "execution_count": null,
      "outputs": []
    },
    {
      "cell_type": "markdown",
      "metadata": {
        "id": "fCCXs0reD1BL"
      },
      "source": [
        "### Criando um DataFrame a partir de uma arquivo externo"
      ]
    },
    {
      "cell_type": "code",
      "metadata": {
        "id": "78PRHGeZD1BL"
      },
      "source": [],
      "execution_count": null,
      "outputs": []
    },
    {
      "cell_type": "code",
      "metadata": {
        "scrolled": true,
        "id": "1o1YlnVPD1BM"
      },
      "source": [],
      "execution_count": null,
      "outputs": []
    },
    {
      "cell_type": "markdown",
      "metadata": {
        "id": "y5V-1AK-D1BN"
      },
      "source": [
        "# 5.2 Seleções com DataFrames"
      ]
    },
    {
      "cell_type": "markdown",
      "metadata": {
        "id": "wZjqlHe9D1BN"
      },
      "source": [
        "### Selecionando colunas"
      ]
    },
    {
      "cell_type": "code",
      "metadata": {
        "scrolled": true,
        "id": "gM3LbtzlD1BN"
      },
      "source": [],
      "execution_count": null,
      "outputs": []
    },
    {
      "cell_type": "code",
      "metadata": {
        "id": "R2FWgCM_D1BO"
      },
      "source": [],
      "execution_count": null,
      "outputs": []
    },
    {
      "cell_type": "code",
      "metadata": {
        "scrolled": true,
        "id": "lCCumsxsD1BP"
      },
      "source": [],
      "execution_count": null,
      "outputs": []
    },
    {
      "cell_type": "code",
      "metadata": {
        "id": "zxlyC3B8D1BP"
      },
      "source": [],
      "execution_count": null,
      "outputs": []
    },
    {
      "cell_type": "markdown",
      "metadata": {
        "id": "7RPXPm1XD1BQ"
      },
      "source": [
        "### Selecionando linhas - [ i : j ]\n",
        "\n",
        "<font color=red>**Observação:**</font> A indexação tem origem no zero e nos fatiamentos (*slices*) a linha com índice i é **incluída** e a linha com índice j **não é incluída** no resultado."
      ]
    },
    {
      "cell_type": "code",
      "metadata": {
        "id": "PdDUwPw3D1BQ"
      },
      "source": [],
      "execution_count": null,
      "outputs": []
    },
    {
      "cell_type": "markdown",
      "metadata": {
        "id": "G3DMSk97D1BR"
      },
      "source": [
        "### Utilizando .loc para seleções\n",
        "\n",
        "<font color=red>**Observação:**</font> Seleciona um grupo de linhas e colunas segundo os rótulos ou uma matriz booleana."
      ]
    },
    {
      "cell_type": "code",
      "metadata": {
        "id": "Ftg-hNOoD1BR"
      },
      "source": [],
      "execution_count": null,
      "outputs": []
    },
    {
      "cell_type": "code",
      "metadata": {
        "id": "xdxkDrHvD1BS"
      },
      "source": [],
      "execution_count": null,
      "outputs": []
    },
    {
      "cell_type": "code",
      "metadata": {
        "id": "pMN3U1KjD1BS"
      },
      "source": [],
      "execution_count": null,
      "outputs": []
    },
    {
      "cell_type": "code",
      "metadata": {
        "scrolled": true,
        "id": "oOEO72uZD1BT"
      },
      "source": [],
      "execution_count": null,
      "outputs": []
    },
    {
      "cell_type": "markdown",
      "metadata": {
        "id": "SYKEe3vCD1BT"
      },
      "source": [
        "### Utilizando .iloc para seleções\n",
        "\n",
        "<font color=red>**Observação:**</font> Seleciona com base nos índices, ou seja, se baseia na posição das informações."
      ]
    },
    {
      "cell_type": "code",
      "metadata": {
        "id": "U4Bru90bD1BT"
      },
      "source": [],
      "execution_count": null,
      "outputs": []
    },
    {
      "cell_type": "code",
      "metadata": {
        "id": "iLKUyrzND1BU"
      },
      "source": [],
      "execution_count": null,
      "outputs": []
    },
    {
      "cell_type": "code",
      "metadata": {
        "id": "KGZpixYUD1BU"
      },
      "source": [],
      "execution_count": null,
      "outputs": []
    },
    {
      "cell_type": "code",
      "metadata": {
        "id": "GxdqIz4LD1BV"
      },
      "source": [],
      "execution_count": null,
      "outputs": []
    },
    {
      "cell_type": "code",
      "metadata": {
        "scrolled": true,
        "id": "AVIhs7uLD1BW"
      },
      "source": [],
      "execution_count": null,
      "outputs": []
    },
    {
      "cell_type": "markdown",
      "metadata": {
        "id": "eAbwq1oLD1BW"
      },
      "source": [
        "# 5.3 Queries com DataFrames"
      ]
    },
    {
      "cell_type": "code",
      "metadata": {
        "scrolled": true,
        "id": "AOZTWzehD1BW"
      },
      "source": [],
      "execution_count": null,
      "outputs": []
    },
    {
      "cell_type": "code",
      "metadata": {
        "scrolled": true,
        "id": "rO5T4h94D1BX"
      },
      "source": [],
      "execution_count": null,
      "outputs": []
    },
    {
      "cell_type": "code",
      "metadata": {
        "id": "STZ-l8oaD1BX"
      },
      "source": [],
      "execution_count": null,
      "outputs": []
    },
    {
      "cell_type": "code",
      "metadata": {
        "id": "OZC8NAn6D1BX"
      },
      "source": [],
      "execution_count": null,
      "outputs": []
    },
    {
      "cell_type": "code",
      "metadata": {
        "scrolled": true,
        "id": "OzXC2M40D1BY"
      },
      "source": [],
      "execution_count": null,
      "outputs": []
    },
    {
      "cell_type": "markdown",
      "metadata": {
        "id": "_XKXcWO-D1BY"
      },
      "source": [
        "### Utilizando o método query"
      ]
    },
    {
      "cell_type": "code",
      "metadata": {
        "id": "AB9JirSoD1BY"
      },
      "source": [],
      "execution_count": null,
      "outputs": []
    },
    {
      "cell_type": "markdown",
      "metadata": {
        "id": "ciJ4dw_FD1BZ"
      },
      "source": [
        "# 5.4 Iterando com DataFrames"
      ]
    },
    {
      "cell_type": "code",
      "metadata": {
        "id": "TKAB-g5KD1BZ"
      },
      "source": [],
      "execution_count": null,
      "outputs": []
    },
    {
      "cell_type": "code",
      "metadata": {
        "id": "eFTNtPRWD1Ba"
      },
      "source": [],
      "execution_count": null,
      "outputs": []
    },
    {
      "cell_type": "markdown",
      "metadata": {
        "id": "HnUzHFQPD1Ba"
      },
      "source": [
        "# 5.5 Tratamento de dados"
      ]
    },
    {
      "cell_type": "code",
      "metadata": {
        "id": "FRxBWoBGD1Ba"
      },
      "source": [],
      "execution_count": null,
      "outputs": []
    },
    {
      "cell_type": "code",
      "metadata": {
        "id": "HHSwH0ZaD1Bc"
      },
      "source": [],
      "execution_count": null,
      "outputs": []
    },
    {
      "cell_type": "code",
      "metadata": {
        "scrolled": true,
        "id": "G27pxgZ5D1Bd"
      },
      "source": [],
      "execution_count": null,
      "outputs": []
    },
    {
      "cell_type": "code",
      "metadata": {
        "scrolled": true,
        "id": "DhlRbxy2D1Bd"
      },
      "source": [],
      "execution_count": null,
      "outputs": []
    },
    {
      "cell_type": "code",
      "metadata": {
        "id": "OL04QU5RD1Be"
      },
      "source": [],
      "execution_count": null,
      "outputs": []
    },
    {
      "cell_type": "code",
      "metadata": {
        "scrolled": true,
        "id": "fTH2JkGDD1Bf"
      },
      "source": [],
      "execution_count": null,
      "outputs": []
    },
    {
      "cell_type": "code",
      "metadata": {
        "id": "lure2GvpD1Bg"
      },
      "source": [],
      "execution_count": null,
      "outputs": []
    },
    {
      "cell_type": "code",
      "metadata": {
        "id": "4-ZvhXjvD1Bj"
      },
      "source": [],
      "execution_count": null,
      "outputs": []
    },
    {
      "cell_type": "code",
      "metadata": {
        "scrolled": true,
        "id": "MQUw7i1OD1Bk"
      },
      "source": [],
      "execution_count": null,
      "outputs": []
    },
    {
      "cell_type": "code",
      "metadata": {
        "id": "U4Cse7miD1Bl"
      },
      "source": [],
      "execution_count": null,
      "outputs": []
    },
    {
      "cell_type": "code",
      "metadata": {
        "scrolled": true,
        "id": "8L4wum05D1Bl"
      },
      "source": [],
      "execution_count": null,
      "outputs": []
    },
    {
      "cell_type": "code",
      "metadata": {
        "id": "8iLOc-U3D1Bm"
      },
      "source": [],
      "execution_count": null,
      "outputs": []
    }
  ]
}